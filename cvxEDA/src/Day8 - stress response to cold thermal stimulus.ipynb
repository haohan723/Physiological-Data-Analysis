{
 "cells": [
  {
   "cell_type": "markdown",
   "metadata": {},
   "source": [
    "# Reference"
   ]
  },
  {
   "cell_type": "markdown",
   "metadata": {},
   "source": [
    "**Feature Extraction and Statistical Analysis**\n",
    "\n",
    "Following the same approach used in the affective touch protocol, we extracted the features as summarized in table: \n",
    "\n",
    "1. Npeak: Number of significant SMNA peaks wrw\n",
    "2. AUC: Area under curve of reconstructed phasic signal wrw (mus s)\n",
    "3. Peak: Maximum amplitude of significant peaks of SMNA signal wrw \n",
    "4. Mean Tonic: Mean value of the tonic component within each image time window \n"
   ]
  },
  {
   "cell_type": "markdown",
   "metadata": {},
   "source": [
    "Likewise, the affective touch, a statiscal analysis among the 5 smells were performed on the arousal and valence scores, and on the EDA phasic and tonic features. \n",
    "\n",
    "We distinguished the _event-related phasic analysis_ i.e. EDA was studied within a time window of 5s correspondent to the affective stimulus session, and the _non specific fluctuation and tonic analysis_ comprising the tonic level comparison and the differential value of the tonic features between the post- and pre stimulus session.\n",
    "\n",
    "the difference among the smeels were studied using the **Friedman test**, and in case of rejection of the **Friedman test** null hypothesis, a post-hoc analysis was performaed by means of a **Bonferroni corrected Wilcoxon signed-rank**."
   ]
  },
  {
   "cell_type": "markdown",
   "metadata": {},
   "source": [
    "# Import data "
   ]
  },
  {
   "cell_type": "code",
   "execution_count": 1,
   "metadata": {},
   "outputs": [],
   "source": [
    "import numpy as np \n",
    "# import tensorflow as tf\n",
    "import pandas as pd\n",
    "import matplotlib.pyplot as plt\n",
    "import seaborn as sns\n",
    "import cvxEDA\n",
    "import datetime\n",
    "from scipy import stats\n",
    "from mpl_toolkits import mplot3d\n",
    "import pylab as pl\n",
    "from mpl_toolkits.mplot3d import Axes3D\n",
    "from sklearn.cluster import KMeans\n",
    "from sklearn.datasets import make_blobs\n",
    "from scipy.stats import ks_2samp\n",
    "from scipy.stats import ttest_1samp, wilcoxon, ttest_ind, mannwhitneyu\n",
    "from sklearn.preprocessing import normalize\n",
    "sns.set(color_codes = True)\n",
    "%matplotlib inline\n",
    "%config InlineBackend.figure_format = 'retina'"
   ]
  },
  {
   "cell_type": "code",
   "execution_count": 2,
   "metadata": {},
   "outputs": [
    {
     "name": "stdout",
     "output_type": "stream",
     "text": [
      "5288\n",
      "freq:  [4.]\n"
     ]
    },
    {
     "data": {
      "text/html": [
       "<div>\n",
       "<style scoped>\n",
       "    .dataframe tbody tr th:only-of-type {\n",
       "        vertical-align: middle;\n",
       "    }\n",
       "\n",
       "    .dataframe tbody tr th {\n",
       "        vertical-align: top;\n",
       "    }\n",
       "\n",
       "    .dataframe thead th {\n",
       "        text-align: right;\n",
       "    }\n",
       "</style>\n",
       "<table border=\"1\" class=\"dataframe\">\n",
       "  <thead>\n",
       "    <tr style=\"text-align: right;\">\n",
       "      <th></th>\n",
       "      <th>eda</th>\n",
       "    </tr>\n",
       "  </thead>\n",
       "  <tbody>\n",
       "    <tr>\n",
       "      <th>0</th>\n",
       "      <td>1.528507e+09</td>\n",
       "    </tr>\n",
       "    <tr>\n",
       "      <th>1</th>\n",
       "      <td>4.000000e+00</td>\n",
       "    </tr>\n",
       "    <tr>\n",
       "      <th>2</th>\n",
       "      <td>0.000000e+00</td>\n",
       "    </tr>\n",
       "    <tr>\n",
       "      <th>3</th>\n",
       "      <td>4.109610e-01</td>\n",
       "    </tr>\n",
       "    <tr>\n",
       "      <th>4</th>\n",
       "      <td>4.775340e-01</td>\n",
       "    </tr>\n",
       "    <tr>\n",
       "      <th>5</th>\n",
       "      <td>4.839350e-01</td>\n",
       "    </tr>\n",
       "    <tr>\n",
       "      <th>6</th>\n",
       "      <td>4.800940e-01</td>\n",
       "    </tr>\n",
       "    <tr>\n",
       "      <th>7</th>\n",
       "      <td>4.800940e-01</td>\n",
       "    </tr>\n",
       "    <tr>\n",
       "      <th>8</th>\n",
       "      <td>4.775340e-01</td>\n",
       "    </tr>\n",
       "    <tr>\n",
       "      <th>9</th>\n",
       "      <td>4.749730e-01</td>\n",
       "    </tr>\n",
       "  </tbody>\n",
       "</table>\n",
       "</div>"
      ],
      "text/plain": [
       "            eda\n",
       "0  1.528507e+09\n",
       "1  4.000000e+00\n",
       "2  0.000000e+00\n",
       "3  4.109610e-01\n",
       "4  4.775340e-01\n",
       "5  4.839350e-01\n",
       "6  4.800940e-01\n",
       "7  4.800940e-01\n",
       "8  4.775340e-01\n",
       "9  4.749730e-01"
      ]
     },
     "execution_count": 2,
     "metadata": {},
     "output_type": "execute_result"
    }
   ],
   "source": [
    "# Sampling frequency 4Hz ~= 0.25s\n",
    "fl_eda_8 = pd.read_csv('data/exp_8/EDA.csv' , header= None)\n",
    "fl_eda_8.columns  = ['eda']\n",
    "fl_eda_freq_8 = fl_eda_8.iloc[1].values\n",
    "print(len(fl_eda_8))\n",
    "print('freq: ', fl_eda_freq_8)\n",
    "fl_eda_8.head(10)"
   ]
  },
  {
   "cell_type": "code",
   "execution_count": 3,
   "metadata": {},
   "outputs": [
    {
     "name": "stdout",
     "output_type": "stream",
     "text": [
      "5290\n",
      "freq:  [4.]\n"
     ]
    },
    {
     "data": {
      "text/html": [
       "<div>\n",
       "<style scoped>\n",
       "    .dataframe tbody tr th:only-of-type {\n",
       "        vertical-align: middle;\n",
       "    }\n",
       "\n",
       "    .dataframe tbody tr th {\n",
       "        vertical-align: top;\n",
       "    }\n",
       "\n",
       "    .dataframe thead th {\n",
       "        text-align: right;\n",
       "    }\n",
       "</style>\n",
       "<table border=\"1\" class=\"dataframe\">\n",
       "  <thead>\n",
       "    <tr style=\"text-align: right;\">\n",
       "      <th></th>\n",
       "      <th>temp</th>\n",
       "    </tr>\n",
       "  </thead>\n",
       "  <tbody>\n",
       "    <tr>\n",
       "      <th>0</th>\n",
       "      <td>1.528507e+09</td>\n",
       "    </tr>\n",
       "    <tr>\n",
       "      <th>1</th>\n",
       "      <td>4.000000e+00</td>\n",
       "    </tr>\n",
       "    <tr>\n",
       "      <th>2</th>\n",
       "      <td>3.491000e+01</td>\n",
       "    </tr>\n",
       "    <tr>\n",
       "      <th>3</th>\n",
       "      <td>3.491000e+01</td>\n",
       "    </tr>\n",
       "    <tr>\n",
       "      <th>4</th>\n",
       "      <td>3.491000e+01</td>\n",
       "    </tr>\n",
       "    <tr>\n",
       "      <th>5</th>\n",
       "      <td>3.491000e+01</td>\n",
       "    </tr>\n",
       "    <tr>\n",
       "      <th>6</th>\n",
       "      <td>3.491000e+01</td>\n",
       "    </tr>\n",
       "    <tr>\n",
       "      <th>7</th>\n",
       "      <td>3.491000e+01</td>\n",
       "    </tr>\n",
       "    <tr>\n",
       "      <th>8</th>\n",
       "      <td>3.491000e+01</td>\n",
       "    </tr>\n",
       "    <tr>\n",
       "      <th>9</th>\n",
       "      <td>3.491000e+01</td>\n",
       "    </tr>\n",
       "  </tbody>\n",
       "</table>\n",
       "</div>"
      ],
      "text/plain": [
       "           temp\n",
       "0  1.528507e+09\n",
       "1  4.000000e+00\n",
       "2  3.491000e+01\n",
       "3  3.491000e+01\n",
       "4  3.491000e+01\n",
       "5  3.491000e+01\n",
       "6  3.491000e+01\n",
       "7  3.491000e+01\n",
       "8  3.491000e+01\n",
       "9  3.491000e+01"
      ]
     },
     "execution_count": 3,
     "metadata": {},
     "output_type": "execute_result"
    }
   ],
   "source": [
    "# Sampling frequency 4Hz ~= 0.25s\n",
    "fl_temp_8 = pd.read_csv('data/exp_8/TEMP.csv' , header= None)\n",
    "fl_temp_8.columns  = ['temp']\n",
    "fl_temp_freq_8 = fl_temp_8.iloc[1].values\n",
    "print(len(fl_temp_8))\n",
    "print('freq: ', fl_temp_freq_8)\n",
    "fl_temp_8.head(10)"
   ]
  },
  {
   "cell_type": "code",
   "execution_count": 4,
   "metadata": {},
   "outputs": [
    {
     "data": {
      "text/plain": [
       "'2018-06-09 01:22:37.000'"
      ]
     },
     "execution_count": 4,
     "metadata": {},
     "output_type": "execute_result"
    }
   ],
   "source": [
    "fl_init_time_8 = datetime.datetime.utcfromtimestamp(fl_eda_8.iloc[0]).strftime('%Y-%m-%d %H:%M:%S.000')\n",
    "fl_init_time_8"
   ]
  },
  {
   "cell_type": "code",
   "execution_count": 5,
   "metadata": {},
   "outputs": [],
   "source": [
    "fl_eda_8 = fl_eda_8.iloc[3:]\n",
    "fl_temp_8 = fl_temp_8.iloc[3:]"
   ]
  },
  {
   "cell_type": "code",
   "execution_count": 6,
   "metadata": {},
   "outputs": [
    {
     "data": {
      "text/plain": [
       "DatetimeIndex([       '2018-06-09 01:22:37', '2018-06-09 01:22:37.250000',\n",
       "               '2018-06-09 01:22:37.500000', '2018-06-09 01:22:37.750000',\n",
       "                      '2018-06-09 01:22:38', '2018-06-09 01:22:38.250000',\n",
       "               '2018-06-09 01:22:38.500000', '2018-06-09 01:22:38.750000',\n",
       "                      '2018-06-09 01:22:39', '2018-06-09 01:22:39.250000',\n",
       "               ...\n",
       "               '2018-06-09 01:44:35.750000',        '2018-06-09 01:44:36',\n",
       "               '2018-06-09 01:44:36.250000', '2018-06-09 01:44:36.500000',\n",
       "               '2018-06-09 01:44:36.750000',        '2018-06-09 01:44:37',\n",
       "               '2018-06-09 01:44:37.250000', '2018-06-09 01:44:37.500000',\n",
       "               '2018-06-09 01:44:37.750000',        '2018-06-09 01:44:38'],\n",
       "              dtype='datetime64[ns]', length=5285, freq='250L')"
      ]
     },
     "execution_count": 6,
     "metadata": {},
     "output_type": "execute_result"
    }
   ],
   "source": [
    "#create index \n",
    "fl_time_eda_8 = pd.date_range(start=fl_init_time_8, periods=len(fl_eda_8), \n",
    "                              freq=str(1/int(fl_eda_freq_8))+'S')\n",
    "fl_time_eda_8"
   ]
  },
  {
   "cell_type": "code",
   "execution_count": 7,
   "metadata": {},
   "outputs": [
    {
     "data": {
      "text/plain": [
       "DatetimeIndex([       '2018-06-09 01:22:37', '2018-06-09 01:22:37.250000',\n",
       "               '2018-06-09 01:22:37.500000', '2018-06-09 01:22:37.750000',\n",
       "                      '2018-06-09 01:22:38', '2018-06-09 01:22:38.250000',\n",
       "               '2018-06-09 01:22:38.500000', '2018-06-09 01:22:38.750000',\n",
       "                      '2018-06-09 01:22:39', '2018-06-09 01:22:39.250000',\n",
       "               ...\n",
       "               '2018-06-09 01:44:36.250000', '2018-06-09 01:44:36.500000',\n",
       "               '2018-06-09 01:44:36.750000',        '2018-06-09 01:44:37',\n",
       "               '2018-06-09 01:44:37.250000', '2018-06-09 01:44:37.500000',\n",
       "               '2018-06-09 01:44:37.750000',        '2018-06-09 01:44:38',\n",
       "               '2018-06-09 01:44:38.250000', '2018-06-09 01:44:38.500000'],\n",
       "              dtype='datetime64[ns]', length=5287, freq='250L')"
      ]
     },
     "execution_count": 7,
     "metadata": {},
     "output_type": "execute_result"
    }
   ],
   "source": [
    "fl_time_temp_8 = pd.date_range(start=fl_init_time_8, periods=len(fl_temp_8), \n",
    "                              freq=str(1/int(fl_temp_freq_8))+'S')\n",
    "fl_time_temp_8"
   ]
  },
  {
   "cell_type": "code",
   "execution_count": 8,
   "metadata": {},
   "outputs": [
    {
     "name": "stdout",
     "output_type": "stream",
     "text": [
      "5285\n"
     ]
    },
    {
     "data": {
      "text/html": [
       "<div>\n",
       "<style scoped>\n",
       "    .dataframe tbody tr th:only-of-type {\n",
       "        vertical-align: middle;\n",
       "    }\n",
       "\n",
       "    .dataframe tbody tr th {\n",
       "        vertical-align: top;\n",
       "    }\n",
       "\n",
       "    .dataframe thead th {\n",
       "        text-align: right;\n",
       "    }\n",
       "</style>\n",
       "<table border=\"1\" class=\"dataframe\">\n",
       "  <thead>\n",
       "    <tr style=\"text-align: right;\">\n",
       "      <th></th>\n",
       "      <th>eda</th>\n",
       "    </tr>\n",
       "  </thead>\n",
       "  <tbody>\n",
       "    <tr>\n",
       "      <th>2018-06-09 01:22:37.000</th>\n",
       "      <td>0.410961</td>\n",
       "    </tr>\n",
       "    <tr>\n",
       "      <th>2018-06-09 01:22:37.250</th>\n",
       "      <td>0.477534</td>\n",
       "    </tr>\n",
       "    <tr>\n",
       "      <th>2018-06-09 01:22:37.500</th>\n",
       "      <td>0.483935</td>\n",
       "    </tr>\n",
       "    <tr>\n",
       "      <th>2018-06-09 01:22:37.750</th>\n",
       "      <td>0.480094</td>\n",
       "    </tr>\n",
       "    <tr>\n",
       "      <th>2018-06-09 01:22:38.000</th>\n",
       "      <td>0.480094</td>\n",
       "    </tr>\n",
       "  </tbody>\n",
       "</table>\n",
       "</div>"
      ],
      "text/plain": [
       "                              eda\n",
       "2018-06-09 01:22:37.000  0.410961\n",
       "2018-06-09 01:22:37.250  0.477534\n",
       "2018-06-09 01:22:37.500  0.483935\n",
       "2018-06-09 01:22:37.750  0.480094\n",
       "2018-06-09 01:22:38.000  0.480094"
      ]
     },
     "execution_count": 8,
     "metadata": {},
     "output_type": "execute_result"
    }
   ],
   "source": [
    "fl_eda_8 = fl_eda_8.set_index(fl_time_eda_8, drop =True)\n",
    "fl_eda_8 = fl_eda_8[:]\n",
    "fl_eda_8 = fl_eda_8.dropna()\n",
    "print(len(fl_eda_8))\n",
    "fl_eda_8.head()"
   ]
  },
  {
   "cell_type": "code",
   "execution_count": 9,
   "metadata": {},
   "outputs": [
    {
     "name": "stdout",
     "output_type": "stream",
     "text": [
      "5287\n"
     ]
    },
    {
     "data": {
      "text/html": [
       "<div>\n",
       "<style scoped>\n",
       "    .dataframe tbody tr th:only-of-type {\n",
       "        vertical-align: middle;\n",
       "    }\n",
       "\n",
       "    .dataframe tbody tr th {\n",
       "        vertical-align: top;\n",
       "    }\n",
       "\n",
       "    .dataframe thead th {\n",
       "        text-align: right;\n",
       "    }\n",
       "</style>\n",
       "<table border=\"1\" class=\"dataframe\">\n",
       "  <thead>\n",
       "    <tr style=\"text-align: right;\">\n",
       "      <th></th>\n",
       "      <th>temp</th>\n",
       "    </tr>\n",
       "  </thead>\n",
       "  <tbody>\n",
       "    <tr>\n",
       "      <th>2018-06-09 01:22:37.000</th>\n",
       "      <td>34.91</td>\n",
       "    </tr>\n",
       "    <tr>\n",
       "      <th>2018-06-09 01:22:37.250</th>\n",
       "      <td>34.91</td>\n",
       "    </tr>\n",
       "    <tr>\n",
       "      <th>2018-06-09 01:22:37.500</th>\n",
       "      <td>34.91</td>\n",
       "    </tr>\n",
       "    <tr>\n",
       "      <th>2018-06-09 01:22:37.750</th>\n",
       "      <td>34.91</td>\n",
       "    </tr>\n",
       "    <tr>\n",
       "      <th>2018-06-09 01:22:38.000</th>\n",
       "      <td>34.91</td>\n",
       "    </tr>\n",
       "  </tbody>\n",
       "</table>\n",
       "</div>"
      ],
      "text/plain": [
       "                          temp\n",
       "2018-06-09 01:22:37.000  34.91\n",
       "2018-06-09 01:22:37.250  34.91\n",
       "2018-06-09 01:22:37.500  34.91\n",
       "2018-06-09 01:22:37.750  34.91\n",
       "2018-06-09 01:22:38.000  34.91"
      ]
     },
     "execution_count": 9,
     "metadata": {},
     "output_type": "execute_result"
    }
   ],
   "source": [
    "fl_temp_8 = fl_temp_8.set_index(fl_time_temp_8, drop =True)\n",
    "fl_temp_8 = fl_temp_8[:]\n",
    "fl_temp_8 = fl_temp_8.dropna()\n",
    "print(len(fl_temp_8))\n",
    "fl_temp_8.head()"
   ]
  },
  {
   "cell_type": "markdown",
   "metadata": {},
   "source": [
    "## Tags - Marked Time Stamps"
   ]
  },
  {
   "cell_type": "code",
   "execution_count": 10,
   "metadata": {},
   "outputs": [
    {
     "data": {
      "text/html": [
       "<div>\n",
       "<style scoped>\n",
       "    .dataframe tbody tr th:only-of-type {\n",
       "        vertical-align: middle;\n",
       "    }\n",
       "\n",
       "    .dataframe tbody tr th {\n",
       "        vertical-align: top;\n",
       "    }\n",
       "\n",
       "    .dataframe thead th {\n",
       "        text-align: right;\n",
       "    }\n",
       "</style>\n",
       "<table border=\"1\" class=\"dataframe\">\n",
       "  <thead>\n",
       "    <tr style=\"text-align: right;\">\n",
       "      <th></th>\n",
       "      <th>tagged_time</th>\n",
       "    </tr>\n",
       "  </thead>\n",
       "  <tbody>\n",
       "    <tr>\n",
       "      <th>0</th>\n",
       "      <td>1.528508e+09</td>\n",
       "    </tr>\n",
       "    <tr>\n",
       "      <th>1</th>\n",
       "      <td>1.528508e+09</td>\n",
       "    </tr>\n",
       "    <tr>\n",
       "      <th>2</th>\n",
       "      <td>1.528508e+09</td>\n",
       "    </tr>\n",
       "    <tr>\n",
       "      <th>3</th>\n",
       "      <td>1.528508e+09</td>\n",
       "    </tr>\n",
       "    <tr>\n",
       "      <th>4</th>\n",
       "      <td>1.528508e+09</td>\n",
       "    </tr>\n",
       "  </tbody>\n",
       "</table>\n",
       "</div>"
      ],
      "text/plain": [
       "    tagged_time\n",
       "0  1.528508e+09\n",
       "1  1.528508e+09\n",
       "2  1.528508e+09\n",
       "3  1.528508e+09\n",
       "4  1.528508e+09"
      ]
     },
     "execution_count": 10,
     "metadata": {},
     "output_type": "execute_result"
    }
   ],
   "source": [
    "tags_8 = pd.read_csv('data/exp_8/tags/tags.csv' , header= None)\n",
    "tags_8.columns  =  ['tagged_time']\n",
    "tags_8.head()"
   ]
  },
  {
   "cell_type": "code",
   "execution_count": 11,
   "metadata": {},
   "outputs": [],
   "source": [
    "tags_8.tagged_time = [datetime.datetime.utcfromtimestamp(x).strftime('%Y-%m-%d %H:%M:%S.000') for x in tags_8.tagged_time]\n"
   ]
  },
  {
   "cell_type": "code",
   "execution_count": 12,
   "metadata": {},
   "outputs": [
    {
     "data": {
      "text/plain": [
       "0    2018-06-09 01:30:17.000\n",
       "1    2018-06-09 01:32:37.000\n",
       "2    2018-06-09 01:33:23.000\n",
       "3    2018-06-09 01:33:40.000\n",
       "4    2018-06-09 01:36:31.000\n",
       "5    2018-06-09 01:39:33.000\n",
       "6    2018-06-09 01:41:30.000\n",
       "7    2018-06-09 01:44:31.000\n",
       "Name: tagged_time, dtype: object"
      ]
     },
     "execution_count": 12,
     "metadata": {},
     "output_type": "execute_result"
    }
   ],
   "source": [
    "tags_8.tagged_time"
   ]
  },
  {
   "cell_type": "code",
   "execution_count": 13,
   "metadata": {},
   "outputs": [],
   "source": [
    "# tags_7 = tags_7.drop(6)\n",
    "tags_8= tags_8.reset_index(drop=True)\n",
    "tags_8['label'] = ['pre-relaxation begins','pre-relaxation ends','will be here talk begins','will be here talk ends',\n",
    "                  'cold shower begins','cold shower ends','post-relaxation begins','post-relaxation ends']"
   ]
  },
  {
   "cell_type": "code",
   "execution_count": 14,
   "metadata": {},
   "outputs": [
    {
     "data": {
      "text/html": [
       "<div>\n",
       "<style scoped>\n",
       "    .dataframe tbody tr th:only-of-type {\n",
       "        vertical-align: middle;\n",
       "    }\n",
       "\n",
       "    .dataframe tbody tr th {\n",
       "        vertical-align: top;\n",
       "    }\n",
       "\n",
       "    .dataframe thead th {\n",
       "        text-align: right;\n",
       "    }\n",
       "</style>\n",
       "<table border=\"1\" class=\"dataframe\">\n",
       "  <thead>\n",
       "    <tr style=\"text-align: right;\">\n",
       "      <th></th>\n",
       "      <th>tagged_time</th>\n",
       "      <th>label</th>\n",
       "    </tr>\n",
       "  </thead>\n",
       "  <tbody>\n",
       "    <tr>\n",
       "      <th>0</th>\n",
       "      <td>2018-06-09 01:30:17.000</td>\n",
       "      <td>pre-relaxation begins</td>\n",
       "    </tr>\n",
       "    <tr>\n",
       "      <th>1</th>\n",
       "      <td>2018-06-09 01:32:37.000</td>\n",
       "      <td>pre-relaxation ends</td>\n",
       "    </tr>\n",
       "    <tr>\n",
       "      <th>2</th>\n",
       "      <td>2018-06-09 01:33:23.000</td>\n",
       "      <td>will be here talk begins</td>\n",
       "    </tr>\n",
       "    <tr>\n",
       "      <th>3</th>\n",
       "      <td>2018-06-09 01:33:40.000</td>\n",
       "      <td>will be here talk ends</td>\n",
       "    </tr>\n",
       "    <tr>\n",
       "      <th>4</th>\n",
       "      <td>2018-06-09 01:36:31.000</td>\n",
       "      <td>cold shower begins</td>\n",
       "    </tr>\n",
       "    <tr>\n",
       "      <th>5</th>\n",
       "      <td>2018-06-09 01:39:33.000</td>\n",
       "      <td>cold shower ends</td>\n",
       "    </tr>\n",
       "    <tr>\n",
       "      <th>6</th>\n",
       "      <td>2018-06-09 01:41:30.000</td>\n",
       "      <td>post-relaxation begins</td>\n",
       "    </tr>\n",
       "    <tr>\n",
       "      <th>7</th>\n",
       "      <td>2018-06-09 01:44:31.000</td>\n",
       "      <td>post-relaxation ends</td>\n",
       "    </tr>\n",
       "  </tbody>\n",
       "</table>\n",
       "</div>"
      ],
      "text/plain": [
       "               tagged_time                     label\n",
       "0  2018-06-09 01:30:17.000     pre-relaxation begins\n",
       "1  2018-06-09 01:32:37.000       pre-relaxation ends\n",
       "2  2018-06-09 01:33:23.000  will be here talk begins\n",
       "3  2018-06-09 01:33:40.000    will be here talk ends\n",
       "4  2018-06-09 01:36:31.000        cold shower begins\n",
       "5  2018-06-09 01:39:33.000          cold shower ends\n",
       "6  2018-06-09 01:41:30.000    post-relaxation begins\n",
       "7  2018-06-09 01:44:31.000      post-relaxation ends"
      ]
     },
     "execution_count": 14,
     "metadata": {},
     "output_type": "execute_result"
    }
   ],
   "source": [
    "tags_8"
   ]
  },
  {
   "cell_type": "markdown",
   "metadata": {},
   "source": [
    "## Remove outliers"
   ]
  },
  {
   "cell_type": "code",
   "execution_count": 15,
   "metadata": {},
   "outputs": [
    {
     "name": "stdout",
     "output_type": "stream",
     "text": [
      "5283\n"
     ]
    },
    {
     "data": {
      "text/html": [
       "<div>\n",
       "<style scoped>\n",
       "    .dataframe tbody tr th:only-of-type {\n",
       "        vertical-align: middle;\n",
       "    }\n",
       "\n",
       "    .dataframe tbody tr th {\n",
       "        vertical-align: top;\n",
       "    }\n",
       "\n",
       "    .dataframe thead th {\n",
       "        text-align: right;\n",
       "    }\n",
       "</style>\n",
       "<table border=\"1\" class=\"dataframe\">\n",
       "  <thead>\n",
       "    <tr style=\"text-align: right;\">\n",
       "      <th></th>\n",
       "      <th>eda</th>\n",
       "      <th>temp</th>\n",
       "      <th>present</th>\n",
       "    </tr>\n",
       "  </thead>\n",
       "  <tbody>\n",
       "    <tr>\n",
       "      <th>2018-06-09 01:22:37.000</th>\n",
       "      <td>0.410961</td>\n",
       "      <td>34.91</td>\n",
       "      <td>1</td>\n",
       "    </tr>\n",
       "    <tr>\n",
       "      <th>2018-06-09 01:22:37.250</th>\n",
       "      <td>0.477534</td>\n",
       "      <td>34.91</td>\n",
       "      <td>1</td>\n",
       "    </tr>\n",
       "    <tr>\n",
       "      <th>2018-06-09 01:22:37.500</th>\n",
       "      <td>0.483935</td>\n",
       "      <td>34.91</td>\n",
       "      <td>1</td>\n",
       "    </tr>\n",
       "    <tr>\n",
       "      <th>2018-06-09 01:22:37.750</th>\n",
       "      <td>0.480094</td>\n",
       "      <td>34.91</td>\n",
       "      <td>1</td>\n",
       "    </tr>\n",
       "    <tr>\n",
       "      <th>2018-06-09 01:22:38.000</th>\n",
       "      <td>0.480094</td>\n",
       "      <td>34.91</td>\n",
       "      <td>1</td>\n",
       "    </tr>\n",
       "  </tbody>\n",
       "</table>\n",
       "</div>"
      ],
      "text/plain": [
       "                              eda   temp  present\n",
       "2018-06-09 01:22:37.000  0.410961  34.91        1\n",
       "2018-06-09 01:22:37.250  0.477534  34.91        1\n",
       "2018-06-09 01:22:37.500  0.483935  34.91        1\n",
       "2018-06-09 01:22:37.750  0.480094  34.91        1\n",
       "2018-06-09 01:22:38.000  0.480094  34.91        1"
      ]
     },
     "execution_count": 15,
     "metadata": {},
     "output_type": "execute_result"
    }
   ],
   "source": [
    "fl_exp8 = fl_eda_8.copy()#example dataset of normally distributed data. \n",
    "fl_exp8['temp'] = fl_temp_8['temp']\n",
    "fl_exp8['present'] = 1\n",
    "# fl_exp6 = fl_exp6.reset_index(drop= True)?\n",
    "\n",
    "fl_exp8 = fl_exp8[np.abs(fl_exp8.eda-fl_exp8.eda.mean())<=(3*fl_exp8.eda.std())] #keep only the ones that are within +3 to -3 standard deviations in the column 'Data'.\n",
    "fl_exp8 = fl_exp8[~(np.abs(fl_exp8.eda-fl_exp8.eda.mean())>(3*fl_exp8.eda.std()))] #or if you prefer the other way around\n",
    "fl_exp8 = fl_exp8.dropna()\n",
    "print(len(fl_exp8))\n",
    "fl_exp8.head()"
   ]
  },
  {
   "cell_type": "markdown",
   "metadata": {},
   "source": [
    "## Pre- and Post- Relaxation sessions \n"
   ]
  },
  {
   "cell_type": "code",
   "execution_count": 16,
   "metadata": {},
   "outputs": [
    {
     "data": {
      "text/html": [
       "<div>\n",
       "<style scoped>\n",
       "    .dataframe tbody tr th:only-of-type {\n",
       "        vertical-align: middle;\n",
       "    }\n",
       "\n",
       "    .dataframe tbody tr th {\n",
       "        vertical-align: top;\n",
       "    }\n",
       "\n",
       "    .dataframe thead th {\n",
       "        text-align: right;\n",
       "    }\n",
       "</style>\n",
       "<table border=\"1\" class=\"dataframe\">\n",
       "  <thead>\n",
       "    <tr style=\"text-align: right;\">\n",
       "      <th></th>\n",
       "      <th>eda</th>\n",
       "      <th>temp</th>\n",
       "      <th>present</th>\n",
       "    </tr>\n",
       "  </thead>\n",
       "  <tbody>\n",
       "    <tr>\n",
       "      <th>2018-06-09 01:30:17.000</th>\n",
       "      <td>0.458330</td>\n",
       "      <td>35.59</td>\n",
       "      <td>1</td>\n",
       "    </tr>\n",
       "    <tr>\n",
       "      <th>2018-06-09 01:30:17.250</th>\n",
       "      <td>0.445528</td>\n",
       "      <td>35.59</td>\n",
       "      <td>1</td>\n",
       "    </tr>\n",
       "    <tr>\n",
       "      <th>2018-06-09 01:30:17.500</th>\n",
       "      <td>0.451929</td>\n",
       "      <td>35.59</td>\n",
       "      <td>1</td>\n",
       "    </tr>\n",
       "    <tr>\n",
       "      <th>2018-06-09 01:30:17.750</th>\n",
       "      <td>0.451929</td>\n",
       "      <td>35.57</td>\n",
       "      <td>1</td>\n",
       "    </tr>\n",
       "    <tr>\n",
       "      <th>2018-06-09 01:30:18.000</th>\n",
       "      <td>0.451929</td>\n",
       "      <td>35.57</td>\n",
       "      <td>1</td>\n",
       "    </tr>\n",
       "  </tbody>\n",
       "</table>\n",
       "</div>"
      ],
      "text/plain": [
       "                              eda   temp  present\n",
       "2018-06-09 01:30:17.000  0.458330  35.59        1\n",
       "2018-06-09 01:30:17.250  0.445528  35.59        1\n",
       "2018-06-09 01:30:17.500  0.451929  35.59        1\n",
       "2018-06-09 01:30:17.750  0.451929  35.57        1\n",
       "2018-06-09 01:30:18.000  0.451929  35.57        1"
      ]
     },
     "execution_count": 16,
     "metadata": {},
     "output_type": "execute_result"
    }
   ],
   "source": [
    "fl_pre_8 = fl_exp8.loc[tags_8.tagged_time[0]:tags_8.tagged_time[1]]\n",
    "fl_pre_8.head()"
   ]
  },
  {
   "cell_type": "code",
   "execution_count": 17,
   "metadata": {},
   "outputs": [
    {
     "data": {
      "text/plain": [
       "564"
      ]
     },
     "execution_count": 17,
     "metadata": {},
     "output_type": "execute_result"
    }
   ],
   "source": [
    "len(fl_pre_8)"
   ]
  },
  {
   "cell_type": "code",
   "execution_count": 18,
   "metadata": {},
   "outputs": [
    {
     "data": {
      "text/html": [
       "<div>\n",
       "<style scoped>\n",
       "    .dataframe tbody tr th:only-of-type {\n",
       "        vertical-align: middle;\n",
       "    }\n",
       "\n",
       "    .dataframe tbody tr th {\n",
       "        vertical-align: top;\n",
       "    }\n",
       "\n",
       "    .dataframe thead th {\n",
       "        text-align: right;\n",
       "    }\n",
       "</style>\n",
       "<table border=\"1\" class=\"dataframe\">\n",
       "  <thead>\n",
       "    <tr style=\"text-align: right;\">\n",
       "      <th></th>\n",
       "      <th>eda</th>\n",
       "      <th>temp</th>\n",
       "      <th>present</th>\n",
       "    </tr>\n",
       "  </thead>\n",
       "  <tbody>\n",
       "    <tr>\n",
       "      <th>2018-06-09 01:41:30.000</th>\n",
       "      <td>0.40840</td>\n",
       "      <td>34.68</td>\n",
       "      <td>1</td>\n",
       "    </tr>\n",
       "    <tr>\n",
       "      <th>2018-06-09 01:41:30.250</th>\n",
       "      <td>0.40840</td>\n",
       "      <td>34.68</td>\n",
       "      <td>1</td>\n",
       "    </tr>\n",
       "    <tr>\n",
       "      <th>2018-06-09 01:41:30.500</th>\n",
       "      <td>0.40840</td>\n",
       "      <td>34.68</td>\n",
       "      <td>1</td>\n",
       "    </tr>\n",
       "    <tr>\n",
       "      <th>2018-06-09 01:41:30.750</th>\n",
       "      <td>0.40712</td>\n",
       "      <td>34.71</td>\n",
       "      <td>1</td>\n",
       "    </tr>\n",
       "    <tr>\n",
       "      <th>2018-06-09 01:41:31.000</th>\n",
       "      <td>0.40840</td>\n",
       "      <td>34.71</td>\n",
       "      <td>1</td>\n",
       "    </tr>\n",
       "  </tbody>\n",
       "</table>\n",
       "</div>"
      ],
      "text/plain": [
       "                             eda   temp  present\n",
       "2018-06-09 01:41:30.000  0.40840  34.68        1\n",
       "2018-06-09 01:41:30.250  0.40840  34.68        1\n",
       "2018-06-09 01:41:30.500  0.40840  34.68        1\n",
       "2018-06-09 01:41:30.750  0.40712  34.71        1\n",
       "2018-06-09 01:41:31.000  0.40840  34.71        1"
      ]
     },
     "execution_count": 18,
     "metadata": {},
     "output_type": "execute_result"
    }
   ],
   "source": [
    "fl_post_8 = fl_exp8.loc[tags_8.tagged_time[6]:tags_8.tagged_time[7]]\n",
    "fl_post_8.head()"
   ]
  },
  {
   "cell_type": "code",
   "execution_count": 19,
   "metadata": {},
   "outputs": [
    {
     "data": {
      "text/plain": [
       "728"
      ]
     },
     "execution_count": 19,
     "metadata": {},
     "output_type": "execute_result"
    }
   ],
   "source": [
    "len(fl_post_8)"
   ]
  },
  {
   "cell_type": "code",
   "execution_count": 20,
   "metadata": {},
   "outputs": [
    {
     "data": {
      "text/plain": [
       "564"
      ]
     },
     "execution_count": 20,
     "metadata": {},
     "output_type": "execute_result"
    }
   ],
   "source": [
    "fl_post_8 = fl_post_8[:len(fl_pre_8)]\n",
    "len(fl_post_8)"
   ]
  },
  {
   "cell_type": "markdown",
   "metadata": {},
   "source": [
    "# Visualization "
   ]
  },
  {
   "cell_type": "code",
   "execution_count": 21,
   "metadata": {
    "scrolled": false
   },
   "outputs": [
    {
     "data": {
      "image/png": "[encoded data removed]",
      "text/plain": [
       "<matplotlib.figure.Figure at 0x7fe9d82d1400>"
      ]
     },
     "metadata": {
      "image/png": {
       "height": 381,
       "width": 880
      }
     },
     "output_type": "display_data"
    },
    {
     "data": {
      "text/plain": [
       "<matplotlib.lines.Line2D at 0x7fe9d62024e0>"
      ]
     },
     "execution_count": 21,
     "metadata": {},
     "output_type": "execute_result"
    },
    {
     "data": {
      "image/png": "[encoded data removed]",
      "text/plain": [
       "<matplotlib.figure.Figure at 0x7fe9d6237198>"
      ]
     },
     "metadata": {
      "image/png": {
       "height": 228,
       "width": 880
      }
     },
     "output_type": "display_data"
    }
   ],
   "source": [
    "plt.figure(figsize=(15,6))\n",
    "plt.subplot(111)\n",
    "\n",
    "plt.plot(fl_exp8['eda'],color ='c')\n",
    "plt.figtext(.5,.9,'Stress Response of Cold Shower with Social Presence Experiment Day 8 - EDA ', fontsize=20, ha='center')\n",
    "plt.legend(['EDA'],loc=1,fontsize='medium')\n",
    "plt.axvline(x = tags_8.tagged_time[0],color = 'salmon',linestyle='--')\n",
    "plt.axvline(x = tags_8.tagged_time[1],color = 'salmon',linestyle='--')\n",
    "plt.axvline(x = tags_8.tagged_time[2],color = 'salmon',linestyle='--')\n",
    "plt.axvline(x = tags_8.tagged_time[3],color = 'salmon',linestyle='--')\n",
    "plt.axvline(x = tags_8.tagged_time[4],color = 'salmon',linestyle='--')\n",
    "plt.axvline(x = tags_8.tagged_time[5],color = 'salmon',linestyle='--')\n",
    "plt.axvline(x = tags_8.tagged_time[6],color = 'salmon',linestyle='--')\n",
    "plt.axvline(x = tags_8.tagged_time[7],color = 'salmon',linestyle='--')\n",
    "# plt.axvline(x = tags_7.tagged_time[8],color = 'salmon',linestyle='--')\n",
    "# plt.title('Cold Shower Experiment Day 0')\n",
    "# plt.figtext(.5,.9,'Cold Shower Experiment Day 6', fontsize=20, ha='center')\n",
    "plt.show()\n",
    "\n",
    "\n",
    "plt.figure(figsize=(15,8))\n",
    "plt.subplot(211)\n",
    "plt.plot(fl_exp8['temp'],color='gold')\n",
    "# plt.figtext(.5,.9,'Cold Shower Experiment Day 7 - Temperature ', fontsize=20, ha='center')\n",
    "\n",
    "plt.legend(['Temperature'],loc=1,fontsize='medium')\n",
    "plt.axvline(x = tags_8.tagged_time[0],color = 'salmon',linestyle='--')\n",
    "# plt.text(x=tags_7.tagged_time[0],y=0,s='pre-relaxation session begins',rotation=90)\n",
    "plt.axvline(x = tags_8.tagged_time[1],color = 'salmon',linestyle='--')\n",
    "plt.axvline(x = tags_8.tagged_time[2],color = 'salmon',linestyle='--')\n",
    "plt.axvline(x = tags_8.tagged_time[3],color = 'salmon',linestyle='--')\n",
    "plt.axvline(x = tags_8.tagged_time[4],color = 'salmon',linestyle='--')\n",
    "plt.axvline(x = tags_8.tagged_time[5],color = 'salmon',linestyle='--')\n",
    "plt.axvline(x = tags_8.tagged_time[6],color = 'salmon',linestyle='--')\n",
    "plt.axvline(x = tags_8.tagged_time[7],color = 'salmon',linestyle='--')\n",
    "# plt.axvline(x = tags_7.tagged_time[8],color = 'salmon',linestyle='--')\n",
    "\n",
    "\n",
    "# plt.text(x=tags_8.tagged_time[1],y=0,s='pre-relaxation session ends',rotation=90)\n",
    "# plt.text(x=tags_8.tagged_time[5],y=0,s='cold shower begins - temperature 65F',rotation=90)\n",
    "# plt.text(x=tags_8.tagged_time[6],y=0,s='cold shower ends - temperature 65F',rotation=90)\n",
    "# plt.text(x=tags_8.tagged_time[7],y=0,s='post-relaxation session begins',rotation=90)\n",
    "# # plt.text(x=tags_8.tagged_time[8],y=0,s='post-relaxation session ends',rotation=90)\n",
    "\n",
    "# plt.title('Cold Shower Experiment Day 0')\n"
   ]
  },
  {
   "cell_type": "markdown",
   "metadata": {},
   "source": [
    "## Pearson Correlation Test Between EDA and Temperature"
   ]
  },
  {
   "cell_type": "code",
   "execution_count": 23,
   "metadata": {},
   "outputs": [
    {
     "data": {
      "text/plain": [
       "(0.6626437524450806, 0.0)"
      ]
     },
     "execution_count": 23,
     "metadata": {},
     "output_type": "execute_result"
    }
   ],
   "source": [
    "from scipy.stats.stats import pearsonr\n",
    "pearsonr(fl_exp8['eda'], fl_exp8['temp'])"
   ]
  },
  {
   "cell_type": "markdown",
   "metadata": {},
   "source": [
    "# CvxEDA Model - Phasic and Tonic Features"
   ]
  },
  {
   "cell_type": "code",
   "execution_count": null,
   "metadata": {},
   "outputs": [],
   "source": [
    "y7 = np.asarray(fl_exp7.eda)\n",
    "y7[:10]"
   ]
  },
  {
   "cell_type": "code",
   "execution_count": null,
   "metadata": {},
   "outputs": [],
   "source": [
    "yn7 = (y7 - y7.mean()) / y7.std()\n",
    "Fs = 4.\n",
    "[r7, p7, t7, l7, d7, e7, obj7] = cvxEDA.cvxEDA(yn7, 1./Fs)\n",
    "\n",
    "# pl.rcParams['figure.figsize'] = (30,20)\n",
    "tm7 = pl.arange(1., len(y7)+1.) / Fs\n"
   ]
  },
  {
   "cell_type": "code",
   "execution_count": null,
   "metadata": {},
   "outputs": [],
   "source": [
    "params = {'legend.fontsize': 'large',\n",
    "          'figure.figsize': (10, 8),\n",
    "         'axes.labelsize': 'large',\n",
    "         'axes.titlesize':'large',\n",
    "         'xtick.labelsize':'large',\n",
    "         'ytick.labelsize':'large'}\n",
    "pl.rcParams.update(params)"
   ]
  },
  {
   "cell_type": "code",
   "execution_count": null,
   "metadata": {
    "scrolled": false
   },
   "outputs": [],
   "source": [
    "pl.hold(True)\n",
    "pl.plot(tm7, yn7)\n",
    "pl.plot(tm7, r7)\n",
    "pl.plot(tm7, t7)\n",
    "pl.plot(tm7, p7,alpha = 0.5)\n",
    "\n",
    "pl.title('Experiment Day 7 cvxEDA Deconvolution Analysis')\n",
    "pl.legend(['SC Z-score','Phasic Component','Tonic Component','SMNA sparse driver of phasic component',\n",
    "           ])\n",
    "plt.show()"
   ]
  },
  {
   "cell_type": "code",
   "execution_count": null,
   "metadata": {},
   "outputs": [],
   "source": []
  },
  {
   "cell_type": "markdown",
   "metadata": {},
   "source": [
    "# Pre- and Post-experiment Tonic component -  Paired wilcoxon-test"
   ]
  },
  {
   "cell_type": "code",
   "execution_count": null,
   "metadata": {},
   "outputs": [],
   "source": [
    "z_statistic, p_value = wilcoxon(fl_post_7.eda - fl_pre_7.eda)"
   ]
  },
  {
   "cell_type": "code",
   "execution_count": null,
   "metadata": {},
   "outputs": [],
   "source": [
    "print(\"paired wilcoxon-test p-value\", p_value)\n"
   ]
  },
  {
   "cell_type": "markdown",
   "metadata": {},
   "source": [
    "# Feature extraction"
   ]
  },
  {
   "cell_type": "code",
   "execution_count": null,
   "metadata": {},
   "outputs": [],
   "source": [
    "def eda_feature(df):\n",
    "    y = np.asarray(df.eda)\n",
    "    present = np.mean(df.present)\n",
    "    yn = (y - y.mean()) / y.std()\n",
    "    Fs = 4.\n",
    "    [r, p, t, l, d, e, obj] = cvxEDA.cvxEDA(yn, 1./Fs)\n",
    "    tm = pl.arange(1., len(y)+1.) / Fs\n",
    "    \n",
    "    y_mean = np.mean(yn)\n",
    "    r_mean = np.mean(r)\n",
    "    p_mean = np.mean(p)\n",
    "    t_mean = np.mean(t)\n",
    "\n",
    "    y_stdev = np.std(yn)\n",
    "    r_stdev = np.std(r)\n",
    "    p_stdev = np.std(p)\n",
    "    t_stdev = np.std(t)\n",
    "\n",
    "    y_max = np.amax(yn)\n",
    "    r_max = np.amax(r)\n",
    "    p_max = np.amax(p)\n",
    "    t_max = np.amax(t)\n",
    "\n",
    "    feature_list=[]\n",
    "    feature_list.extend((y_mean,r_mean,p_mean,t_mean,\n",
    "                    y_stdev,r_stdev,p_stdev,t_stdev,\n",
    "                    y_max,r_max,p_max,t_max,\n",
    "                    present))\n",
    "    return feature_list"
   ]
  },
  {
   "cell_type": "code",
   "execution_count": null,
   "metadata": {},
   "outputs": [],
   "source": [
    "var = [fl_exp7]\n",
    "feature_arr = [eda_feature(x) for x in var]"
   ]
  },
  {
   "cell_type": "markdown",
   "metadata": {},
   "source": [
    "# Post-experiment Tonic component"
   ]
  },
  {
   "cell_type": "code",
   "execution_count": null,
   "metadata": {},
   "outputs": [],
   "source": []
  }
 ],
 "metadata": {
  "kernelspec": {
   "display_name": "Python 3",
   "language": "python",
   "name": "python3"
  },
  "language_info": {
   "codemirror_mode": {
    "name": "ipython",
    "version": 3
   },
   "file_extension": ".py",
   "mimetype": "text/x-python",
   "name": "python",
   "nbconvert_exporter": "python",
   "pygments_lexer": "ipython3",
   "version": "3.5.2"
  }
 },
 "nbformat": 4,
 "nbformat_minor": 2
}
