{
 "cells": [
  {
   "cell_type": "code",
   "execution_count": 2,
   "metadata": {},
   "outputs": [],
   "source": [
    "import numpy as np \n",
    "# import tensorflow as tf\n",
    "import pandas as pd\n",
    "import matplotlib.pyplot as plt\n",
    "import seaborn as sns\n",
    "import cvxEDA\n",
    "import datetime\n",
    "from scipy import stats\n",
    "from mpl_toolkits import mplot3d\n",
    "import pylab as pl\n",
    "from mpl_toolkits.mplot3d import Axes3D\n",
    "from sklearn.cluster import KMeans\n",
    "from sklearn.datasets import make_blobs\n",
    "from scipy.stats import ks_2samp\n",
    "from scipy.stats import ttest_1samp, wilcoxon, ttest_ind, mannwhitneyu\n",
    "\n",
    "sns.set(color_codes = True)\n",
    "%matplotlib inline\n",
    "%config InlineBackend.figure_format = 'retina'"
   ]
  },
  {
   "cell_type": "code",
   "execution_count": 3,
   "metadata": {},
   "outputs": [
    {
     "name": "stdout",
     "output_type": "stream",
     "text": [
      "4574\n",
      "freq:  [4.]\n"
     ]
    },
    {
     "data": {
      "text/html": [
       "<div>\n",
       "<style scoped>\n",
       "    .dataframe tbody tr th:only-of-type {\n",
       "        vertical-align: middle;\n",
       "    }\n",
       "\n",
       "    .dataframe tbody tr th {\n",
       "        vertical-align: top;\n",
       "    }\n",
       "\n",
       "    .dataframe thead th {\n",
       "        text-align: right;\n",
       "    }\n",
       "</style>\n",
       "<table border=\"1\" class=\"dataframe\">\n",
       "  <thead>\n",
       "    <tr style=\"text-align: right;\">\n",
       "      <th></th>\n",
       "      <th>eda</th>\n",
       "    </tr>\n",
       "  </thead>\n",
       "  <tbody>\n",
       "    <tr>\n",
       "      <th>0</th>\n",
       "      <td>1.527729e+09</td>\n",
       "    </tr>\n",
       "    <tr>\n",
       "      <th>1</th>\n",
       "      <td>4.000000e+00</td>\n",
       "    </tr>\n",
       "    <tr>\n",
       "      <th>2</th>\n",
       "      <td>0.000000e+00</td>\n",
       "    </tr>\n",
       "    <tr>\n",
       "      <th>3</th>\n",
       "      <td>4.420060e-01</td>\n",
       "    </tr>\n",
       "    <tr>\n",
       "      <th>4</th>\n",
       "      <td>5.111900e-01</td>\n",
       "    </tr>\n",
       "    <tr>\n",
       "      <th>5</th>\n",
       "      <td>5.175950e-01</td>\n",
       "    </tr>\n",
       "    <tr>\n",
       "      <th>6</th>\n",
       "      <td>5.188770e-01</td>\n",
       "    </tr>\n",
       "    <tr>\n",
       "      <th>7</th>\n",
       "      <td>5.214390e-01</td>\n",
       "    </tr>\n",
       "    <tr>\n",
       "      <th>8</th>\n",
       "      <td>5.214390e-01</td>\n",
       "    </tr>\n",
       "    <tr>\n",
       "      <th>9</th>\n",
       "      <td>5.227200e-01</td>\n",
       "    </tr>\n",
       "  </tbody>\n",
       "</table>\n",
       "</div>"
      ],
      "text/plain": [
       "            eda\n",
       "0  1.527729e+09\n",
       "1  4.000000e+00\n",
       "2  0.000000e+00\n",
       "3  4.420060e-01\n",
       "4  5.111900e-01\n",
       "5  5.175950e-01\n",
       "6  5.188770e-01\n",
       "7  5.214390e-01\n",
       "8  5.214390e-01\n",
       "9  5.227200e-01"
      ]
     },
     "execution_count": 3,
     "metadata": {},
     "output_type": "execute_result"
    }
   ],
   "source": [
    "# Sampling frequency 4Hz ~= 0.25s\n",
    "fl_eda_6 = pd.read_csv('data/exp_6/EDA.csv' , header= None)\n",
    "fl_eda_6.columns  = ['eda']\n",
    "fl_eda_freq_6 = fl_eda_6.iloc[1].values\n",
    "print(len(fl_eda_6))\n",
    "print('freq: ', fl_eda_freq_6)\n",
    "fl_eda_6.head(10)"
   ]
  },
  {
   "cell_type": "code",
   "execution_count": 4,
   "metadata": {},
   "outputs": [
    {
     "data": {
      "text/plain": [
       "'2018-05-31 01:13:19'"
      ]
     },
     "execution_count": 4,
     "metadata": {},
     "output_type": "execute_result"
    }
   ],
   "source": [
    "fl_init_time_6 = datetime.datetime.utcfromtimestamp(fl_eda_6.iloc[0]).strftime('%Y-%m-%d %H:%M:%S')\n",
    "fl_init_time_6"
   ]
  },
  {
   "cell_type": "code",
   "execution_count": 5,
   "metadata": {},
   "outputs": [],
   "source": [
    "fl_eda_6 = fl_eda_6.iloc[3:]"
   ]
  },
  {
   "cell_type": "code",
   "execution_count": 6,
   "metadata": {},
   "outputs": [
    {
     "data": {
      "text/plain": [
       "DatetimeIndex([       '2018-05-31 01:13:19', '2018-05-31 01:13:19.250000',\n",
       "               '2018-05-31 01:13:19.500000', '2018-05-31 01:13:19.750000',\n",
       "                      '2018-05-31 01:13:20', '2018-05-31 01:13:20.250000',\n",
       "               '2018-05-31 01:13:20.500000', '2018-05-31 01:13:20.750000',\n",
       "                      '2018-05-31 01:13:21', '2018-05-31 01:13:21.250000',\n",
       "               ...\n",
       "               '2018-05-31 01:32:19.250000', '2018-05-31 01:32:19.500000',\n",
       "               '2018-05-31 01:32:19.750000',        '2018-05-31 01:32:20',\n",
       "               '2018-05-31 01:32:20.250000', '2018-05-31 01:32:20.500000',\n",
       "               '2018-05-31 01:32:20.750000',        '2018-05-31 01:32:21',\n",
       "               '2018-05-31 01:32:21.250000', '2018-05-31 01:32:21.500000'],\n",
       "              dtype='datetime64[ns]', length=4571, freq='250L')"
      ]
     },
     "execution_count": 6,
     "metadata": {},
     "output_type": "execute_result"
    }
   ],
   "source": [
    "#create index \n",
    "fl_time_eda_6 = pd.date_range(start=fl_init_time_6, periods=len(fl_eda_6), \n",
    "                              freq=str(1/int(fl_eda_freq_6))+'S')\n",
    "fl_time_eda_6"
   ]
  },
  {
   "cell_type": "code",
   "execution_count": 7,
   "metadata": {},
   "outputs": [
    {
     "name": "stdout",
     "output_type": "stream",
     "text": [
      "4571\n"
     ]
    },
    {
     "data": {
      "text/html": [
       "<div>\n",
       "<style scoped>\n",
       "    .dataframe tbody tr th:only-of-type {\n",
       "        vertical-align: middle;\n",
       "    }\n",
       "\n",
       "    .dataframe tbody tr th {\n",
       "        vertical-align: top;\n",
       "    }\n",
       "\n",
       "    .dataframe thead th {\n",
       "        text-align: right;\n",
       "    }\n",
       "</style>\n",
       "<table border=\"1\" class=\"dataframe\">\n",
       "  <thead>\n",
       "    <tr style=\"text-align: right;\">\n",
       "      <th></th>\n",
       "      <th>eda</th>\n",
       "    </tr>\n",
       "  </thead>\n",
       "  <tbody>\n",
       "    <tr>\n",
       "      <th>2018-05-31 01:13:19.000</th>\n",
       "      <td>0.442006</td>\n",
       "    </tr>\n",
       "    <tr>\n",
       "      <th>2018-05-31 01:13:19.250</th>\n",
       "      <td>0.511190</td>\n",
       "    </tr>\n",
       "    <tr>\n",
       "      <th>2018-05-31 01:13:19.500</th>\n",
       "      <td>0.517595</td>\n",
       "    </tr>\n",
       "    <tr>\n",
       "      <th>2018-05-31 01:13:19.750</th>\n",
       "      <td>0.518877</td>\n",
       "    </tr>\n",
       "    <tr>\n",
       "      <th>2018-05-31 01:13:20.000</th>\n",
       "      <td>0.521439</td>\n",
       "    </tr>\n",
       "  </tbody>\n",
       "</table>\n",
       "</div>"
      ],
      "text/plain": [
       "                              eda\n",
       "2018-05-31 01:13:19.000  0.442006\n",
       "2018-05-31 01:13:19.250  0.511190\n",
       "2018-05-31 01:13:19.500  0.517595\n",
       "2018-05-31 01:13:19.750  0.518877\n",
       "2018-05-31 01:13:20.000  0.521439"
      ]
     },
     "execution_count": 7,
     "metadata": {},
     "output_type": "execute_result"
    }
   ],
   "source": [
    "fl_eda_6 = fl_eda_6.set_index(fl_time_eda_6, drop =True)\n",
    "fl_eda_6 = fl_eda_6[:]\n",
    "fl_eda_6 = fl_eda_6.dropna()\n",
    "print(len(fl_eda_6))\n",
    "fl_eda_6.head()"
   ]
  },
  {
   "cell_type": "markdown",
   "metadata": {},
   "source": [
    "# Tags"
   ]
  },
  {
   "cell_type": "code",
   "execution_count": 10,
   "metadata": {},
   "outputs": [
    {
     "data": {
      "text/html": [
       "<div>\n",
       "<style scoped>\n",
       "    .dataframe tbody tr th:only-of-type {\n",
       "        vertical-align: middle;\n",
       "    }\n",
       "\n",
       "    .dataframe tbody tr th {\n",
       "        vertical-align: top;\n",
       "    }\n",
       "\n",
       "    .dataframe thead th {\n",
       "        text-align: right;\n",
       "    }\n",
       "</style>\n",
       "<table border=\"1\" class=\"dataframe\">\n",
       "  <thead>\n",
       "    <tr style=\"text-align: right;\">\n",
       "      <th></th>\n",
       "      <th>tagged_time</th>\n",
       "    </tr>\n",
       "  </thead>\n",
       "  <tbody>\n",
       "    <tr>\n",
       "      <th>0</th>\n",
       "      <td>1.527729e+09</td>\n",
       "    </tr>\n",
       "    <tr>\n",
       "      <th>1</th>\n",
       "      <td>1.527730e+09</td>\n",
       "    </tr>\n",
       "    <tr>\n",
       "      <th>2</th>\n",
       "      <td>1.527730e+09</td>\n",
       "    </tr>\n",
       "    <tr>\n",
       "      <th>3</th>\n",
       "      <td>1.527730e+09</td>\n",
       "    </tr>\n",
       "    <tr>\n",
       "      <th>4</th>\n",
       "      <td>1.527730e+09</td>\n",
       "    </tr>\n",
       "  </tbody>\n",
       "</table>\n",
       "</div>"
      ],
      "text/plain": [
       "    tagged_time\n",
       "0  1.527729e+09\n",
       "1  1.527730e+09\n",
       "2  1.527730e+09\n",
       "3  1.527730e+09\n",
       "4  1.527730e+09"
      ]
     },
     "execution_count": 10,
     "metadata": {},
     "output_type": "execute_result"
    }
   ],
   "source": [
    "tags_6 = pd.read_csv('data/exp_6/tags.csv' , header= None)\n",
    "tags_6.columns  =  ['tagged_time']\n",
    "tags_6.head()"
   ]
  },
  {
   "cell_type": "code",
   "execution_count": 12,
   "metadata": {},
   "outputs": [],
   "source": [
    "tags_6.tagged_time = [datetime.datetime.utcfromtimestamp(x).strftime('%Y-%m-%d %H:%M:%S.000') for x in tags_6.tagged_time]"
   ]
  },
  {
   "cell_type": "code",
   "execution_count": 13,
   "metadata": {},
   "outputs": [],
   "source": [
    "fl_day6_bath = fl_eda_6.loc[tags_6.tagged_time[1]:tags_6.tagged_time[2]]"
   ]
  },
  {
   "cell_type": "code",
   "execution_count": null,
   "metadata": {},
   "outputs": [],
   "source": []
  },
  {
   "cell_type": "code",
   "execution_count": null,
   "metadata": {},
   "outputs": [],
   "source": []
  },
  {
   "cell_type": "code",
   "execution_count": null,
   "metadata": {},
   "outputs": [],
   "source": []
  },
  {
   "cell_type": "code",
   "execution_count": null,
   "metadata": {},
   "outputs": [],
   "source": []
  }
 ],
 "metadata": {
  "kernelspec": {
   "display_name": "Python 3",
   "language": "python",
   "name": "python3"
  },
  "language_info": {
   "codemirror_mode": {
    "name": "ipython",
    "version": 3
   },
   "file_extension": ".py",
   "mimetype": "text/x-python",
   "name": "python",
   "nbconvert_exporter": "python",
   "pygments_lexer": "ipython3",
   "version": "3.5.2"
  }
 },
 "nbformat": 4,
 "nbformat_minor": 2
}
