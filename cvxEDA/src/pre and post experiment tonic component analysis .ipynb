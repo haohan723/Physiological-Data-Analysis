{
 "cells": [
  {
   "cell_type": "markdown",
   "metadata": {},
   "source": [
    "# Reference"
   ]
  },
  {
   "cell_type": "markdown",
   "metadata": {},
   "source": [
    "**Feature Extraction and Statistical Analysis**\n",
    "\n",
    "Following the same approach used in the affective touch protocol, we extracted the features as summarized in table: \n",
    "\n",
    "1. Npeak: Number of significant SMNA peaks wrw\n",
    "2. AUC: Area under curve of reconstructed phasic signal wrw (mus s)\n",
    "3. Peak: Maximum amplitude of significant peaks of SMNA signal wrw \n",
    "4. Mean Tonic: Mean value of the tonic component within each image time window \n"
   ]
  },
  {
   "cell_type": "markdown",
   "metadata": {},
   "source": [
    "Likewise, the affective touch, a statiscal analysis among the 5 smells were performed on the arousal and valence scores, and on the EDA phasic and tonic features. \n",
    "\n",
    "We distinguished the _event-related phasic analysis_ i.e. EDA was studied within a time window of 5s correspondent to the affective stimulus session, and the _non specific fluctuation and tonic analysis_ comprising the tonic level comparison and the differential value of the tonic features between the post- and pre stimulus session.\n",
    "\n",
    "the difference among the smeels were studied using the **Friedman test**, and in case of rejection of the **Friedman test** null hypothesis, a post-hoc analysis was performaed by means of a **Bonferroni corrected Wilcoxon signed-rank**."
   ]
  },
  {
   "cell_type": "markdown",
   "metadata": {},
   "source": []
  },
  {
   "cell_type": "markdown",
   "metadata": {},
   "source": [
    "# Import data "
   ]
  },
  {
   "cell_type": "code",
   "execution_count": 1,
   "metadata": {},
   "outputs": [],
   "source": [
    "import numpy as np \n",
    "# import tensorflow as tf\n",
    "import pandas as pd\n",
    "import matplotlib.pyplot as plt\n",
    "import seaborn as sns\n",
    "import cvxEDA\n",
    "import datetime\n",
    "from scipy import stats\n",
    "from mpl_toolkits import mplot3d\n",
    "import pylab as pl\n",
    "from mpl_toolkits.mplot3d import Axes3D\n",
    "from sklearn.cluster import KMeans\n",
    "from sklearn.datasets import make_blobs\n",
    "from scipy.stats import ks_2samp\n",
    "from scipy.stats import ttest_1samp, wilcoxon, ttest_ind, mannwhitneyu\n",
    "from sklearn.preprocessing import normalize\n",
    "sns.set(color_codes = True)\n",
    "%matplotlib inline\n",
    "%config InlineBackend.figure_format = 'retina'"
   ]
  },
  {
   "cell_type": "code",
   "execution_count": 2,
   "metadata": {},
   "outputs": [
    {
     "name": "stdout",
     "output_type": "stream",
     "text": [
      "8024\n",
      "freq:  [4.]\n"
     ]
    },
    {
     "data": {
      "text/html": [
       "<div>\n",
       "<style scoped>\n",
       "    .dataframe tbody tr th:only-of-type {\n",
       "        vertical-align: middle;\n",
       "    }\n",
       "\n",
       "    .dataframe tbody tr th {\n",
       "        vertical-align: top;\n",
       "    }\n",
       "\n",
       "    .dataframe thead th {\n",
       "        text-align: right;\n",
       "    }\n",
       "</style>\n",
       "<table border=\"1\" class=\"dataframe\">\n",
       "  <thead>\n",
       "    <tr style=\"text-align: right;\">\n",
       "      <th></th>\n",
       "      <th>eda</th>\n",
       "    </tr>\n",
       "  </thead>\n",
       "  <tbody>\n",
       "    <tr>\n",
       "      <th>0</th>\n",
       "      <td>1.528332e+09</td>\n",
       "    </tr>\n",
       "    <tr>\n",
       "      <th>1</th>\n",
       "      <td>4.000000e+00</td>\n",
       "    </tr>\n",
       "    <tr>\n",
       "      <th>2</th>\n",
       "      <td>0.000000e+00</td>\n",
       "    </tr>\n",
       "    <tr>\n",
       "      <th>3</th>\n",
       "      <td>3.623110e-01</td>\n",
       "    </tr>\n",
       "    <tr>\n",
       "      <th>4</th>\n",
       "      <td>4.186420e-01</td>\n",
       "    </tr>\n",
       "    <tr>\n",
       "      <th>5</th>\n",
       "      <td>4.224830e-01</td>\n",
       "    </tr>\n",
       "    <tr>\n",
       "      <th>6</th>\n",
       "      <td>4.199230e-01</td>\n",
       "    </tr>\n",
       "    <tr>\n",
       "      <th>7</th>\n",
       "      <td>4.173620e-01</td>\n",
       "    </tr>\n",
       "    <tr>\n",
       "      <th>8</th>\n",
       "      <td>4.160820e-01</td>\n",
       "    </tr>\n",
       "    <tr>\n",
       "      <th>9</th>\n",
       "      <td>4.135210e-01</td>\n",
       "    </tr>\n",
       "  </tbody>\n",
       "</table>\n",
       "</div>"
      ],
      "text/plain": [
       "            eda\n",
       "0  1.528332e+09\n",
       "1  4.000000e+00\n",
       "2  0.000000e+00\n",
       "3  3.623110e-01\n",
       "4  4.186420e-01\n",
       "5  4.224830e-01\n",
       "6  4.199230e-01\n",
       "7  4.173620e-01\n",
       "8  4.160820e-01\n",
       "9  4.135210e-01"
      ]
     },
     "execution_count": 2,
     "metadata": {},
     "output_type": "execute_result"
    }
   ],
   "source": [
    "# Sampling frequency 4Hz ~= 0.25s\n",
    "fl_eda_7 = pd.read_csv('data/exp_7/EDA.csv' , header= None)\n",
    "fl_eda_7.columns  = ['eda']\n",
    "fl_eda_freq_7 = fl_eda_7.iloc[1].values\n",
    "print(len(fl_eda_7))\n",
    "print('freq: ', fl_eda_freq_7)\n",
    "fl_eda_7.head(10)"
   ]
  },
  {
   "cell_type": "code",
   "execution_count": 3,
   "metadata": {},
   "outputs": [
    {
     "name": "stdout",
     "output_type": "stream",
     "text": [
      "8026\n",
      "freq:  [4.]\n"
     ]
    },
    {
     "data": {
      "text/html": [
       "<div>\n",
       "<style scoped>\n",
       "    .dataframe tbody tr th:only-of-type {\n",
       "        vertical-align: middle;\n",
       "    }\n",
       "\n",
       "    .dataframe tbody tr th {\n",
       "        vertical-align: top;\n",
       "    }\n",
       "\n",
       "    .dataframe thead th {\n",
       "        text-align: right;\n",
       "    }\n",
       "</style>\n",
       "<table border=\"1\" class=\"dataframe\">\n",
       "  <thead>\n",
       "    <tr style=\"text-align: right;\">\n",
       "      <th></th>\n",
       "      <th>temp</th>\n",
       "    </tr>\n",
       "  </thead>\n",
       "  <tbody>\n",
       "    <tr>\n",
       "      <th>0</th>\n",
       "      <td>1.528332e+09</td>\n",
       "    </tr>\n",
       "    <tr>\n",
       "      <th>1</th>\n",
       "      <td>4.000000e+00</td>\n",
       "    </tr>\n",
       "    <tr>\n",
       "      <th>2</th>\n",
       "      <td>3.103000e+01</td>\n",
       "    </tr>\n",
       "    <tr>\n",
       "      <th>3</th>\n",
       "      <td>3.103000e+01</td>\n",
       "    </tr>\n",
       "    <tr>\n",
       "      <th>4</th>\n",
       "      <td>3.103000e+01</td>\n",
       "    </tr>\n",
       "    <tr>\n",
       "      <th>5</th>\n",
       "      <td>3.103000e+01</td>\n",
       "    </tr>\n",
       "    <tr>\n",
       "      <th>6</th>\n",
       "      <td>3.103000e+01</td>\n",
       "    </tr>\n",
       "    <tr>\n",
       "      <th>7</th>\n",
       "      <td>3.103000e+01</td>\n",
       "    </tr>\n",
       "    <tr>\n",
       "      <th>8</th>\n",
       "      <td>3.103000e+01</td>\n",
       "    </tr>\n",
       "    <tr>\n",
       "      <th>9</th>\n",
       "      <td>3.103000e+01</td>\n",
       "    </tr>\n",
       "  </tbody>\n",
       "</table>\n",
       "</div>"
      ],
      "text/plain": [
       "           temp\n",
       "0  1.528332e+09\n",
       "1  4.000000e+00\n",
       "2  3.103000e+01\n",
       "3  3.103000e+01\n",
       "4  3.103000e+01\n",
       "5  3.103000e+01\n",
       "6  3.103000e+01\n",
       "7  3.103000e+01\n",
       "8  3.103000e+01\n",
       "9  3.103000e+01"
      ]
     },
     "execution_count": 3,
     "metadata": {},
     "output_type": "execute_result"
    }
   ],
   "source": [
    "# Sampling frequency 4Hz ~= 0.25s\n",
    "fl_temp_7 = pd.read_csv('data/exp_7/TEMP.csv' , header= None)\n",
    "fl_temp_7.columns  = ['temp']\n",
    "fl_temp_freq_7 = fl_temp_7.iloc[1].values\n",
    "print(len(fl_temp_7))\n",
    "print('freq: ', fl_temp_freq_7)\n",
    "fl_temp_7.head(10)"
   ]
  },
  {
   "cell_type": "code",
   "execution_count": 4,
   "metadata": {},
   "outputs": [
    {
     "data": {
      "text/plain": [
       "'2018-06-07 00:48:15.000'"
      ]
     },
     "execution_count": 4,
     "metadata": {},
     "output_type": "execute_result"
    }
   ],
   "source": [
    "fl_init_time_7 = datetime.datetime.utcfromtimestamp(fl_eda_7.iloc[0]).strftime('%Y-%m-%d %H:%M:%S.000')\n",
    "fl_init_time_7"
   ]
  },
  {
   "cell_type": "code",
   "execution_count": 5,
   "metadata": {},
   "outputs": [],
   "source": [
    "fl_eda_7 = fl_eda_7.iloc[3:]\n",
    "fl_temp_7 = fl_temp_7.iloc[3:]"
   ]
  },
  {
   "cell_type": "code",
   "execution_count": 6,
   "metadata": {},
   "outputs": [
    {
     "data": {
      "text/plain": [
       "DatetimeIndex([       '2018-06-07 00:48:15', '2018-06-07 00:48:15.250000',\n",
       "               '2018-06-07 00:48:15.500000', '2018-06-07 00:48:15.750000',\n",
       "                      '2018-06-07 00:48:16', '2018-06-07 00:48:16.250000',\n",
       "               '2018-06-07 00:48:16.500000', '2018-06-07 00:48:16.750000',\n",
       "                      '2018-06-07 00:48:17', '2018-06-07 00:48:17.250000',\n",
       "               ...\n",
       "               '2018-06-07 01:21:37.750000',        '2018-06-07 01:21:38',\n",
       "               '2018-06-07 01:21:38.250000', '2018-06-07 01:21:38.500000',\n",
       "               '2018-06-07 01:21:38.750000',        '2018-06-07 01:21:39',\n",
       "               '2018-06-07 01:21:39.250000', '2018-06-07 01:21:39.500000',\n",
       "               '2018-06-07 01:21:39.750000',        '2018-06-07 01:21:40'],\n",
       "              dtype='datetime64[ns]', length=8021, freq='250L')"
      ]
     },
     "execution_count": 6,
     "metadata": {},
     "output_type": "execute_result"
    }
   ],
   "source": [
    "#create index \n",
    "fl_time_eda_7= pd.date_range(start=fl_init_time_7, periods=len(fl_eda_7), \n",
    "                              freq=str(1/int(fl_eda_freq_7))+'S')\n",
    "fl_time_eda_7"
   ]
  },
  {
   "cell_type": "code",
   "execution_count": 7,
   "metadata": {},
   "outputs": [
    {
     "data": {
      "text/plain": [
       "DatetimeIndex([       '2018-06-07 00:48:15', '2018-06-07 00:48:15.250000',\n",
       "               '2018-06-07 00:48:15.500000', '2018-06-07 00:48:15.750000',\n",
       "                      '2018-06-07 00:48:16', '2018-06-07 00:48:16.250000',\n",
       "               '2018-06-07 00:48:16.500000', '2018-06-07 00:48:16.750000',\n",
       "                      '2018-06-07 00:48:17', '2018-06-07 00:48:17.250000',\n",
       "               ...\n",
       "               '2018-06-07 01:21:38.250000', '2018-06-07 01:21:38.500000',\n",
       "               '2018-06-07 01:21:38.750000',        '2018-06-07 01:21:39',\n",
       "               '2018-06-07 01:21:39.250000', '2018-06-07 01:21:39.500000',\n",
       "               '2018-06-07 01:21:39.750000',        '2018-06-07 01:21:40',\n",
       "               '2018-06-07 01:21:40.250000', '2018-06-07 01:21:40.500000'],\n",
       "              dtype='datetime64[ns]', length=8023, freq='250L')"
      ]
     },
     "execution_count": 7,
     "metadata": {},
     "output_type": "execute_result"
    }
   ],
   "source": [
    "fl_time_temp_7 = pd.date_range(start=fl_init_time_7, periods=len(fl_temp_7), \n",
    "                              freq=str(1/int(fl_temp_freq_7))+'S')\n",
    "fl_time_temp_7"
   ]
  },
  {
   "cell_type": "code",
   "execution_count": 8,
   "metadata": {},
   "outputs": [
    {
     "name": "stdout",
     "output_type": "stream",
     "text": [
      "8021\n"
     ]
    },
    {
     "data": {
      "text/html": [
       "<div>\n",
       "<style scoped>\n",
       "    .dataframe tbody tr th:only-of-type {\n",
       "        vertical-align: middle;\n",
       "    }\n",
       "\n",
       "    .dataframe tbody tr th {\n",
       "        vertical-align: top;\n",
       "    }\n",
       "\n",
       "    .dataframe thead th {\n",
       "        text-align: right;\n",
       "    }\n",
       "</style>\n",
       "<table border=\"1\" class=\"dataframe\">\n",
       "  <thead>\n",
       "    <tr style=\"text-align: right;\">\n",
       "      <th></th>\n",
       "      <th>eda</th>\n",
       "    </tr>\n",
       "  </thead>\n",
       "  <tbody>\n",
       "    <tr>\n",
       "      <th>2018-06-07 00:48:15.000</th>\n",
       "      <td>0.362311</td>\n",
       "    </tr>\n",
       "    <tr>\n",
       "      <th>2018-06-07 00:48:15.250</th>\n",
       "      <td>0.418642</td>\n",
       "    </tr>\n",
       "    <tr>\n",
       "      <th>2018-06-07 00:48:15.500</th>\n",
       "      <td>0.422483</td>\n",
       "    </tr>\n",
       "    <tr>\n",
       "      <th>2018-06-07 00:48:15.750</th>\n",
       "      <td>0.419923</td>\n",
       "    </tr>\n",
       "    <tr>\n",
       "      <th>2018-06-07 00:48:16.000</th>\n",
       "      <td>0.417362</td>\n",
       "    </tr>\n",
       "  </tbody>\n",
       "</table>\n",
       "</div>"
      ],
      "text/plain": [
       "                              eda\n",
       "2018-06-07 00:48:15.000  0.362311\n",
       "2018-06-07 00:48:15.250  0.418642\n",
       "2018-06-07 00:48:15.500  0.422483\n",
       "2018-06-07 00:48:15.750  0.419923\n",
       "2018-06-07 00:48:16.000  0.417362"
      ]
     },
     "execution_count": 8,
     "metadata": {},
     "output_type": "execute_result"
    }
   ],
   "source": [
    "fl_eda_7 = fl_eda_7.set_index(fl_time_eda_7, drop =True)\n",
    "fl_eda_7 = fl_eda_7[:]\n",
    "fl_eda_7 = fl_eda_7.dropna()\n",
    "print(len(fl_eda_7))\n",
    "fl_eda_7.head()"
   ]
  },
  {
   "cell_type": "code",
   "execution_count": 9,
   "metadata": {},
   "outputs": [
    {
     "name": "stdout",
     "output_type": "stream",
     "text": [
      "8023\n"
     ]
    },
    {
     "data": {
      "text/html": [
       "<div>\n",
       "<style scoped>\n",
       "    .dataframe tbody tr th:only-of-type {\n",
       "        vertical-align: middle;\n",
       "    }\n",
       "\n",
       "    .dataframe tbody tr th {\n",
       "        vertical-align: top;\n",
       "    }\n",
       "\n",
       "    .dataframe thead th {\n",
       "        text-align: right;\n",
       "    }\n",
       "</style>\n",
       "<table border=\"1\" class=\"dataframe\">\n",
       "  <thead>\n",
       "    <tr style=\"text-align: right;\">\n",
       "      <th></th>\n",
       "      <th>temp</th>\n",
       "    </tr>\n",
       "  </thead>\n",
       "  <tbody>\n",
       "    <tr>\n",
       "      <th>2018-06-07 00:48:15.000</th>\n",
       "      <td>31.03</td>\n",
       "    </tr>\n",
       "    <tr>\n",
       "      <th>2018-06-07 00:48:15.250</th>\n",
       "      <td>31.03</td>\n",
       "    </tr>\n",
       "    <tr>\n",
       "      <th>2018-06-07 00:48:15.500</th>\n",
       "      <td>31.03</td>\n",
       "    </tr>\n",
       "    <tr>\n",
       "      <th>2018-06-07 00:48:15.750</th>\n",
       "      <td>31.03</td>\n",
       "    </tr>\n",
       "    <tr>\n",
       "      <th>2018-06-07 00:48:16.000</th>\n",
       "      <td>31.03</td>\n",
       "    </tr>\n",
       "  </tbody>\n",
       "</table>\n",
       "</div>"
      ],
      "text/plain": [
       "                          temp\n",
       "2018-06-07 00:48:15.000  31.03\n",
       "2018-06-07 00:48:15.250  31.03\n",
       "2018-06-07 00:48:15.500  31.03\n",
       "2018-06-07 00:48:15.750  31.03\n",
       "2018-06-07 00:48:16.000  31.03"
      ]
     },
     "execution_count": 9,
     "metadata": {},
     "output_type": "execute_result"
    }
   ],
   "source": [
    "fl_temp_7 = fl_temp_7.set_index(fl_time_temp_7, drop =True)\n",
    "fl_temp_7 = fl_temp_7[:]\n",
    "fl_temp_7 = fl_temp_7.dropna()\n",
    "print(len(fl_temp_7))\n",
    "fl_temp_7.head()"
   ]
  },
  {
   "cell_type": "markdown",
   "metadata": {},
   "source": [
    "## Tags - Marked Time Stamps"
   ]
  },
  {
   "cell_type": "code",
   "execution_count": 10,
   "metadata": {},
   "outputs": [
    {
     "data": {
      "text/html": [
       "<div>\n",
       "<style scoped>\n",
       "    .dataframe tbody tr th:only-of-type {\n",
       "        vertical-align: middle;\n",
       "    }\n",
       "\n",
       "    .dataframe tbody tr th {\n",
       "        vertical-align: top;\n",
       "    }\n",
       "\n",
       "    .dataframe thead th {\n",
       "        text-align: right;\n",
       "    }\n",
       "</style>\n",
       "<table border=\"1\" class=\"dataframe\">\n",
       "  <thead>\n",
       "    <tr style=\"text-align: right;\">\n",
       "      <th></th>\n",
       "      <th>tagged_time</th>\n",
       "    </tr>\n",
       "  </thead>\n",
       "  <tbody>\n",
       "    <tr>\n",
       "      <th>0</th>\n",
       "      <td>1.528333e+09</td>\n",
       "    </tr>\n",
       "    <tr>\n",
       "      <th>1</th>\n",
       "      <td>1.528333e+09</td>\n",
       "    </tr>\n",
       "    <tr>\n",
       "      <th>2</th>\n",
       "      <td>1.528333e+09</td>\n",
       "    </tr>\n",
       "    <tr>\n",
       "      <th>3</th>\n",
       "      <td>1.528333e+09</td>\n",
       "    </tr>\n",
       "    <tr>\n",
       "      <th>4</th>\n",
       "      <td>1.528333e+09</td>\n",
       "    </tr>\n",
       "  </tbody>\n",
       "</table>\n",
       "</div>"
      ],
      "text/plain": [
       "    tagged_time\n",
       "0  1.528333e+09\n",
       "1  1.528333e+09\n",
       "2  1.528333e+09\n",
       "3  1.528333e+09\n",
       "4  1.528333e+09"
      ]
     },
     "execution_count": 10,
     "metadata": {},
     "output_type": "execute_result"
    }
   ],
   "source": [
    "tags_7 = pd.read_csv('data/exp_7/tags/tags.csv' , header= None)\n",
    "tags_7.columns  =  ['tagged_time']\n",
    "tags_7.head()"
   ]
  },
  {
   "cell_type": "code",
   "execution_count": 11,
   "metadata": {},
   "outputs": [],
   "source": [
    "tags_7.tagged_time = [datetime.datetime.utcfromtimestamp(x).strftime('%Y-%m-%d %H:%M:%S.000') for x in tags_7.tagged_time]\n"
   ]
  },
  {
   "cell_type": "code",
   "execution_count": 13,
   "metadata": {},
   "outputs": [
    {
     "data": {
      "text/plain": [
       "0    2018-06-07 00:49:35.000\n",
       "1    2018-06-07 00:54:50.000\n",
       "2    2018-06-07 00:59:39.000\n",
       "3    2018-06-07 01:01:06.000\n",
       "4    2018-06-07 01:01:38.000\n",
       "5    2018-06-07 01:01:54.000\n",
       "6    2018-06-07 01:06:26.000\n",
       "7    2018-06-07 01:06:30.000\n",
       "8    2018-06-07 01:09:34.000\n",
       "9    2018-06-07 01:16:35.000\n",
       "Name: tagged_time, dtype: object"
      ]
     },
     "execution_count": 13,
     "metadata": {},
     "output_type": "execute_result"
    }
   ],
   "source": [
    "tags_7.tagged_time"
   ]
  },
  {
   "cell_type": "code",
   "execution_count": 16,
   "metadata": {},
   "outputs": [
    {
     "data": {
      "text/html": [
       "<div>\n",
       "<style scoped>\n",
       "    .dataframe tbody tr th:only-of-type {\n",
       "        vertical-align: middle;\n",
       "    }\n",
       "\n",
       "    .dataframe tbody tr th {\n",
       "        vertical-align: top;\n",
       "    }\n",
       "\n",
       "    .dataframe thead th {\n",
       "        text-align: right;\n",
       "    }\n",
       "</style>\n",
       "<table border=\"1\" class=\"dataframe\">\n",
       "  <thead>\n",
       "    <tr style=\"text-align: right;\">\n",
       "      <th></th>\n",
       "      <th>tagged_time</th>\n",
       "    </tr>\n",
       "  </thead>\n",
       "  <tbody>\n",
       "    <tr>\n",
       "      <th>0</th>\n",
       "      <td>2018-06-07 00:49:35.000</td>\n",
       "    </tr>\n",
       "    <tr>\n",
       "      <th>1</th>\n",
       "      <td>2018-06-07 00:54:50.000</td>\n",
       "    </tr>\n",
       "    <tr>\n",
       "      <th>2</th>\n",
       "      <td>2018-06-07 00:59:39.000</td>\n",
       "    </tr>\n",
       "    <tr>\n",
       "      <th>3</th>\n",
       "      <td>2018-06-07 01:01:06.000</td>\n",
       "    </tr>\n",
       "    <tr>\n",
       "      <th>4</th>\n",
       "      <td>2018-06-07 01:01:38.000</td>\n",
       "    </tr>\n",
       "    <tr>\n",
       "      <th>5</th>\n",
       "      <td>2018-06-07 01:01:54.000</td>\n",
       "    </tr>\n",
       "    <tr>\n",
       "      <th>7</th>\n",
       "      <td>2018-06-07 01:06:30.000</td>\n",
       "    </tr>\n",
       "    <tr>\n",
       "      <th>8</th>\n",
       "      <td>2018-06-07 01:09:34.000</td>\n",
       "    </tr>\n",
       "    <tr>\n",
       "      <th>9</th>\n",
       "      <td>2018-06-07 01:16:35.000</td>\n",
       "    </tr>\n",
       "  </tbody>\n",
       "</table>\n",
       "</div>"
      ],
      "text/plain": [
       "               tagged_time\n",
       "0  2018-06-07 00:49:35.000\n",
       "1  2018-06-07 00:54:50.000\n",
       "2  2018-06-07 00:59:39.000\n",
       "3  2018-06-07 01:01:06.000\n",
       "4  2018-06-07 01:01:38.000\n",
       "5  2018-06-07 01:01:54.000\n",
       "7  2018-06-07 01:06:30.000\n",
       "8  2018-06-07 01:09:34.000\n",
       "9  2018-06-07 01:16:35.000"
      ]
     },
     "execution_count": 16,
     "metadata": {},
     "output_type": "execute_result"
    }
   ],
   "source": [
    "tags_7 = tags_7.drop(6)\n",
    "tags_7"
   ]
  },
  {
   "cell_type": "markdown",
   "metadata": {},
   "source": [
    "# Visualization "
   ]
  },
  {
   "cell_type": "code",
   "execution_count": null,
   "metadata": {},
   "outputs": [],
   "source": []
  },
  {
   "cell_type": "code",
   "execution_count": null,
   "metadata": {},
   "outputs": [],
   "source": []
  },
  {
   "cell_type": "code",
   "execution_count": null,
   "metadata": {},
   "outputs": [],
   "source": []
  },
  {
   "cell_type": "code",
   "execution_count": null,
   "metadata": {},
   "outputs": [],
   "source": []
  },
  {
   "cell_type": "code",
   "execution_count": null,
   "metadata": {},
   "outputs": [],
   "source": []
  },
  {
   "cell_type": "markdown",
   "metadata": {},
   "source": [
    "# Feature Extraction "
   ]
  },
  {
   "cell_type": "code",
   "execution_count": null,
   "metadata": {},
   "outputs": [],
   "source": []
  },
  {
   "cell_type": "code",
   "execution_count": null,
   "metadata": {},
   "outputs": [],
   "source": []
  },
  {
   "cell_type": "code",
   "execution_count": null,
   "metadata": {},
   "outputs": [],
   "source": []
  },
  {
   "cell_type": "code",
   "execution_count": null,
   "metadata": {},
   "outputs": [],
   "source": []
  },
  {
   "cell_type": "code",
   "execution_count": null,
   "metadata": {},
   "outputs": [],
   "source": []
  },
  {
   "cell_type": "code",
   "execution_count": null,
   "metadata": {},
   "outputs": [],
   "source": []
  },
  {
   "cell_type": "markdown",
   "metadata": {},
   "source": [
    "# Pre-experiment Tonic component "
   ]
  },
  {
   "cell_type": "code",
   "execution_count": null,
   "metadata": {},
   "outputs": [],
   "source": []
  },
  {
   "cell_type": "code",
   "execution_count": null,
   "metadata": {},
   "outputs": [],
   "source": []
  },
  {
   "cell_type": "code",
   "execution_count": null,
   "metadata": {},
   "outputs": [],
   "source": []
  },
  {
   "cell_type": "code",
   "execution_count": null,
   "metadata": {},
   "outputs": [],
   "source": []
  },
  {
   "cell_type": "code",
   "execution_count": null,
   "metadata": {},
   "outputs": [],
   "source": []
  },
  {
   "cell_type": "code",
   "execution_count": null,
   "metadata": {},
   "outputs": [],
   "source": []
  },
  {
   "cell_type": "markdown",
   "metadata": {},
   "source": [
    "# Post-experiment Tonic component"
   ]
  },
  {
   "cell_type": "code",
   "execution_count": null,
   "metadata": {},
   "outputs": [],
   "source": []
  }
 ],
 "metadata": {
  "kernelspec": {
   "display_name": "Python 3",
   "language": "python",
   "name": "python3"
  },
  "language_info": {
   "codemirror_mode": {
    "name": "ipython",
    "version": 3
   },
   "file_extension": ".py",
   "mimetype": "text/x-python",
   "name": "python",
   "nbconvert_exporter": "python",
   "pygments_lexer": "ipython3",
   "version": "3.5.2"
  }
 },
 "nbformat": 4,
 "nbformat_minor": 2
}
