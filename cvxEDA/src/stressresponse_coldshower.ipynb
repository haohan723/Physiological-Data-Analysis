{
 "cells": [
  {
   "cell_type": "markdown",
   "metadata": {},
   "source": [
    "# Study Overview"
   ]
  },
  {
   "cell_type": "markdown",
   "metadata": {},
   "source": [
    "In this study, we are trying to analyze the psychophysiological data i.e. EDA and Temperature in 2 scenarios: \n",
    "\n",
    "* How EDA varies when the person is showering on his own and when the person is showering when the other is present.\n",
    "\n",
    "\n",
    "      -whether the perceived pain and stress is less when the partner is present\n",
    "* How EDA is changing over time while showering \n",
    "* How EDA and HR differ over the test periods (on day basis)"
   ]
  },
  {
   "cell_type": "markdown",
   "metadata": {},
   "source": [
    "# Import Library"
   ]
  },
  {
   "cell_type": "code",
   "execution_count": 1,
   "metadata": {},
   "outputs": [],
   "source": [
    "import numpy as np \n",
    "# import tensorflow as tf\n",
    "import pandas as pd\n",
    "import matplotlib.pyplot as plt\n",
    "import seaborn as sns\n",
    "import cvxEDA\n",
    "import datetime\n",
    "from scipy import stats\n",
    "from mpl_toolkits import mplot3d\n",
    "import pylab as pl\n",
    "from mpl_toolkits.mplot3d import Axes3D\n",
    "from sklearn.cluster import KMeans\n",
    "from sklearn.datasets import make_blobs\n",
    "from scipy.stats import ks_2samp\n",
    "\n",
    "sns.set(color_codes = True)\n",
    "%matplotlib inline\n",
    "%config InlineBackend.figure_format = 'retina'"
   ]
  },
  {
   "cell_type": "markdown",
   "metadata": {},
   "source": [
    "# Load the data"
   ]
  },
  {
   "cell_type": "markdown",
   "metadata": {},
   "source": [
    "## EDA"
   ]
  },
  {
   "cell_type": "markdown",
   "metadata": {},
   "source": [
    "### Day 0"
   ]
  },
  {
   "cell_type": "code",
   "execution_count": 2,
   "metadata": {},
   "outputs": [
    {
     "name": "stdout",
     "output_type": "stream",
     "text": [
      "1232\n",
      "freq:  [4.]\n"
     ]
    },
    {
     "data": {
      "text/html": [
       "<div>\n",
       "<style scoped>\n",
       "    .dataframe tbody tr th:only-of-type {\n",
       "        vertical-align: middle;\n",
       "    }\n",
       "\n",
       "    .dataframe tbody tr th {\n",
       "        vertical-align: top;\n",
       "    }\n",
       "\n",
       "    .dataframe thead th {\n",
       "        text-align: right;\n",
       "    }\n",
       "</style>\n",
       "<table border=\"1\" class=\"dataframe\">\n",
       "  <thead>\n",
       "    <tr style=\"text-align: right;\">\n",
       "      <th></th>\n",
       "      <th>eda</th>\n",
       "    </tr>\n",
       "  </thead>\n",
       "  <tbody>\n",
       "    <tr>\n",
       "      <th>0</th>\n",
       "      <td>1.526949e+09</td>\n",
       "    </tr>\n",
       "    <tr>\n",
       "      <th>1</th>\n",
       "      <td>4.000000e+00</td>\n",
       "    </tr>\n",
       "    <tr>\n",
       "      <th>2</th>\n",
       "      <td>0.000000e+00</td>\n",
       "    </tr>\n",
       "    <tr>\n",
       "      <th>3</th>\n",
       "      <td>3.446160e-01</td>\n",
       "    </tr>\n",
       "    <tr>\n",
       "      <th>4</th>\n",
       "      <td>4.150760e-01</td>\n",
       "    </tr>\n",
       "    <tr>\n",
       "      <th>5</th>\n",
       "      <td>4.278870e-01</td>\n",
       "    </tr>\n",
       "    <tr>\n",
       "      <th>6</th>\n",
       "      <td>4.330120e-01</td>\n",
       "    </tr>\n",
       "    <tr>\n",
       "      <th>7</th>\n",
       "      <td>4.227630e-01</td>\n",
       "    </tr>\n",
       "    <tr>\n",
       "      <th>8</th>\n",
       "      <td>3.804870e-01</td>\n",
       "    </tr>\n",
       "    <tr>\n",
       "      <th>9</th>\n",
       "      <td>3.881730e-01</td>\n",
       "    </tr>\n",
       "  </tbody>\n",
       "</table>\n",
       "</div>"
      ],
      "text/plain": [
       "            eda\n",
       "0  1.526949e+09\n",
       "1  4.000000e+00\n",
       "2  0.000000e+00\n",
       "3  3.446160e-01\n",
       "4  4.150760e-01\n",
       "5  4.278870e-01\n",
       "6  4.330120e-01\n",
       "7  4.227630e-01\n",
       "8  3.804870e-01\n",
       "9  3.881730e-01"
      ]
     },
     "execution_count": 2,
     "metadata": {},
     "output_type": "execute_result"
    }
   ],
   "source": [
    "# Sampling frequency 4Hz ~= 0.25s\n",
    "fl_eda_0 = pd.read_csv('data/exp_1/EDA.csv' , header= None)\n",
    "fl_eda_0.columns  = ['eda']\n",
    "fl_eda_freq_0 = fl_eda_0.iloc[1].values\n",
    "print(len(fl_eda_0))\n",
    "print('freq: ', fl_eda_freq_0)\n",
    "fl_eda_0.head(10)"
   ]
  },
  {
   "cell_type": "code",
   "execution_count": 3,
   "metadata": {},
   "outputs": [
    {
     "data": {
      "text/plain": [
       "'2018-05-22 00:29:47'"
      ]
     },
     "execution_count": 3,
     "metadata": {},
     "output_type": "execute_result"
    }
   ],
   "source": [
    "fl_init_time_0 = datetime.datetime.utcfromtimestamp(fl_eda_0.iloc[0]).strftime('%Y-%m-%d %H:%M:%S')\n",
    "fl_init_time_0"
   ]
  },
  {
   "cell_type": "code",
   "execution_count": 4,
   "metadata": {},
   "outputs": [
    {
     "data": {
      "text/html": [
       "<div>\n",
       "<style scoped>\n",
       "    .dataframe tbody tr th:only-of-type {\n",
       "        vertical-align: middle;\n",
       "    }\n",
       "\n",
       "    .dataframe tbody tr th {\n",
       "        vertical-align: top;\n",
       "    }\n",
       "\n",
       "    .dataframe thead th {\n",
       "        text-align: right;\n",
       "    }\n",
       "</style>\n",
       "<table border=\"1\" class=\"dataframe\">\n",
       "  <thead>\n",
       "    <tr style=\"text-align: right;\">\n",
       "      <th></th>\n",
       "      <th>eda</th>\n",
       "    </tr>\n",
       "  </thead>\n",
       "  <tbody>\n",
       "    <tr>\n",
       "      <th>3</th>\n",
       "      <td>0.344616</td>\n",
       "    </tr>\n",
       "    <tr>\n",
       "      <th>4</th>\n",
       "      <td>0.415076</td>\n",
       "    </tr>\n",
       "    <tr>\n",
       "      <th>5</th>\n",
       "      <td>0.427887</td>\n",
       "    </tr>\n",
       "    <tr>\n",
       "      <th>6</th>\n",
       "      <td>0.433012</td>\n",
       "    </tr>\n",
       "    <tr>\n",
       "      <th>7</th>\n",
       "      <td>0.422763</td>\n",
       "    </tr>\n",
       "  </tbody>\n",
       "</table>\n",
       "</div>"
      ],
      "text/plain": [
       "        eda\n",
       "3  0.344616\n",
       "4  0.415076\n",
       "5  0.427887\n",
       "6  0.433012\n",
       "7  0.422763"
      ]
     },
     "execution_count": 4,
     "metadata": {},
     "output_type": "execute_result"
    }
   ],
   "source": [
    "fl_eda_0 = fl_eda_0.iloc[3:]\n",
    "fl_eda_0.head(5)"
   ]
  },
  {
   "cell_type": "code",
   "execution_count": 5,
   "metadata": {},
   "outputs": [
    {
     "data": {
      "text/plain": [
       "DatetimeIndex([       '2018-05-22 00:29:47', '2018-05-22 00:29:47.250000',\n",
       "               '2018-05-22 00:29:47.500000', '2018-05-22 00:29:47.750000',\n",
       "                      '2018-05-22 00:29:48', '2018-05-22 00:29:48.250000',\n",
       "               '2018-05-22 00:29:48.500000', '2018-05-22 00:29:48.750000',\n",
       "                      '2018-05-22 00:29:49', '2018-05-22 00:29:49.250000',\n",
       "               ...\n",
       "               '2018-05-22 00:34:51.750000',        '2018-05-22 00:34:52',\n",
       "               '2018-05-22 00:34:52.250000', '2018-05-22 00:34:52.500000',\n",
       "               '2018-05-22 00:34:52.750000',        '2018-05-22 00:34:53',\n",
       "               '2018-05-22 00:34:53.250000', '2018-05-22 00:34:53.500000',\n",
       "               '2018-05-22 00:34:53.750000',        '2018-05-22 00:34:54'],\n",
       "              dtype='datetime64[ns]', length=1229, freq='250L')"
      ]
     },
     "execution_count": 5,
     "metadata": {},
     "output_type": "execute_result"
    }
   ],
   "source": [
    "#create index \n",
    "fl_time_eda_0 = pd.date_range(start=fl_init_time_0, periods=len(fl_eda_0), freq=str(1/int(fl_eda_freq_0))+'S')\n",
    "fl_time_eda_0"
   ]
  },
  {
   "cell_type": "code",
   "execution_count": 6,
   "metadata": {
    "scrolled": true
   },
   "outputs": [
    {
     "data": {
      "text/html": [
       "<div>\n",
       "<style scoped>\n",
       "    .dataframe tbody tr th:only-of-type {\n",
       "        vertical-align: middle;\n",
       "    }\n",
       "\n",
       "    .dataframe tbody tr th {\n",
       "        vertical-align: top;\n",
       "    }\n",
       "\n",
       "    .dataframe thead th {\n",
       "        text-align: right;\n",
       "    }\n",
       "</style>\n",
       "<table border=\"1\" class=\"dataframe\">\n",
       "  <thead>\n",
       "    <tr style=\"text-align: right;\">\n",
       "      <th></th>\n",
       "      <th>eda</th>\n",
       "    </tr>\n",
       "  </thead>\n",
       "  <tbody>\n",
       "    <tr>\n",
       "      <th>2018-05-22 00:29:47.000</th>\n",
       "      <td>0.344616</td>\n",
       "    </tr>\n",
       "    <tr>\n",
       "      <th>2018-05-22 00:29:47.250</th>\n",
       "      <td>0.415076</td>\n",
       "    </tr>\n",
       "    <tr>\n",
       "      <th>2018-05-22 00:29:47.500</th>\n",
       "      <td>0.427887</td>\n",
       "    </tr>\n",
       "    <tr>\n",
       "      <th>2018-05-22 00:29:47.750</th>\n",
       "      <td>0.433012</td>\n",
       "    </tr>\n",
       "    <tr>\n",
       "      <th>2018-05-22 00:29:48.000</th>\n",
       "      <td>0.422763</td>\n",
       "    </tr>\n",
       "  </tbody>\n",
       "</table>\n",
       "</div>"
      ],
      "text/plain": [
       "                              eda\n",
       "2018-05-22 00:29:47.000  0.344616\n",
       "2018-05-22 00:29:47.250  0.415076\n",
       "2018-05-22 00:29:47.500  0.427887\n",
       "2018-05-22 00:29:47.750  0.433012\n",
       "2018-05-22 00:29:48.000  0.422763"
      ]
     },
     "execution_count": 6,
     "metadata": {},
     "output_type": "execute_result"
    }
   ],
   "source": [
    "fl_eda_0 = fl_eda_0.set_index(fl_time_eda_0, drop =True)\n",
    "fl_eda_0.head()"
   ]
  },
  {
   "cell_type": "code",
   "execution_count": 7,
   "metadata": {},
   "outputs": [
    {
     "name": "stdout",
     "output_type": "stream",
     "text": [
      "1205\n"
     ]
    },
    {
     "data": {
      "text/html": [
       "<div>\n",
       "<style scoped>\n",
       "    .dataframe tbody tr th:only-of-type {\n",
       "        vertical-align: middle;\n",
       "    }\n",
       "\n",
       "    .dataframe tbody tr th {\n",
       "        vertical-align: top;\n",
       "    }\n",
       "\n",
       "    .dataframe thead th {\n",
       "        text-align: right;\n",
       "    }\n",
       "</style>\n",
       "<table border=\"1\" class=\"dataframe\">\n",
       "  <thead>\n",
       "    <tr style=\"text-align: right;\">\n",
       "      <th></th>\n",
       "      <th>eda</th>\n",
       "    </tr>\n",
       "  </thead>\n",
       "  <tbody>\n",
       "    <tr>\n",
       "      <th>2018-05-22 00:29:50.000</th>\n",
       "      <td>0.431731</td>\n",
       "    </tr>\n",
       "    <tr>\n",
       "      <th>2018-05-22 00:29:50.250</th>\n",
       "      <td>0.430450</td>\n",
       "    </tr>\n",
       "    <tr>\n",
       "      <th>2018-05-22 00:29:50.500</th>\n",
       "      <td>0.418920</td>\n",
       "    </tr>\n",
       "    <tr>\n",
       "      <th>2018-05-22 00:29:50.750</th>\n",
       "      <td>0.402265</td>\n",
       "    </tr>\n",
       "    <tr>\n",
       "      <th>2018-05-22 00:29:51.000</th>\n",
       "      <td>0.381768</td>\n",
       "    </tr>\n",
       "  </tbody>\n",
       "</table>\n",
       "</div>"
      ],
      "text/plain": [
       "                              eda\n",
       "2018-05-22 00:29:50.000  0.431731\n",
       "2018-05-22 00:29:50.250  0.430450\n",
       "2018-05-22 00:29:50.500  0.418920\n",
       "2018-05-22 00:29:50.750  0.402265\n",
       "2018-05-22 00:29:51.000  0.381768"
      ]
     },
     "execution_count": 7,
     "metadata": {},
     "output_type": "execute_result"
    }
   ],
   "source": [
    "# eda = eda.rolling(4).sum()\n",
    "# fl_eda = fl_eda.iloc[::4,:]\n",
    "fl_eda_0 = fl_eda_0[12:-12]\n",
    "fl_eda_0 = fl_eda_0.dropna()\n",
    "\n",
    "print(len(fl_eda_0))\n",
    "fl_eda_0.head()"
   ]
  },
  {
   "cell_type": "markdown",
   "metadata": {},
   "source": [
    "### Day 1"
   ]
  },
  {
   "cell_type": "code",
   "execution_count": 8,
   "metadata": {},
   "outputs": [
    {
     "name": "stdout",
     "output_type": "stream",
     "text": [
      "2120\n",
      "freq:  [4.]\n"
     ]
    },
    {
     "data": {
      "text/html": [
       "<div>\n",
       "<style scoped>\n",
       "    .dataframe tbody tr th:only-of-type {\n",
       "        vertical-align: middle;\n",
       "    }\n",
       "\n",
       "    .dataframe tbody tr th {\n",
       "        vertical-align: top;\n",
       "    }\n",
       "\n",
       "    .dataframe thead th {\n",
       "        text-align: right;\n",
       "    }\n",
       "</style>\n",
       "<table border=\"1\" class=\"dataframe\">\n",
       "  <thead>\n",
       "    <tr style=\"text-align: right;\">\n",
       "      <th></th>\n",
       "      <th>eda</th>\n",
       "    </tr>\n",
       "  </thead>\n",
       "  <tbody>\n",
       "    <tr>\n",
       "      <th>0</th>\n",
       "      <td>1.527038e+09</td>\n",
       "    </tr>\n",
       "    <tr>\n",
       "      <th>1</th>\n",
       "      <td>4.000000e+00</td>\n",
       "    </tr>\n",
       "    <tr>\n",
       "      <th>2</th>\n",
       "      <td>0.000000e+00</td>\n",
       "    </tr>\n",
       "    <tr>\n",
       "      <th>3</th>\n",
       "      <td>2.062570e-01</td>\n",
       "    </tr>\n",
       "    <tr>\n",
       "      <th>4</th>\n",
       "      <td>3.523020e-01</td>\n",
       "    </tr>\n",
       "    <tr>\n",
       "      <th>5</th>\n",
       "      <td>3.561460e-01</td>\n",
       "    </tr>\n",
       "    <tr>\n",
       "      <th>6</th>\n",
       "      <td>3.548650e-01</td>\n",
       "    </tr>\n",
       "    <tr>\n",
       "      <th>7</th>\n",
       "      <td>3.574270e-01</td>\n",
       "    </tr>\n",
       "    <tr>\n",
       "      <th>8</th>\n",
       "      <td>3.574270e-01</td>\n",
       "    </tr>\n",
       "    <tr>\n",
       "      <th>9</th>\n",
       "      <td>3.369290e-01</td>\n",
       "    </tr>\n",
       "  </tbody>\n",
       "</table>\n",
       "</div>"
      ],
      "text/plain": [
       "            eda\n",
       "0  1.527038e+09\n",
       "1  4.000000e+00\n",
       "2  0.000000e+00\n",
       "3  2.062570e-01\n",
       "4  3.523020e-01\n",
       "5  3.561460e-01\n",
       "6  3.548650e-01\n",
       "7  3.574270e-01\n",
       "8  3.574270e-01\n",
       "9  3.369290e-01"
      ]
     },
     "execution_count": 8,
     "metadata": {},
     "output_type": "execute_result"
    }
   ],
   "source": [
    "# Sampling frequency 4Hz ~= 0.25s\n",
    "fl_eda_1 = pd.read_csv('data/exp_2/EDA.csv' , header= None)\n",
    "fl_eda_1.columns  = ['eda']\n",
    "fl_eda_freq_1 = fl_eda_1.iloc[1].values\n",
    "print(len(fl_eda_1))\n",
    "print('freq: ', fl_eda_freq_1)\n",
    "fl_eda_1.head(10)"
   ]
  },
  {
   "cell_type": "code",
   "execution_count": 9,
   "metadata": {},
   "outputs": [
    {
     "data": {
      "text/plain": [
       "'2018-05-23 01:09:12'"
      ]
     },
     "execution_count": 9,
     "metadata": {},
     "output_type": "execute_result"
    }
   ],
   "source": [
    "fl_init_time_1 = datetime.datetime.utcfromtimestamp(fl_eda_1.iloc[0]).strftime('%Y-%m-%d %H:%M:%S')\n",
    "fl_init_time_1"
   ]
  },
  {
   "cell_type": "code",
   "execution_count": 10,
   "metadata": {},
   "outputs": [
    {
     "data": {
      "text/html": [
       "<div>\n",
       "<style scoped>\n",
       "    .dataframe tbody tr th:only-of-type {\n",
       "        vertical-align: middle;\n",
       "    }\n",
       "\n",
       "    .dataframe tbody tr th {\n",
       "        vertical-align: top;\n",
       "    }\n",
       "\n",
       "    .dataframe thead th {\n",
       "        text-align: right;\n",
       "    }\n",
       "</style>\n",
       "<table border=\"1\" class=\"dataframe\">\n",
       "  <thead>\n",
       "    <tr style=\"text-align: right;\">\n",
       "      <th></th>\n",
       "      <th>eda</th>\n",
       "    </tr>\n",
       "  </thead>\n",
       "  <tbody>\n",
       "    <tr>\n",
       "      <th>3</th>\n",
       "      <td>0.206257</td>\n",
       "    </tr>\n",
       "    <tr>\n",
       "      <th>4</th>\n",
       "      <td>0.352302</td>\n",
       "    </tr>\n",
       "    <tr>\n",
       "      <th>5</th>\n",
       "      <td>0.356146</td>\n",
       "    </tr>\n",
       "    <tr>\n",
       "      <th>6</th>\n",
       "      <td>0.354865</td>\n",
       "    </tr>\n",
       "    <tr>\n",
       "      <th>7</th>\n",
       "      <td>0.357427</td>\n",
       "    </tr>\n",
       "  </tbody>\n",
       "</table>\n",
       "</div>"
      ],
      "text/plain": [
       "        eda\n",
       "3  0.206257\n",
       "4  0.352302\n",
       "5  0.356146\n",
       "6  0.354865\n",
       "7  0.357427"
      ]
     },
     "execution_count": 10,
     "metadata": {},
     "output_type": "execute_result"
    }
   ],
   "source": [
    "fl_eda_1 = fl_eda_1.iloc[3:]\n",
    "fl_eda_1.head(5)"
   ]
  },
  {
   "cell_type": "code",
   "execution_count": 11,
   "metadata": {},
   "outputs": [
    {
     "data": {
      "text/plain": [
       "DatetimeIndex([       '2018-05-23 01:09:12', '2018-05-23 01:09:12.250000',\n",
       "               '2018-05-23 01:09:12.500000', '2018-05-23 01:09:12.750000',\n",
       "                      '2018-05-23 01:09:13', '2018-05-23 01:09:13.250000',\n",
       "               '2018-05-23 01:09:13.500000', '2018-05-23 01:09:13.750000',\n",
       "                      '2018-05-23 01:09:14', '2018-05-23 01:09:14.250000',\n",
       "               ...\n",
       "               '2018-05-23 01:17:58.750000',        '2018-05-23 01:17:59',\n",
       "               '2018-05-23 01:17:59.250000', '2018-05-23 01:17:59.500000',\n",
       "               '2018-05-23 01:17:59.750000',        '2018-05-23 01:18:00',\n",
       "               '2018-05-23 01:18:00.250000', '2018-05-23 01:18:00.500000',\n",
       "               '2018-05-23 01:18:00.750000',        '2018-05-23 01:18:01'],\n",
       "              dtype='datetime64[ns]', length=2117, freq='250L')"
      ]
     },
     "execution_count": 11,
     "metadata": {},
     "output_type": "execute_result"
    }
   ],
   "source": [
    "#create index \n",
    "fl_time_eda_1 = pd.date_range(start=fl_init_time_1, periods=len(fl_eda_1), freq=str(1/int(fl_eda_freq_1))+'S')\n",
    "fl_time_eda_1"
   ]
  },
  {
   "cell_type": "code",
   "execution_count": 12,
   "metadata": {},
   "outputs": [
    {
     "data": {
      "text/html": [
       "<div>\n",
       "<style scoped>\n",
       "    .dataframe tbody tr th:only-of-type {\n",
       "        vertical-align: middle;\n",
       "    }\n",
       "\n",
       "    .dataframe tbody tr th {\n",
       "        vertical-align: top;\n",
       "    }\n",
       "\n",
       "    .dataframe thead th {\n",
       "        text-align: right;\n",
       "    }\n",
       "</style>\n",
       "<table border=\"1\" class=\"dataframe\">\n",
       "  <thead>\n",
       "    <tr style=\"text-align: right;\">\n",
       "      <th></th>\n",
       "      <th>eda</th>\n",
       "    </tr>\n",
       "  </thead>\n",
       "  <tbody>\n",
       "    <tr>\n",
       "      <th>2018-05-23 01:09:12.000</th>\n",
       "      <td>0.206257</td>\n",
       "    </tr>\n",
       "    <tr>\n",
       "      <th>2018-05-23 01:09:12.250</th>\n",
       "      <td>0.352302</td>\n",
       "    </tr>\n",
       "    <tr>\n",
       "      <th>2018-05-23 01:09:12.500</th>\n",
       "      <td>0.356146</td>\n",
       "    </tr>\n",
       "    <tr>\n",
       "      <th>2018-05-23 01:09:12.750</th>\n",
       "      <td>0.354865</td>\n",
       "    </tr>\n",
       "    <tr>\n",
       "      <th>2018-05-23 01:09:13.000</th>\n",
       "      <td>0.357427</td>\n",
       "    </tr>\n",
       "  </tbody>\n",
       "</table>\n",
       "</div>"
      ],
      "text/plain": [
       "                              eda\n",
       "2018-05-23 01:09:12.000  0.206257\n",
       "2018-05-23 01:09:12.250  0.352302\n",
       "2018-05-23 01:09:12.500  0.356146\n",
       "2018-05-23 01:09:12.750  0.354865\n",
       "2018-05-23 01:09:13.000  0.357427"
      ]
     },
     "execution_count": 12,
     "metadata": {},
     "output_type": "execute_result"
    }
   ],
   "source": [
    "fl_eda_1 = fl_eda_1.set_index(fl_time_eda_1, drop =True)\n",
    "fl_eda_1.head()"
   ]
  },
  {
   "cell_type": "code",
   "execution_count": 13,
   "metadata": {},
   "outputs": [
    {
     "name": "stdout",
     "output_type": "stream",
     "text": [
      "2093\n"
     ]
    },
    {
     "data": {
      "text/html": [
       "<div>\n",
       "<style scoped>\n",
       "    .dataframe tbody tr th:only-of-type {\n",
       "        vertical-align: middle;\n",
       "    }\n",
       "\n",
       "    .dataframe tbody tr th {\n",
       "        vertical-align: top;\n",
       "    }\n",
       "\n",
       "    .dataframe thead th {\n",
       "        text-align: right;\n",
       "    }\n",
       "</style>\n",
       "<table border=\"1\" class=\"dataframe\">\n",
       "  <thead>\n",
       "    <tr style=\"text-align: right;\">\n",
       "      <th></th>\n",
       "      <th>eda</th>\n",
       "    </tr>\n",
       "  </thead>\n",
       "  <tbody>\n",
       "    <tr>\n",
       "      <th>2018-05-23 01:09:15.000</th>\n",
       "      <td>0.354865</td>\n",
       "    </tr>\n",
       "    <tr>\n",
       "      <th>2018-05-23 01:09:15.250</th>\n",
       "      <td>0.356146</td>\n",
       "    </tr>\n",
       "    <tr>\n",
       "      <th>2018-05-23 01:09:15.500</th>\n",
       "      <td>0.353584</td>\n",
       "    </tr>\n",
       "    <tr>\n",
       "      <th>2018-05-23 01:09:15.750</th>\n",
       "      <td>0.352302</td>\n",
       "    </tr>\n",
       "    <tr>\n",
       "      <th>2018-05-23 01:09:16.000</th>\n",
       "      <td>0.353584</td>\n",
       "    </tr>\n",
       "  </tbody>\n",
       "</table>\n",
       "</div>"
      ],
      "text/plain": [
       "                              eda\n",
       "2018-05-23 01:09:15.000  0.354865\n",
       "2018-05-23 01:09:15.250  0.356146\n",
       "2018-05-23 01:09:15.500  0.353584\n",
       "2018-05-23 01:09:15.750  0.352302\n",
       "2018-05-23 01:09:16.000  0.353584"
      ]
     },
     "execution_count": 13,
     "metadata": {},
     "output_type": "execute_result"
    }
   ],
   "source": [
    "# eda = eda.rolling(4).sum()\n",
    "# fl_eda = fl_eda.iloc[::4,:]\n",
    "fl_eda_1 = fl_eda_1[12:-12]\n",
    "fl_eda_1 = fl_eda_1.dropna()\n",
    "print(len(fl_eda_1))\n",
    "fl_eda_1.head()"
   ]
  },
  {
   "cell_type": "markdown",
   "metadata": {},
   "source": [
    "### Day 2"
   ]
  },
  {
   "cell_type": "code",
   "execution_count": 14,
   "metadata": {},
   "outputs": [
    {
     "name": "stdout",
     "output_type": "stream",
     "text": [
      "1664\n",
      "freq:  [4.]\n"
     ]
    },
    {
     "data": {
      "text/html": [
       "<div>\n",
       "<style scoped>\n",
       "    .dataframe tbody tr th:only-of-type {\n",
       "        vertical-align: middle;\n",
       "    }\n",
       "\n",
       "    .dataframe tbody tr th {\n",
       "        vertical-align: top;\n",
       "    }\n",
       "\n",
       "    .dataframe thead th {\n",
       "        text-align: right;\n",
       "    }\n",
       "</style>\n",
       "<table border=\"1\" class=\"dataframe\">\n",
       "  <thead>\n",
       "    <tr style=\"text-align: right;\">\n",
       "      <th></th>\n",
       "      <th>eda</th>\n",
       "    </tr>\n",
       "  </thead>\n",
       "  <tbody>\n",
       "    <tr>\n",
       "      <th>0</th>\n",
       "      <td>1.527124e+09</td>\n",
       "    </tr>\n",
       "    <tr>\n",
       "      <th>1</th>\n",
       "      <td>4.000000e+00</td>\n",
       "    </tr>\n",
       "    <tr>\n",
       "      <th>2</th>\n",
       "      <td>0.000000e+00</td>\n",
       "    </tr>\n",
       "    <tr>\n",
       "      <th>3</th>\n",
       "      <td>4.125140e-01</td>\n",
       "    </tr>\n",
       "    <tr>\n",
       "      <th>4</th>\n",
       "      <td>4.688830e-01</td>\n",
       "    </tr>\n",
       "    <tr>\n",
       "      <th>5</th>\n",
       "      <td>4.765690e-01</td>\n",
       "    </tr>\n",
       "    <tr>\n",
       "      <th>6</th>\n",
       "      <td>4.740070e-01</td>\n",
       "    </tr>\n",
       "    <tr>\n",
       "      <th>7</th>\n",
       "      <td>4.765690e-01</td>\n",
       "    </tr>\n",
       "    <tr>\n",
       "      <th>8</th>\n",
       "      <td>4.765690e-01</td>\n",
       "    </tr>\n",
       "    <tr>\n",
       "      <th>9</th>\n",
       "      <td>4.765690e-01</td>\n",
       "    </tr>\n",
       "  </tbody>\n",
       "</table>\n",
       "</div>"
      ],
      "text/plain": [
       "            eda\n",
       "0  1.527124e+09\n",
       "1  4.000000e+00\n",
       "2  0.000000e+00\n",
       "3  4.125140e-01\n",
       "4  4.688830e-01\n",
       "5  4.765690e-01\n",
       "6  4.740070e-01\n",
       "7  4.765690e-01\n",
       "8  4.765690e-01\n",
       "9  4.765690e-01"
      ]
     },
     "execution_count": 14,
     "metadata": {},
     "output_type": "execute_result"
    }
   ],
   "source": [
    "# Sampling frequency 4Hz ~= 0.25s\n",
    "fl_eda_2 = pd.read_csv('data/exp_3/EDA.csv' , header= None)\n",
    "fl_eda_2.columns  = ['eda']\n",
    "fl_eda_freq_2 = fl_eda_2.iloc[1].values\n",
    "print(len(fl_eda_2))\n",
    "print('freq: ', fl_eda_freq_2)\n",
    "fl_eda_2.head(10)"
   ]
  },
  {
   "cell_type": "code",
   "execution_count": 15,
   "metadata": {},
   "outputs": [
    {
     "data": {
      "text/plain": [
       "'2018-05-24 01:07:49'"
      ]
     },
     "execution_count": 15,
     "metadata": {},
     "output_type": "execute_result"
    }
   ],
   "source": [
    "fl_init_time_2 = datetime.datetime.utcfromtimestamp(fl_eda_2.iloc[0]).strftime('%Y-%m-%d %H:%M:%S')\n",
    "fl_init_time_2"
   ]
  },
  {
   "cell_type": "code",
   "execution_count": 16,
   "metadata": {},
   "outputs": [
    {
     "data": {
      "text/html": [
       "<div>\n",
       "<style scoped>\n",
       "    .dataframe tbody tr th:only-of-type {\n",
       "        vertical-align: middle;\n",
       "    }\n",
       "\n",
       "    .dataframe tbody tr th {\n",
       "        vertical-align: top;\n",
       "    }\n",
       "\n",
       "    .dataframe thead th {\n",
       "        text-align: right;\n",
       "    }\n",
       "</style>\n",
       "<table border=\"1\" class=\"dataframe\">\n",
       "  <thead>\n",
       "    <tr style=\"text-align: right;\">\n",
       "      <th></th>\n",
       "      <th>eda</th>\n",
       "    </tr>\n",
       "  </thead>\n",
       "  <tbody>\n",
       "    <tr>\n",
       "      <th>3</th>\n",
       "      <td>0.412514</td>\n",
       "    </tr>\n",
       "    <tr>\n",
       "      <th>4</th>\n",
       "      <td>0.468883</td>\n",
       "    </tr>\n",
       "    <tr>\n",
       "      <th>5</th>\n",
       "      <td>0.476569</td>\n",
       "    </tr>\n",
       "    <tr>\n",
       "      <th>6</th>\n",
       "      <td>0.474007</td>\n",
       "    </tr>\n",
       "    <tr>\n",
       "      <th>7</th>\n",
       "      <td>0.476569</td>\n",
       "    </tr>\n",
       "  </tbody>\n",
       "</table>\n",
       "</div>"
      ],
      "text/plain": [
       "        eda\n",
       "3  0.412514\n",
       "4  0.468883\n",
       "5  0.476569\n",
       "6  0.474007\n",
       "7  0.476569"
      ]
     },
     "execution_count": 16,
     "metadata": {},
     "output_type": "execute_result"
    }
   ],
   "source": [
    "fl_eda_2 = fl_eda_2.iloc[3:]\n",
    "fl_eda_2.head(5)"
   ]
  },
  {
   "cell_type": "code",
   "execution_count": 17,
   "metadata": {},
   "outputs": [
    {
     "data": {
      "text/plain": [
       "DatetimeIndex([       '2018-05-24 01:07:49', '2018-05-24 01:07:49.250000',\n",
       "               '2018-05-24 01:07:49.500000', '2018-05-24 01:07:49.750000',\n",
       "                      '2018-05-24 01:07:50', '2018-05-24 01:07:50.250000',\n",
       "               '2018-05-24 01:07:50.500000', '2018-05-24 01:07:50.750000',\n",
       "                      '2018-05-24 01:07:51', '2018-05-24 01:07:51.250000',\n",
       "               ...\n",
       "               '2018-05-24 01:14:41.750000',        '2018-05-24 01:14:42',\n",
       "               '2018-05-24 01:14:42.250000', '2018-05-24 01:14:42.500000',\n",
       "               '2018-05-24 01:14:42.750000',        '2018-05-24 01:14:43',\n",
       "               '2018-05-24 01:14:43.250000', '2018-05-24 01:14:43.500000',\n",
       "               '2018-05-24 01:14:43.750000',        '2018-05-24 01:14:44'],\n",
       "              dtype='datetime64[ns]', length=1661, freq='250L')"
      ]
     },
     "execution_count": 17,
     "metadata": {},
     "output_type": "execute_result"
    }
   ],
   "source": [
    "#create index \n",
    "fl_time_eda_2 = pd.date_range(start=fl_init_time_2, periods=len(fl_eda_2), freq=str(1/int(fl_eda_freq_2))+'S')\n",
    "fl_time_eda_2"
   ]
  },
  {
   "cell_type": "code",
   "execution_count": 18,
   "metadata": {},
   "outputs": [
    {
     "data": {
      "text/html": [
       "<div>\n",
       "<style scoped>\n",
       "    .dataframe tbody tr th:only-of-type {\n",
       "        vertical-align: middle;\n",
       "    }\n",
       "\n",
       "    .dataframe tbody tr th {\n",
       "        vertical-align: top;\n",
       "    }\n",
       "\n",
       "    .dataframe thead th {\n",
       "        text-align: right;\n",
       "    }\n",
       "</style>\n",
       "<table border=\"1\" class=\"dataframe\">\n",
       "  <thead>\n",
       "    <tr style=\"text-align: right;\">\n",
       "      <th></th>\n",
       "      <th>eda</th>\n",
       "    </tr>\n",
       "  </thead>\n",
       "  <tbody>\n",
       "    <tr>\n",
       "      <th>2018-05-24 01:07:49.000</th>\n",
       "      <td>0.412514</td>\n",
       "    </tr>\n",
       "    <tr>\n",
       "      <th>2018-05-24 01:07:49.250</th>\n",
       "      <td>0.468883</td>\n",
       "    </tr>\n",
       "    <tr>\n",
       "      <th>2018-05-24 01:07:49.500</th>\n",
       "      <td>0.476569</td>\n",
       "    </tr>\n",
       "    <tr>\n",
       "      <th>2018-05-24 01:07:49.750</th>\n",
       "      <td>0.474007</td>\n",
       "    </tr>\n",
       "    <tr>\n",
       "      <th>2018-05-24 01:07:50.000</th>\n",
       "      <td>0.476569</td>\n",
       "    </tr>\n",
       "  </tbody>\n",
       "</table>\n",
       "</div>"
      ],
      "text/plain": [
       "                              eda\n",
       "2018-05-24 01:07:49.000  0.412514\n",
       "2018-05-24 01:07:49.250  0.468883\n",
       "2018-05-24 01:07:49.500  0.476569\n",
       "2018-05-24 01:07:49.750  0.474007\n",
       "2018-05-24 01:07:50.000  0.476569"
      ]
     },
     "execution_count": 18,
     "metadata": {},
     "output_type": "execute_result"
    }
   ],
   "source": [
    "fl_eda_2 = fl_eda_2.set_index(fl_time_eda_2, drop =True)\n",
    "fl_eda_2.head()"
   ]
  },
  {
   "cell_type": "code",
   "execution_count": 19,
   "metadata": {},
   "outputs": [
    {
     "name": "stdout",
     "output_type": "stream",
     "text": [
      "1637\n"
     ]
    },
    {
     "data": {
      "text/html": [
       "<div>\n",
       "<style scoped>\n",
       "    .dataframe tbody tr th:only-of-type {\n",
       "        vertical-align: middle;\n",
       "    }\n",
       "\n",
       "    .dataframe tbody tr th {\n",
       "        vertical-align: top;\n",
       "    }\n",
       "\n",
       "    .dataframe thead th {\n",
       "        text-align: right;\n",
       "    }\n",
       "</style>\n",
       "<table border=\"1\" class=\"dataframe\">\n",
       "  <thead>\n",
       "    <tr style=\"text-align: right;\">\n",
       "      <th></th>\n",
       "      <th>eda</th>\n",
       "    </tr>\n",
       "  </thead>\n",
       "  <tbody>\n",
       "    <tr>\n",
       "      <th>2018-05-24 01:07:52.000</th>\n",
       "      <td>0.474007</td>\n",
       "    </tr>\n",
       "    <tr>\n",
       "      <th>2018-05-24 01:07:52.250</th>\n",
       "      <td>0.475288</td>\n",
       "    </tr>\n",
       "    <tr>\n",
       "      <th>2018-05-24 01:07:52.500</th>\n",
       "      <td>0.472726</td>\n",
       "    </tr>\n",
       "    <tr>\n",
       "      <th>2018-05-24 01:07:52.750</th>\n",
       "      <td>0.472726</td>\n",
       "    </tr>\n",
       "    <tr>\n",
       "      <th>2018-05-24 01:07:53.000</th>\n",
       "      <td>0.472726</td>\n",
       "    </tr>\n",
       "  </tbody>\n",
       "</table>\n",
       "</div>"
      ],
      "text/plain": [
       "                              eda\n",
       "2018-05-24 01:07:52.000  0.474007\n",
       "2018-05-24 01:07:52.250  0.475288\n",
       "2018-05-24 01:07:52.500  0.472726\n",
       "2018-05-24 01:07:52.750  0.472726\n",
       "2018-05-24 01:07:53.000  0.472726"
      ]
     },
     "execution_count": 19,
     "metadata": {},
     "output_type": "execute_result"
    }
   ],
   "source": [
    "# eda = eda.rolling(4).sum()\n",
    "# fl_eda = fl_eda.iloc[::4,:]\n",
    "fl_eda_2 = fl_eda_2[12:-12]\n",
    "fl_eda_2 = fl_eda_2.dropna()\n",
    "print(len(fl_eda_2))\n",
    "fl_eda_2.head()"
   ]
  },
  {
   "cell_type": "markdown",
   "metadata": {},
   "source": [
    "### Visualization"
   ]
  },
  {
   "cell_type": "markdown",
   "metadata": {},
   "source": [
    "#### Remove Outliers"
   ]
  },
  {
   "cell_type": "code",
   "execution_count": 20,
   "metadata": {},
   "outputs": [
    {
     "name": "stdout",
     "output_type": "stream",
     "text": [
      "1195\n"
     ]
    },
    {
     "data": {
      "text/html": [
       "<div>\n",
       "<style scoped>\n",
       "    .dataframe tbody tr th:only-of-type {\n",
       "        vertical-align: middle;\n",
       "    }\n",
       "\n",
       "    .dataframe tbody tr th {\n",
       "        vertical-align: top;\n",
       "    }\n",
       "\n",
       "    .dataframe thead th {\n",
       "        text-align: right;\n",
       "    }\n",
       "</style>\n",
       "<table border=\"1\" class=\"dataframe\">\n",
       "  <thead>\n",
       "    <tr style=\"text-align: right;\">\n",
       "      <th></th>\n",
       "      <th>eda</th>\n",
       "      <th>present</th>\n",
       "    </tr>\n",
       "  </thead>\n",
       "  <tbody>\n",
       "    <tr>\n",
       "      <th>2018-05-22 00:29:50.750</th>\n",
       "      <td>0.402265</td>\n",
       "      <td>1</td>\n",
       "    </tr>\n",
       "    <tr>\n",
       "      <th>2018-05-22 00:29:51.000</th>\n",
       "      <td>0.381768</td>\n",
       "      <td>1</td>\n",
       "    </tr>\n",
       "    <tr>\n",
       "      <th>2018-05-22 00:29:51.250</th>\n",
       "      <td>0.372800</td>\n",
       "      <td>1</td>\n",
       "    </tr>\n",
       "    <tr>\n",
       "      <th>2018-05-22 00:29:51.500</th>\n",
       "      <td>0.379206</td>\n",
       "      <td>1</td>\n",
       "    </tr>\n",
       "    <tr>\n",
       "      <th>2018-05-22 00:29:51.750</th>\n",
       "      <td>0.376643</td>\n",
       "      <td>1</td>\n",
       "    </tr>\n",
       "  </tbody>\n",
       "</table>\n",
       "</div>"
      ],
      "text/plain": [
       "                              eda  present\n",
       "2018-05-22 00:29:50.750  0.402265        1\n",
       "2018-05-22 00:29:51.000  0.381768        1\n",
       "2018-05-22 00:29:51.250  0.372800        1\n",
       "2018-05-22 00:29:51.500  0.379206        1\n",
       "2018-05-22 00:29:51.750  0.376643        1"
      ]
     },
     "execution_count": 20,
     "metadata": {},
     "output_type": "execute_result"
    }
   ],
   "source": [
    "fl_exp0 = fl_eda_0.copy()#example dataset of normally distributed data. \n",
    "fl_exp0['present'] = 1\n",
    "fl_exp0= fl_exp0[np.abs(fl_exp0.eda-fl_exp0.eda.mean())<=(3*fl_exp0.eda.std())] #keep only the ones that are within +3 to -3 standard deviations in the column 'Data'.\n",
    "fl_exp0= fl_exp0[~(np.abs(fl_exp0.eda-fl_exp0.eda.mean())>(3*fl_exp0.eda.std()))] #or if you prefer the other way around\n",
    "\n",
    "print(len(fl_exp0))\n",
    "fl_exp0.head()\n"
   ]
  },
  {
   "cell_type": "code",
   "execution_count": 21,
   "metadata": {},
   "outputs": [
    {
     "name": "stdout",
     "output_type": "stream",
     "text": [
      "2044\n"
     ]
    },
    {
     "data": {
      "text/html": [
       "<div>\n",
       "<style scoped>\n",
       "    .dataframe tbody tr th:only-of-type {\n",
       "        vertical-align: middle;\n",
       "    }\n",
       "\n",
       "    .dataframe tbody tr th {\n",
       "        vertical-align: top;\n",
       "    }\n",
       "\n",
       "    .dataframe thead th {\n",
       "        text-align: right;\n",
       "    }\n",
       "</style>\n",
       "<table border=\"1\" class=\"dataframe\">\n",
       "  <thead>\n",
       "    <tr style=\"text-align: right;\">\n",
       "      <th></th>\n",
       "      <th>eda</th>\n",
       "      <th>present</th>\n",
       "    </tr>\n",
       "  </thead>\n",
       "  <tbody>\n",
       "    <tr>\n",
       "      <th>2018-05-23 01:17:56.250</th>\n",
       "      <td>0.347178</td>\n",
       "      <td>1</td>\n",
       "    </tr>\n",
       "    <tr>\n",
       "      <th>2018-05-23 01:17:56.500</th>\n",
       "      <td>0.344616</td>\n",
       "      <td>1</td>\n",
       "    </tr>\n",
       "    <tr>\n",
       "      <th>2018-05-23 01:17:56.750</th>\n",
       "      <td>0.351021</td>\n",
       "      <td>1</td>\n",
       "    </tr>\n",
       "    <tr>\n",
       "      <th>2018-05-23 01:17:57.000</th>\n",
       "      <td>0.349740</td>\n",
       "      <td>1</td>\n",
       "    </tr>\n",
       "    <tr>\n",
       "      <th>2018-05-23 01:17:57.250</th>\n",
       "      <td>0.351021</td>\n",
       "      <td>1</td>\n",
       "    </tr>\n",
       "  </tbody>\n",
       "</table>\n",
       "</div>"
      ],
      "text/plain": [
       "                              eda  present\n",
       "2018-05-23 01:17:56.250  0.347178        1\n",
       "2018-05-23 01:17:56.500  0.344616        1\n",
       "2018-05-23 01:17:56.750  0.351021        1\n",
       "2018-05-23 01:17:57.000  0.349740        1\n",
       "2018-05-23 01:17:57.250  0.351021        1"
      ]
     },
     "execution_count": 21,
     "metadata": {},
     "output_type": "execute_result"
    }
   ],
   "source": [
    "fl_exp1 = fl_eda_1.copy()#example dataset of normally distributed data.\n",
    "fl_exp1['present'] = 1\n",
    "fl_exp1= fl_exp1[np.abs(fl_exp1.eda-fl_exp1.eda.mean())<=(3*fl_exp1.eda.std())] #keep only the ones that are within +3 to -3 standard deviations in the column 'Data'.\n",
    "fl_exp1= fl_exp1[~(np.abs(fl_exp1.eda-fl_exp1.eda.mean())>(3*fl_exp1.eda.std()))] #or if you prefer the other way around\n",
    "\n",
    "print(len(fl_exp1))\n",
    "fl_exp1.tail()\n"
   ]
  },
  {
   "cell_type": "code",
   "execution_count": 22,
   "metadata": {},
   "outputs": [
    {
     "name": "stdout",
     "output_type": "stream",
     "text": [
      "1619\n"
     ]
    },
    {
     "data": {
      "text/html": [
       "<div>\n",
       "<style scoped>\n",
       "    .dataframe tbody tr th:only-of-type {\n",
       "        vertical-align: middle;\n",
       "    }\n",
       "\n",
       "    .dataframe tbody tr th {\n",
       "        vertical-align: top;\n",
       "    }\n",
       "\n",
       "    .dataframe thead th {\n",
       "        text-align: right;\n",
       "    }\n",
       "</style>\n",
       "<table border=\"1\" class=\"dataframe\">\n",
       "  <thead>\n",
       "    <tr style=\"text-align: right;\">\n",
       "      <th></th>\n",
       "      <th>eda</th>\n",
       "      <th>present</th>\n",
       "    </tr>\n",
       "  </thead>\n",
       "  <tbody>\n",
       "    <tr>\n",
       "      <th>2018-05-24 01:07:52.000</th>\n",
       "      <td>0.474007</td>\n",
       "      <td>0</td>\n",
       "    </tr>\n",
       "    <tr>\n",
       "      <th>2018-05-24 01:07:52.250</th>\n",
       "      <td>0.475288</td>\n",
       "      <td>0</td>\n",
       "    </tr>\n",
       "    <tr>\n",
       "      <th>2018-05-24 01:07:52.500</th>\n",
       "      <td>0.472726</td>\n",
       "      <td>0</td>\n",
       "    </tr>\n",
       "    <tr>\n",
       "      <th>2018-05-24 01:07:52.750</th>\n",
       "      <td>0.472726</td>\n",
       "      <td>0</td>\n",
       "    </tr>\n",
       "    <tr>\n",
       "      <th>2018-05-24 01:07:53.000</th>\n",
       "      <td>0.472726</td>\n",
       "      <td>0</td>\n",
       "    </tr>\n",
       "  </tbody>\n",
       "</table>\n",
       "</div>"
      ],
      "text/plain": [
       "                              eda  present\n",
       "2018-05-24 01:07:52.000  0.474007        0\n",
       "2018-05-24 01:07:52.250  0.475288        0\n",
       "2018-05-24 01:07:52.500  0.472726        0\n",
       "2018-05-24 01:07:52.750  0.472726        0\n",
       "2018-05-24 01:07:53.000  0.472726        0"
      ]
     },
     "execution_count": 22,
     "metadata": {},
     "output_type": "execute_result"
    }
   ],
   "source": [
    "fl_exp2 = fl_eda_2.copy()#example dataset of normally distributed data.\n",
    "fl_exp2['present'] = 0\n",
    "fl_exp2= fl_exp2[np.abs(fl_exp2.eda-fl_exp2.eda.mean())<=(3*fl_exp2.eda.std())] #keep only the ones that are within +3 to -3 standard deviations in the column 'Data'.\n",
    "fl_exp2= fl_exp2[~(np.abs(fl_exp2.eda-fl_exp2.eda.mean())>(3*fl_exp2.eda.std()))] #or if you prefer the other way around\n",
    "\n",
    "print(len(fl_exp2))\n",
    "fl_exp2.head()\n"
   ]
  },
  {
   "cell_type": "markdown",
   "metadata": {},
   "source": [
    "### Day 1\n"
   ]
  },
  {
   "cell_type": "markdown",
   "metadata": {},
   "source": [
    "I consider the experiment is 3 minutes and the sampling frequencyf is 4Hz which is 0.25s per record. We can take 720 records based on this frequency. We then exclude the last 3 second which might be the dalay of the process of truning off the wristband. \n",
    "\n",
    "In turn we will first exclude the last 3 *4 = 12 records which include 720 + 12 = 732 records into our analysis as the experimental period every day ."
   ]
  },
  {
   "cell_type": "code",
   "execution_count": 23,
   "metadata": {},
   "outputs": [],
   "source": [
    "fl_day0 = fl_exp0[-720:]\n",
    "fl_day1 = fl_exp1[-720:]\n",
    "fl_day2 = fl_exp2[-720:]"
   ]
  },
  {
   "cell_type": "code",
   "execution_count": 24,
   "metadata": {},
   "outputs": [],
   "source": [
    "fl_day0 = np.squeeze(fl_day0)\n",
    "fl_day1 = np.squeeze(fl_day1)\n",
    "fl_day2 = np.squeeze(fl_day2)"
   ]
  },
  {
   "cell_type": "markdown",
   "metadata": {},
   "source": [
    "## EDA Analysis"
   ]
  },
  {
   "cell_type": "markdown",
   "metadata": {},
   "source": [
    "## CR "
   ]
  },
  {
   "cell_type": "markdown",
   "metadata": {},
   "source": [
    " **r**: phasic component\n",
    "     \n",
    " \n",
    " **p**: sparse SMNA driver of phasic component\n",
    "     \n",
    "     \n",
    " **t**: tonic component\n",
    "     \n",
    "     \n",
    " **l**: coefficients of tonic spline\n",
    "     \n",
    "     \n",
    " **d**: offset and slope of the linear drift term\n",
    " \n",
    " \n",
    " **e**: model residuals\n",
    " \n",
    " \n",
    " **obj**: value of objective function being minimized (eq 15 of paper)"
   ]
  },
  {
   "cell_type": "markdown",
   "metadata": {},
   "source": [
    "### Day 0"
   ]
  },
  {
   "cell_type": "code",
   "execution_count": 25,
   "metadata": {},
   "outputs": [
    {
     "data": {
      "text/plain": [
       "array([0.402265, 0.381768, 0.3728  , 0.379206, 0.376643, 0.354865,\n",
       "       0.340773, 0.362551, 0.370238, 0.359989])"
      ]
     },
     "execution_count": 25,
     "metadata": {},
     "output_type": "execute_result"
    }
   ],
   "source": [
    "y0 = np.asarray(fl_exp0.eda)\n",
    "y0[:10]"
   ]
  },
  {
   "cell_type": "code",
   "execution_count": 26,
   "metadata": {},
   "outputs": [
    {
     "name": "stdout",
     "output_type": "stream",
     "text": [
      "     pcost       dcost       gap    pres   dres\n",
      " 0: -5.6620e+02 -5.5722e+02  2e+03  5e+01  5e-01\n",
      " 1: -5.7108e+02 -8.4583e+02  3e+02  7e+00  8e-02\n",
      " 2: -5.7918e+02 -7.2185e+02  1e+02  3e+00  3e-02\n",
      " 3: -5.8204e+02 -6.6191e+02  8e+01  1e+00  1e-02\n",
      " 4: -5.8465e+02 -6.3243e+02  5e+01  6e-01  6e-03\n",
      " 5: -5.8633e+02 -6.0907e+02  2e+01  2e-01  2e-03\n",
      " 6: -5.8705e+02 -6.0092e+02  1e+01  1e-01  1e-03\n",
      " 7: -5.8793e+02 -5.9198e+02  4e+00  2e-02  2e-04\n",
      " 8: -5.8916e+02 -5.9003e+02  9e-01  3e-03  3e-05\n",
      " 9: -5.8945e+02 -5.8982e+02  4e-01  7e-04  7e-06\n",
      "10: -5.8962e+02 -5.8973e+02  1e-01  1e-04  1e-06\n",
      "11: -5.8967e+02 -5.8970e+02  3e-02  2e-05  2e-07\n",
      "12: -5.8968e+02 -5.8969e+02  8e-03  3e-06  3e-08\n",
      "13: -5.8969e+02 -5.8969e+02  2e-03  6e-07  6e-09\n",
      "14: -5.8969e+02 -5.8969e+02  3e-04  7e-08  7e-10\n",
      "15: -5.8969e+02 -5.8969e+02  3e-05  2e-09  2e-11\n",
      "16: -5.8969e+02 -5.8969e+02  2e-06  7e-11  7e-13\n",
      "17: -5.8969e+02 -5.8969e+02  3e-08  1e-12  1e-13\n",
      "Optimal solution found.\n"
     ]
    }
   ],
   "source": [
    "yn0 = (y0 - y0.mean()) / y0.std()\n",
    "Fs = 4.\n",
    "[r0, p0, t0, l0, d0, e0, obj0] = cvxEDA.cvxEDA(yn0, 1./Fs)\n",
    "\n",
    "# pl.rcParams['figure.figsize'] = (30,20)\n",
    "tm0 = pl.arange(1., len(y0)+1.) / Fs\n"
   ]
  },
  {
   "cell_type": "code",
   "execution_count": 27,
   "metadata": {},
   "outputs": [],
   "source": [
    "params = {'legend.fontsize': 'large',\n",
    "          'figure.figsize': (10, 8),\n",
    "         'axes.labelsize': 'large',\n",
    "         'axes.titlesize':'large',\n",
    "         'xtick.labelsize':'large',\n",
    "         'ytick.labelsize':'large'}\n",
    "pl.rcParams.update(params)"
   ]
  },
  {
   "cell_type": "code",
   "execution_count": 28,
   "metadata": {},
   "outputs": [
    {
     "name": "stdout",
     "output_type": "stream",
     "text": [
      "[7.81014068]\n"
     ]
    }
   ],
   "source": [
    "print(obj0)"
   ]
  },
  {
   "cell_type": "code",
   "execution_count": 29,
   "metadata": {
    "scrolled": false
   },
   "outputs": [
    {
     "name": "stderr",
     "output_type": "stream",
     "text": [
      "/usr/local/lib/python3.5/dist-packages/ipykernel_launcher.py:1: MatplotlibDeprecationWarning: pyplot.hold is deprecated.\n",
      "    Future behavior will be consistent with the long-time default:\n",
      "    plot commands add elements without first clearing the\n",
      "    Axes and/or Figure.\n",
      "  \"\"\"Entry point for launching an IPython kernel.\n",
      "/usr/local/lib/python3.5/dist-packages/matplotlib/__init__.py:805: MatplotlibDeprecationWarning: axes.hold is deprecated. Please remove it from your matplotlibrc and/or style files.\n",
      "  mplDeprecation)\n",
      "/usr/local/lib/python3.5/dist-packages/matplotlib/rcsetup.py:155: MatplotlibDeprecationWarning: axes.hold is deprecated, will be removed in 3.0\n",
      "  mplDeprecation)\n"
     ]
    },
    {
     "data": {
      "image/png": "[encoded data removed]",
      "text/plain": [
       "<matplotlib.figure.Figure at 0x7f3df3608320>"
      ]
     },
     "metadata": {
      "image/png": {
       "height": 483,
       "width": 604
      }
     },
     "output_type": "display_data"
    }
   ],
   "source": [
    "pl.hold(True)\n",
    "pl.plot(tm0, yn0)\n",
    "pl.plot(tm0, r0)\n",
    "pl.plot(tm0, p0)\n",
    "pl.plot(tm0, t0)\n",
    "pl.title('Experiment Day 0 cvxEDA Deconvolution Analysis')\n",
    "pl.legend(['SC Z-score','Phasic Component','SMNA sparse driver of phasic component',\n",
    "           'Tonic Component'])\n",
    "\n",
    "pl.show()"
   ]
  },
  {
   "cell_type": "code",
   "execution_count": 30,
   "metadata": {},
   "outputs": [],
   "source": [
    "y_mean0 = np.mean(yn0)\n",
    "r_mean0 = np.mean(r0)\n",
    "p_mean0 = np.mean(p0)\n",
    "t_mean0 = np.mean(t0)\n",
    "\n",
    "y_stdev0 = np.std(yn0)\n",
    "r_stdev0 = np.std(r0)\n",
    "p_stdev0 = np.std(p0)\n",
    "t_stdev0 = np.std(t0)\n",
    "\n",
    "y_max0 = np.amax(yn0)\n",
    "r_max0 = np.amax(r0)\n",
    "p_max0 = np.amax(p0)\n",
    "t_max0 = np.amax(t0)\n",
    "\n",
    "present = 1"
   ]
  },
  {
   "cell_type": "code",
   "execution_count": 31,
   "metadata": {},
   "outputs": [
    {
     "data": {
      "text/plain": [
       "[4.2810943075085533e-16,\n",
       " 2.542031526897387,\n",
       " 1.957838028619611,\n",
       " -2.5420315268973863,\n",
       " 1.0,\n",
       " 3.883847553228546,\n",
       " 5.40149784717461,\n",
       " 3.2714024327653073,\n",
       " 2.846618984344995,\n",
       " 13.356954110003045,\n",
       " 61.60351087171128,\n",
       " 2.62542295264715,\n",
       " 1]"
      ]
     },
     "execution_count": 31,
     "metadata": {},
     "output_type": "execute_result"
    }
   ],
   "source": [
    "feature_list=[]\n",
    "feature_list.extend((y_mean0,r_mean0,p_mean0,t_mean0,\n",
    "                    y_stdev0,r_stdev0,p_stdev0,t_stdev0,\n",
    "                    y_max0,r_max0,p_max0,t_max0,\n",
    "                    present))\n",
    "feature_list"
   ]
  },
  {
   "cell_type": "markdown",
   "metadata": {},
   "source": [
    "# Feature Extraction Function "
   ]
  },
  {
   "cell_type": "code",
   "execution_count": 32,
   "metadata": {},
   "outputs": [],
   "source": [
    "def eda_feature(df):\n",
    "    y = np.asarray(df.eda)\n",
    "    present = np.mean(df.present)\n",
    "    yn = (y - y.mean()) / y.std()\n",
    "    Fs = 4.\n",
    "    [r, p, t, l, d, e, obj] = cvxEDA.cvxEDA(yn, 1./Fs)\n",
    "    tm = pl.arange(1., len(y)+1.) / Fs\n",
    "    \n",
    "    y_mean = np.mean(yn)\n",
    "    r_mean = np.mean(r)\n",
    "    p_mean = np.mean(p)\n",
    "    t_mean = np.mean(t)\n",
    "\n",
    "    y_stdev = np.std(yn)\n",
    "    r_stdev = np.std(r)\n",
    "    p_stdev = np.std(p)\n",
    "    t_stdev = np.std(t)\n",
    "\n",
    "    y_max = np.amax(yn)\n",
    "    r_max = np.amax(r)\n",
    "    p_max = np.amax(p)\n",
    "    t_max = np.amax(t)\n",
    "\n",
    "    feature_list=[]\n",
    "    feature_list.extend((y_mean,r_mean,p_mean,t_mean,\n",
    "                    y_stdev,r_stdev,p_stdev,t_stdev,\n",
    "                    y_max,r_max,p_max,t_max,\n",
    "                    present))\n",
    "    return feature_list\n",
    "    "
   ]
  },
  {
   "cell_type": "code",
   "execution_count": 33,
   "metadata": {},
   "outputs": [
    {
     "name": "stdout",
     "output_type": "stream",
     "text": [
      "     pcost       dcost       gap    pres   dres\n",
      " 0: -8.2592e+02 -7.8734e+02  6e+03  7e+01  9e-01\n",
      " 1: -8.5020e+02 -1.9960e+03  2e+03  2e+01  2e-01\n",
      " 2: -8.8247e+02 -1.4932e+03  7e+02  6e+00  8e-02\n",
      " 3: -9.0155e+02 -1.1958e+03  3e+02  2e+00  3e-02\n",
      " 4: -9.1418e+02 -1.1221e+03  2e+02  1e+00  1e-02\n",
      " 5: -9.2560e+02 -1.0424e+03  1e+02  5e-01  6e-03\n",
      " 6: -9.3454e+02 -1.0122e+03  8e+01  3e-01  3e-03\n",
      " 7: -9.4149e+02 -9.7753e+02  4e+01  9e-02  1e-03\n",
      " 8: -9.4601e+02 -9.6167e+02  2e+01  3e-02  4e-04\n",
      " 9: -9.4864e+02 -9.5430e+02  6e+00  1e-02  1e-04\n",
      "10: -9.4979e+02 -9.5171e+02  2e+00  1e-03  2e-05\n",
      "11: -9.5045e+02 -9.5076e+02  3e-01  2e-04  2e-06\n",
      "12: -9.5056e+02 -9.5061e+02  5e-02  3e-05  3e-07\n",
      "13: -9.5058e+02 -9.5059e+02  5e-03  2e-06  3e-08\n",
      "14: -9.5059e+02 -9.5059e+02  3e-04  1e-07  2e-09\n",
      "15: -9.5059e+02 -9.5059e+02  1e-05  5e-09  6e-11\n",
      "16: -9.5059e+02 -9.5059e+02  3e-07  6e-11  7e-13\n",
      "Optimal solution found.\n"
     ]
    },
    {
     "data": {
      "text/plain": [
       "[4.672061824176001e-15,\n",
       " 13.014625288489981,\n",
       " 10.089856297171147,\n",
       " -13.014625288489977,\n",
       " 1.0,\n",
       " 3.386776534631157,\n",
       " 12.756810676777393,\n",
       " 3.7674524079676823,\n",
       " 3.142675340539792,\n",
       " 23.669112816303077,\n",
       " 82.1602016503773,\n",
       " 2.953321430253485,\n",
       " 1.0]"
      ]
     },
     "execution_count": 33,
     "metadata": {},
     "output_type": "execute_result"
    }
   ],
   "source": [
    "eda_feature(fl_exp1)"
   ]
  },
  {
   "cell_type": "code",
   "execution_count": 34,
   "metadata": {},
   "outputs": [
    {
     "name": "stdout",
     "output_type": "stream",
     "text": [
      "     pcost       dcost       gap    pres   dres\n",
      " 0: -5.6620e+02 -5.5722e+02  2e+03  5e+01  5e-01\n",
      " 1: -5.7108e+02 -8.4583e+02  3e+02  7e+00  8e-02\n",
      " 2: -5.7918e+02 -7.2185e+02  1e+02  3e+00  3e-02\n",
      " 3: -5.8204e+02 -6.6191e+02  8e+01  1e+00  1e-02\n",
      " 4: -5.8465e+02 -6.3243e+02  5e+01  6e-01  6e-03\n",
      " 5: -5.8633e+02 -6.0907e+02  2e+01  2e-01  2e-03\n",
      " 6: -5.8705e+02 -6.0092e+02  1e+01  1e-01  1e-03\n",
      " 7: -5.8793e+02 -5.9198e+02  4e+00  2e-02  2e-04\n",
      " 8: -5.8916e+02 -5.9003e+02  9e-01  3e-03  3e-05\n",
      " 9: -5.8945e+02 -5.8982e+02  4e-01  7e-04  7e-06\n",
      "10: -5.8962e+02 -5.8973e+02  1e-01  1e-04  1e-06\n",
      "11: -5.8967e+02 -5.8970e+02  3e-02  2e-05  2e-07\n",
      "12: -5.8968e+02 -5.8969e+02  8e-03  3e-06  3e-08\n",
      "13: -5.8969e+02 -5.8969e+02  2e-03  6e-07  6e-09\n",
      "14: -5.8969e+02 -5.8969e+02  3e-04  7e-08  7e-10\n",
      "15: -5.8969e+02 -5.8969e+02  3e-05  2e-09  2e-11\n",
      "16: -5.8969e+02 -5.8969e+02  2e-06  7e-11  7e-13\n",
      "17: -5.8969e+02 -5.8969e+02  3e-08  1e-12  1e-13\n",
      "Optimal solution found.\n",
      "     pcost       dcost       gap    pres   dres\n",
      " 0: -8.2592e+02 -7.8734e+02  6e+03  7e+01  9e-01\n",
      " 1: -8.5020e+02 -1.9960e+03  2e+03  2e+01  2e-01\n",
      " 2: -8.8247e+02 -1.4932e+03  7e+02  6e+00  8e-02\n",
      " 3: -9.0155e+02 -1.1958e+03  3e+02  2e+00  3e-02\n",
      " 4: -9.1418e+02 -1.1221e+03  2e+02  1e+00  1e-02\n",
      " 5: -9.2560e+02 -1.0424e+03  1e+02  5e-01  6e-03\n",
      " 6: -9.3454e+02 -1.0122e+03  8e+01  3e-01  3e-03\n",
      " 7: -9.4149e+02 -9.7753e+02  4e+01  9e-02  1e-03\n",
      " 8: -9.4601e+02 -9.6167e+02  2e+01  3e-02  4e-04\n",
      " 9: -9.4864e+02 -9.5430e+02  6e+00  1e-02  1e-04\n",
      "10: -9.4979e+02 -9.5171e+02  2e+00  1e-03  2e-05\n",
      "11: -9.5045e+02 -9.5076e+02  3e-01  2e-04  2e-06\n",
      "12: -9.5056e+02 -9.5061e+02  5e-02  3e-05  3e-07\n",
      "13: -9.5058e+02 -9.5059e+02  5e-03  2e-06  3e-08\n",
      "14: -9.5059e+02 -9.5059e+02  3e-04  1e-07  2e-09\n",
      "15: -9.5059e+02 -9.5059e+02  1e-05  5e-09  6e-11\n",
      "16: -9.5059e+02 -9.5059e+02  3e-07  6e-11  7e-13\n",
      "Optimal solution found.\n",
      "     pcost       dcost       gap    pres   dres\n",
      " 0: -7.9709e+02 -7.9311e+02  3e+03  5e+01  4e-01\n",
      " 1: -7.9729e+02 -1.1396e+03  4e+02  7e+00  6e-02\n",
      " 2: -7.9939e+02 -9.0831e+02  1e+02  2e+00  1e-02\n",
      " 3: -8.0056e+02 -8.4486e+02  4e+01  6e-01  5e-03\n",
      " 4: -8.0136e+02 -8.1852e+02  2e+01  2e-01  1e-03\n",
      " 5: -8.0148e+02 -8.1086e+02  9e+00  7e-02  6e-04\n",
      " 6: -8.0207e+02 -8.0531e+02  3e+00  1e-02  1e-04\n",
      " 7: -8.0328e+02 -8.0419e+02  9e-01  3e-03  3e-05\n",
      " 8: -8.0368e+02 -8.0402e+02  3e-01  9e-04  8e-06\n",
      " 9: -8.0387e+02 -8.0395e+02  8e-02  5e-05  4e-07\n",
      "10: -8.0391e+02 -8.0393e+02  2e-02  1e-05  9e-08\n",
      "11: -8.0392e+02 -8.0392e+02  6e-03  2e-06  2e-08\n",
      "12: -8.0392e+02 -8.0392e+02  1e-03  3e-07  2e-09\n",
      "13: -8.0392e+02 -8.0392e+02  2e-04  4e-08  3e-10\n",
      "14: -8.0392e+02 -8.0392e+02  3e-05  4e-09  3e-11\n",
      "15: -8.0392e+02 -8.0392e+02  1e-06  1e-10  1e-12\n",
      "16: -8.0392e+02 -8.0392e+02  4e-08  5e-12  4e-14\n",
      "Optimal solution found.\n"
     ]
    },
    {
     "data": {
      "text/plain": [
       "[[4.2810943075085533e-16,\n",
       "  2.542031526897387,\n",
       "  1.957838028619611,\n",
       "  -2.5420315268973863,\n",
       "  1.0,\n",
       "  3.883847553228546,\n",
       "  5.40149784717461,\n",
       "  3.2714024327653073,\n",
       "  2.846618984344995,\n",
       "  13.356954110003045,\n",
       "  61.60351087171128,\n",
       "  2.62542295264715,\n",
       "  1.0],\n",
       " [4.672061824176001e-15,\n",
       "  13.014625288489981,\n",
       "  10.089856297171147,\n",
       "  -13.014625288489977,\n",
       "  1.0,\n",
       "  3.386776534631157,\n",
       "  12.756810676777393,\n",
       "  3.7674524079676823,\n",
       "  3.142675340539792,\n",
       "  23.669112816303077,\n",
       "  82.1602016503773,\n",
       "  2.953321430253485,\n",
       "  1.0],\n",
       " [-3.511020312588512e-16,\n",
       "  0.7405474706718459,\n",
       "  0.5780200471246218,\n",
       "  -0.7405474706718472,\n",
       "  0.9999999999999999,\n",
       "  1.930733829811453,\n",
       "  2.3780834599404863,\n",
       "  1.9288945296419922,\n",
       "  2.8237513264878515,\n",
       "  9.683530939714245,\n",
       "  32.53652062600628,\n",
       "  1.4135850139422885,\n",
       "  0.0]]"
      ]
     },
     "execution_count": 34,
     "metadata": {},
     "output_type": "execute_result"
    }
   ],
   "source": [
    "var = [fl_exp0, fl_exp1, fl_exp2]\n",
    "[eda_feature(x) for x in var]"
   ]
  },
  {
   "cell_type": "code",
   "execution_count": null,
   "metadata": {},
   "outputs": [],
   "source": []
  },
  {
   "cell_type": "code",
   "execution_count": null,
   "metadata": {},
   "outputs": [],
   "source": []
  }
 ],
 "metadata": {
  "kernelspec": {
   "display_name": "Python 3",
   "language": "python",
   "name": "python3"
  },
  "language_info": {
   "codemirror_mode": {
    "name": "ipython",
    "version": 3
   },
   "file_extension": ".py",
   "mimetype": "text/x-python",
   "name": "python",
   "nbconvert_exporter": "python",
   "pygments_lexer": "ipython3",
   "version": "3.5.2"
  }
 },
 "nbformat": 4,
 "nbformat_minor": 2
}
