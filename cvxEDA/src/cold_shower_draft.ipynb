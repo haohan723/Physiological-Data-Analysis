{
 "cells": [
  {
   "cell_type": "markdown",
   "metadata": {},
   "source": [
    "# Study Overview"
   ]
  },
  {
   "cell_type": "markdown",
   "metadata": {},
   "source": [
    "In this study, we are trying to analyze the psychophysiological data i.e. EDA and Temperature in 2 scenarios: \n",
    "\n",
    "* How EDA varies when the person is showering on his own and when the person is showering when the other is present.\n",
    "\n",
    "\n",
    "      -whether the perceived pain and stress is less when the partner is present\n",
    "* How EDA is changing over time while showering \n",
    "* How EDA and HR differ over the test periods (on day basis)"
   ]
  },
  {
   "cell_type": "markdown",
   "metadata": {},
   "source": [
    "# Import Library"
   ]
  },
  {
   "cell_type": "code",
   "execution_count": 1,
   "metadata": {},
   "outputs": [],
   "source": [
    "import numpy as np \n",
    "# import tensorflow as tf\n",
    "import pandas as pd\n",
    "import matplotlib.pyplot as plt\n",
    "import seaborn as sns\n",
    "import cvxEDA\n",
    "import datetime\n",
    "from scipy import stats\n",
    "from mpl_toolkits import mplot3d\n",
    "import pylab as pl\n",
    "\n",
    "sns.set(color_codes = True)\n",
    "%matplotlib inline\n",
    "%config InlineBackend.figure_format = 'retina'"
   ]
  },
  {
   "cell_type": "markdown",
   "metadata": {},
   "source": [
    "# Load the data"
   ]
  },
  {
   "cell_type": "markdown",
   "metadata": {},
   "source": [
    "## EDA"
   ]
  },
  {
   "cell_type": "markdown",
   "metadata": {},
   "source": [
    "### Day 0"
   ]
  },
  {
   "cell_type": "code",
   "execution_count": 2,
   "metadata": {},
   "outputs": [
    {
     "name": "stdout",
     "output_type": "stream",
     "text": [
      "1232\n",
      "freq:  [4.]\n"
     ]
    },
    {
     "data": {
      "text/html": [
       "<div>\n",
       "<style scoped>\n",
       "    .dataframe tbody tr th:only-of-type {\n",
       "        vertical-align: middle;\n",
       "    }\n",
       "\n",
       "    .dataframe tbody tr th {\n",
       "        vertical-align: top;\n",
       "    }\n",
       "\n",
       "    .dataframe thead th {\n",
       "        text-align: right;\n",
       "    }\n",
       "</style>\n",
       "<table border=\"1\" class=\"dataframe\">\n",
       "  <thead>\n",
       "    <tr style=\"text-align: right;\">\n",
       "      <th></th>\n",
       "      <th>eda</th>\n",
       "    </tr>\n",
       "  </thead>\n",
       "  <tbody>\n",
       "    <tr>\n",
       "      <th>0</th>\n",
       "      <td>1.526949e+09</td>\n",
       "    </tr>\n",
       "    <tr>\n",
       "      <th>1</th>\n",
       "      <td>4.000000e+00</td>\n",
       "    </tr>\n",
       "    <tr>\n",
       "      <th>2</th>\n",
       "      <td>0.000000e+00</td>\n",
       "    </tr>\n",
       "    <tr>\n",
       "      <th>3</th>\n",
       "      <td>3.446160e-01</td>\n",
       "    </tr>\n",
       "    <tr>\n",
       "      <th>4</th>\n",
       "      <td>4.150760e-01</td>\n",
       "    </tr>\n",
       "    <tr>\n",
       "      <th>5</th>\n",
       "      <td>4.278870e-01</td>\n",
       "    </tr>\n",
       "    <tr>\n",
       "      <th>6</th>\n",
       "      <td>4.330120e-01</td>\n",
       "    </tr>\n",
       "    <tr>\n",
       "      <th>7</th>\n",
       "      <td>4.227630e-01</td>\n",
       "    </tr>\n",
       "    <tr>\n",
       "      <th>8</th>\n",
       "      <td>3.804870e-01</td>\n",
       "    </tr>\n",
       "    <tr>\n",
       "      <th>9</th>\n",
       "      <td>3.881730e-01</td>\n",
       "    </tr>\n",
       "  </tbody>\n",
       "</table>\n",
       "</div>"
      ],
      "text/plain": [
       "            eda\n",
       "0  1.526949e+09\n",
       "1  4.000000e+00\n",
       "2  0.000000e+00\n",
       "3  3.446160e-01\n",
       "4  4.150760e-01\n",
       "5  4.278870e-01\n",
       "6  4.330120e-01\n",
       "7  4.227630e-01\n",
       "8  3.804870e-01\n",
       "9  3.881730e-01"
      ]
     },
     "execution_count": 2,
     "metadata": {},
     "output_type": "execute_result"
    }
   ],
   "source": [
    "# Sampling frequency 4Hz ~= 0.25s\n",
    "fl_eda_0 = pd.read_csv('data/exp_1/EDA.csv' , header= None)\n",
    "fl_eda_0.columns  = ['eda']\n",
    "fl_eda_freq_0 = fl_eda_0.iloc[1].values\n",
    "print(len(fl_eda_0))\n",
    "print('freq: ', fl_eda_freq_0)\n",
    "fl_eda_0.head(10)"
   ]
  },
  {
   "cell_type": "code",
   "execution_count": 4,
   "metadata": {},
   "outputs": [
    {
     "data": {
      "text/plain": [
       "'2018-05-22 00:29:47'"
      ]
     },
     "execution_count": 4,
     "metadata": {},
     "output_type": "execute_result"
    }
   ],
   "source": [
    "fl_init_time_0 = datetime.datetime.utcfromtimestamp(fl_eda_0.iloc[0]).strftime('%Y-%m-%d %H:%M:%S')\n",
    "fl_init_time_0"
   ]
  },
  {
   "cell_type": "code",
   "execution_count": 12,
   "metadata": {},
   "outputs": [
    {
     "data": {
      "text/html": [
       "<div>\n",
       "<style scoped>\n",
       "    .dataframe tbody tr th:only-of-type {\n",
       "        vertical-align: middle;\n",
       "    }\n",
       "\n",
       "    .dataframe tbody tr th {\n",
       "        vertical-align: top;\n",
       "    }\n",
       "\n",
       "    .dataframe thead th {\n",
       "        text-align: right;\n",
       "    }\n",
       "</style>\n",
       "<table border=\"1\" class=\"dataframe\">\n",
       "  <thead>\n",
       "    <tr style=\"text-align: right;\">\n",
       "      <th></th>\n",
       "      <th>eda</th>\n",
       "    </tr>\n",
       "  </thead>\n",
       "  <tbody>\n",
       "    <tr>\n",
       "      <th>2018-05-22 00:29:47.750</th>\n",
       "      <td>0.427887</td>\n",
       "    </tr>\n",
       "    <tr>\n",
       "      <th>2018-05-22 00:29:48.000</th>\n",
       "      <td>0.433012</td>\n",
       "    </tr>\n",
       "    <tr>\n",
       "      <th>2018-05-22 00:29:48.250</th>\n",
       "      <td>0.422763</td>\n",
       "    </tr>\n",
       "    <tr>\n",
       "      <th>2018-05-22 00:29:48.500</th>\n",
       "      <td>0.380487</td>\n",
       "    </tr>\n",
       "    <tr>\n",
       "      <th>2018-05-22 00:29:48.750</th>\n",
       "      <td>0.388173</td>\n",
       "    </tr>\n",
       "  </tbody>\n",
       "</table>\n",
       "</div>"
      ],
      "text/plain": [
       "                              eda\n",
       "2018-05-22 00:29:47.750  0.427887\n",
       "2018-05-22 00:29:48.000  0.433012\n",
       "2018-05-22 00:29:48.250  0.422763\n",
       "2018-05-22 00:29:48.500  0.380487\n",
       "2018-05-22 00:29:48.750  0.388173"
      ]
     },
     "execution_count": 12,
     "metadata": {},
     "output_type": "execute_result"
    }
   ],
   "source": [
    "fl_eda_0 = fl_eda_0.iloc[3:]\n",
    "fl_eda_0.head(5)"
   ]
  },
  {
   "cell_type": "code",
   "execution_count": 13,
   "metadata": {},
   "outputs": [
    {
     "data": {
      "text/plain": [
       "DatetimeIndex([       '2018-05-22 00:29:47', '2018-05-22 00:29:47.250000',\n",
       "               '2018-05-22 00:29:47.500000', '2018-05-22 00:29:47.750000',\n",
       "                      '2018-05-22 00:29:48', '2018-05-22 00:29:48.250000',\n",
       "               '2018-05-22 00:29:48.500000', '2018-05-22 00:29:48.750000',\n",
       "                      '2018-05-22 00:29:49', '2018-05-22 00:29:49.250000',\n",
       "               ...\n",
       "               '2018-05-22 00:34:48.750000',        '2018-05-22 00:34:49',\n",
       "               '2018-05-22 00:34:49.250000', '2018-05-22 00:34:49.500000',\n",
       "               '2018-05-22 00:34:49.750000',        '2018-05-22 00:34:50',\n",
       "               '2018-05-22 00:34:50.250000', '2018-05-22 00:34:50.500000',\n",
       "               '2018-05-22 00:34:50.750000',        '2018-05-22 00:34:51'],\n",
       "              dtype='datetime64[ns]', length=1217, freq='250L')"
      ]
     },
     "execution_count": 13,
     "metadata": {},
     "output_type": "execute_result"
    }
   ],
   "source": [
    "#create index \n",
    "fl_time_eda_0 = pd.date_range(start=fl_init_time_0, periods=len(fl_eda_0), freq=str(1/int(fl_eda_freq_0))+'S')\n",
    "fl_time_eda_0"
   ]
  },
  {
   "cell_type": "code",
   "execution_count": 14,
   "metadata": {
    "scrolled": true
   },
   "outputs": [
    {
     "data": {
      "text/html": [
       "<div>\n",
       "<style scoped>\n",
       "    .dataframe tbody tr th:only-of-type {\n",
       "        vertical-align: middle;\n",
       "    }\n",
       "\n",
       "    .dataframe tbody tr th {\n",
       "        vertical-align: top;\n",
       "    }\n",
       "\n",
       "    .dataframe thead th {\n",
       "        text-align: right;\n",
       "    }\n",
       "</style>\n",
       "<table border=\"1\" class=\"dataframe\">\n",
       "  <thead>\n",
       "    <tr style=\"text-align: right;\">\n",
       "      <th></th>\n",
       "      <th>eda</th>\n",
       "    </tr>\n",
       "  </thead>\n",
       "  <tbody>\n",
       "    <tr>\n",
       "      <th>2018-05-22 00:29:47.000</th>\n",
       "      <td>0.427887</td>\n",
       "    </tr>\n",
       "    <tr>\n",
       "      <th>2018-05-22 00:29:47.250</th>\n",
       "      <td>0.433012</td>\n",
       "    </tr>\n",
       "    <tr>\n",
       "      <th>2018-05-22 00:29:47.500</th>\n",
       "      <td>0.422763</td>\n",
       "    </tr>\n",
       "    <tr>\n",
       "      <th>2018-05-22 00:29:47.750</th>\n",
       "      <td>0.380487</td>\n",
       "    </tr>\n",
       "    <tr>\n",
       "      <th>2018-05-22 00:29:48.000</th>\n",
       "      <td>0.388173</td>\n",
       "    </tr>\n",
       "  </tbody>\n",
       "</table>\n",
       "</div>"
      ],
      "text/plain": [
       "                              eda\n",
       "2018-05-22 00:29:47.000  0.427887\n",
       "2018-05-22 00:29:47.250  0.433012\n",
       "2018-05-22 00:29:47.500  0.422763\n",
       "2018-05-22 00:29:47.750  0.380487\n",
       "2018-05-22 00:29:48.000  0.388173"
      ]
     },
     "execution_count": 14,
     "metadata": {},
     "output_type": "execute_result"
    }
   ],
   "source": [
    "fl_eda_0 = fl_eda_0.set_index(fl_time_eda_0, drop =True)\n",
    "fl_eda_0.head()"
   ]
  },
  {
   "cell_type": "code",
   "execution_count": 15,
   "metadata": {},
   "outputs": [
    {
     "name": "stdout",
     "output_type": "stream",
     "text": [
      "1207\n"
     ]
    },
    {
     "data": {
      "text/html": [
       "<div>\n",
       "<style scoped>\n",
       "    .dataframe tbody tr th:only-of-type {\n",
       "        vertical-align: middle;\n",
       "    }\n",
       "\n",
       "    .dataframe tbody tr th {\n",
       "        vertical-align: top;\n",
       "    }\n",
       "\n",
       "    .dataframe thead th {\n",
       "        text-align: right;\n",
       "    }\n",
       "</style>\n",
       "<table border=\"1\" class=\"dataframe\">\n",
       "  <thead>\n",
       "    <tr style=\"text-align: right;\">\n",
       "      <th></th>\n",
       "      <th>eda</th>\n",
       "    </tr>\n",
       "  </thead>\n",
       "  <tbody>\n",
       "    <tr>\n",
       "      <th>2018-05-22 00:29:47.000</th>\n",
       "      <td>0.427887</td>\n",
       "    </tr>\n",
       "    <tr>\n",
       "      <th>2018-05-22 00:29:47.250</th>\n",
       "      <td>0.433012</td>\n",
       "    </tr>\n",
       "    <tr>\n",
       "      <th>2018-05-22 00:29:47.500</th>\n",
       "      <td>0.422763</td>\n",
       "    </tr>\n",
       "    <tr>\n",
       "      <th>2018-05-22 00:29:47.750</th>\n",
       "      <td>0.380487</td>\n",
       "    </tr>\n",
       "    <tr>\n",
       "      <th>2018-05-22 00:29:48.000</th>\n",
       "      <td>0.388173</td>\n",
       "    </tr>\n",
       "  </tbody>\n",
       "</table>\n",
       "</div>"
      ],
      "text/plain": [
       "                              eda\n",
       "2018-05-22 00:29:47.000  0.427887\n",
       "2018-05-22 00:29:47.250  0.433012\n",
       "2018-05-22 00:29:47.500  0.422763\n",
       "2018-05-22 00:29:47.750  0.380487\n",
       "2018-05-22 00:29:48.000  0.388173"
      ]
     },
     "execution_count": 15,
     "metadata": {},
     "output_type": "execute_result"
    }
   ],
   "source": [
    "# eda = eda.rolling(4).sum()\n",
    "# fl_eda = fl_eda.iloc[::4,:]\n",
    "fl_eda_0 = fl_eda_0[:-10]\n",
    "fl_eda_0 = fl_eda_0.dropna()\n",
    "print(len(fl_eda_0))\n",
    "fl_eda_0.head()"
   ]
  },
  {
   "cell_type": "markdown",
   "metadata": {},
   "source": [
    "### Day 1"
   ]
  },
  {
   "cell_type": "code",
   "execution_count": 16,
   "metadata": {},
   "outputs": [
    {
     "name": "stdout",
     "output_type": "stream",
     "text": [
      "2120\n",
      "freq:  [4.]\n"
     ]
    },
    {
     "data": {
      "text/html": [
       "<div>\n",
       "<style scoped>\n",
       "    .dataframe tbody tr th:only-of-type {\n",
       "        vertical-align: middle;\n",
       "    }\n",
       "\n",
       "    .dataframe tbody tr th {\n",
       "        vertical-align: top;\n",
       "    }\n",
       "\n",
       "    .dataframe thead th {\n",
       "        text-align: right;\n",
       "    }\n",
       "</style>\n",
       "<table border=\"1\" class=\"dataframe\">\n",
       "  <thead>\n",
       "    <tr style=\"text-align: right;\">\n",
       "      <th></th>\n",
       "      <th>eda</th>\n",
       "    </tr>\n",
       "  </thead>\n",
       "  <tbody>\n",
       "    <tr>\n",
       "      <th>0</th>\n",
       "      <td>1.527038e+09</td>\n",
       "    </tr>\n",
       "    <tr>\n",
       "      <th>1</th>\n",
       "      <td>4.000000e+00</td>\n",
       "    </tr>\n",
       "    <tr>\n",
       "      <th>2</th>\n",
       "      <td>0.000000e+00</td>\n",
       "    </tr>\n",
       "    <tr>\n",
       "      <th>3</th>\n",
       "      <td>2.062570e-01</td>\n",
       "    </tr>\n",
       "    <tr>\n",
       "      <th>4</th>\n",
       "      <td>3.523020e-01</td>\n",
       "    </tr>\n",
       "    <tr>\n",
       "      <th>5</th>\n",
       "      <td>3.561460e-01</td>\n",
       "    </tr>\n",
       "    <tr>\n",
       "      <th>6</th>\n",
       "      <td>3.548650e-01</td>\n",
       "    </tr>\n",
       "    <tr>\n",
       "      <th>7</th>\n",
       "      <td>3.574270e-01</td>\n",
       "    </tr>\n",
       "    <tr>\n",
       "      <th>8</th>\n",
       "      <td>3.574270e-01</td>\n",
       "    </tr>\n",
       "    <tr>\n",
       "      <th>9</th>\n",
       "      <td>3.369290e-01</td>\n",
       "    </tr>\n",
       "  </tbody>\n",
       "</table>\n",
       "</div>"
      ],
      "text/plain": [
       "            eda\n",
       "0  1.527038e+09\n",
       "1  4.000000e+00\n",
       "2  0.000000e+00\n",
       "3  2.062570e-01\n",
       "4  3.523020e-01\n",
       "5  3.561460e-01\n",
       "6  3.548650e-01\n",
       "7  3.574270e-01\n",
       "8  3.574270e-01\n",
       "9  3.369290e-01"
      ]
     },
     "execution_count": 16,
     "metadata": {},
     "output_type": "execute_result"
    }
   ],
   "source": [
    "# Sampling frequency 4Hz ~= 0.25s\n",
    "fl_eda_1 = pd.read_csv('data/exp_2/EDA.csv' , header= None)\n",
    "fl_eda_1.columns  = ['eda']\n",
    "fl_eda_freq_1 = fl_eda_1.iloc[1].values\n",
    "print(len(fl_eda_1))\n",
    "print('freq: ', fl_eda_freq_1)\n",
    "fl_eda_1.head(10)"
   ]
  },
  {
   "cell_type": "code",
   "execution_count": 17,
   "metadata": {},
   "outputs": [
    {
     "data": {
      "text/plain": [
       "'2018-05-23 01:09:12'"
      ]
     },
     "execution_count": 17,
     "metadata": {},
     "output_type": "execute_result"
    }
   ],
   "source": [
    "fl_init_time_1 = datetime.datetime.utcfromtimestamp(fl_eda_1.iloc[0]).strftime('%Y-%m-%d %H:%M:%S')\n",
    "fl_init_time_1"
   ]
  },
  {
   "cell_type": "code",
   "execution_count": 18,
   "metadata": {},
   "outputs": [
    {
     "data": {
      "text/html": [
       "<div>\n",
       "<style scoped>\n",
       "    .dataframe tbody tr th:only-of-type {\n",
       "        vertical-align: middle;\n",
       "    }\n",
       "\n",
       "    .dataframe tbody tr th {\n",
       "        vertical-align: top;\n",
       "    }\n",
       "\n",
       "    .dataframe thead th {\n",
       "        text-align: right;\n",
       "    }\n",
       "</style>\n",
       "<table border=\"1\" class=\"dataframe\">\n",
       "  <thead>\n",
       "    <tr style=\"text-align: right;\">\n",
       "      <th></th>\n",
       "      <th>eda</th>\n",
       "    </tr>\n",
       "  </thead>\n",
       "  <tbody>\n",
       "    <tr>\n",
       "      <th>3</th>\n",
       "      <td>0.206257</td>\n",
       "    </tr>\n",
       "    <tr>\n",
       "      <th>4</th>\n",
       "      <td>0.352302</td>\n",
       "    </tr>\n",
       "    <tr>\n",
       "      <th>5</th>\n",
       "      <td>0.356146</td>\n",
       "    </tr>\n",
       "    <tr>\n",
       "      <th>6</th>\n",
       "      <td>0.354865</td>\n",
       "    </tr>\n",
       "    <tr>\n",
       "      <th>7</th>\n",
       "      <td>0.357427</td>\n",
       "    </tr>\n",
       "  </tbody>\n",
       "</table>\n",
       "</div>"
      ],
      "text/plain": [
       "        eda\n",
       "3  0.206257\n",
       "4  0.352302\n",
       "5  0.356146\n",
       "6  0.354865\n",
       "7  0.357427"
      ]
     },
     "execution_count": 18,
     "metadata": {},
     "output_type": "execute_result"
    }
   ],
   "source": [
    "fl_eda_1 = fl_eda_1.iloc[3:]\n",
    "fl_eda_1.head(5)"
   ]
  },
  {
   "cell_type": "code",
   "execution_count": 19,
   "metadata": {},
   "outputs": [
    {
     "data": {
      "text/plain": [
       "DatetimeIndex([       '2018-05-23 01:09:12', '2018-05-23 01:09:12.250000',\n",
       "               '2018-05-23 01:09:12.500000', '2018-05-23 01:09:12.750000',\n",
       "                      '2018-05-23 01:09:13', '2018-05-23 01:09:13.250000',\n",
       "               '2018-05-23 01:09:13.500000', '2018-05-23 01:09:13.750000',\n",
       "                      '2018-05-23 01:09:14', '2018-05-23 01:09:14.250000',\n",
       "               ...\n",
       "               '2018-05-23 01:17:58.750000',        '2018-05-23 01:17:59',\n",
       "               '2018-05-23 01:17:59.250000', '2018-05-23 01:17:59.500000',\n",
       "               '2018-05-23 01:17:59.750000',        '2018-05-23 01:18:00',\n",
       "               '2018-05-23 01:18:00.250000', '2018-05-23 01:18:00.500000',\n",
       "               '2018-05-23 01:18:00.750000',        '2018-05-23 01:18:01'],\n",
       "              dtype='datetime64[ns]', length=2117, freq='250L')"
      ]
     },
     "execution_count": 19,
     "metadata": {},
     "output_type": "execute_result"
    }
   ],
   "source": [
    "#create index \n",
    "fl_time_eda_1 = pd.date_range(start=fl_init_time_1, periods=len(fl_eda_1), freq=str(1/int(fl_eda_freq_1))+'S')\n",
    "fl_time_eda_1"
   ]
  },
  {
   "cell_type": "code",
   "execution_count": 20,
   "metadata": {},
   "outputs": [
    {
     "data": {
      "text/html": [
       "<div>\n",
       "<style scoped>\n",
       "    .dataframe tbody tr th:only-of-type {\n",
       "        vertical-align: middle;\n",
       "    }\n",
       "\n",
       "    .dataframe tbody tr th {\n",
       "        vertical-align: top;\n",
       "    }\n",
       "\n",
       "    .dataframe thead th {\n",
       "        text-align: right;\n",
       "    }\n",
       "</style>\n",
       "<table border=\"1\" class=\"dataframe\">\n",
       "  <thead>\n",
       "    <tr style=\"text-align: right;\">\n",
       "      <th></th>\n",
       "      <th>eda</th>\n",
       "    </tr>\n",
       "  </thead>\n",
       "  <tbody>\n",
       "    <tr>\n",
       "      <th>2018-05-23 01:09:12.000</th>\n",
       "      <td>0.206257</td>\n",
       "    </tr>\n",
       "    <tr>\n",
       "      <th>2018-05-23 01:09:12.250</th>\n",
       "      <td>0.352302</td>\n",
       "    </tr>\n",
       "    <tr>\n",
       "      <th>2018-05-23 01:09:12.500</th>\n",
       "      <td>0.356146</td>\n",
       "    </tr>\n",
       "    <tr>\n",
       "      <th>2018-05-23 01:09:12.750</th>\n",
       "      <td>0.354865</td>\n",
       "    </tr>\n",
       "    <tr>\n",
       "      <th>2018-05-23 01:09:13.000</th>\n",
       "      <td>0.357427</td>\n",
       "    </tr>\n",
       "  </tbody>\n",
       "</table>\n",
       "</div>"
      ],
      "text/plain": [
       "                              eda\n",
       "2018-05-23 01:09:12.000  0.206257\n",
       "2018-05-23 01:09:12.250  0.352302\n",
       "2018-05-23 01:09:12.500  0.356146\n",
       "2018-05-23 01:09:12.750  0.354865\n",
       "2018-05-23 01:09:13.000  0.357427"
      ]
     },
     "execution_count": 20,
     "metadata": {},
     "output_type": "execute_result"
    }
   ],
   "source": [
    "fl_eda_1 = fl_eda_1.set_index(fl_time_eda_1, drop =True)\n",
    "fl_eda_1.head()"
   ]
  },
  {
   "cell_type": "code",
   "execution_count": 21,
   "metadata": {},
   "outputs": [
    {
     "name": "stdout",
     "output_type": "stream",
     "text": [
      "2107\n"
     ]
    },
    {
     "data": {
      "text/html": [
       "<div>\n",
       "<style scoped>\n",
       "    .dataframe tbody tr th:only-of-type {\n",
       "        vertical-align: middle;\n",
       "    }\n",
       "\n",
       "    .dataframe tbody tr th {\n",
       "        vertical-align: top;\n",
       "    }\n",
       "\n",
       "    .dataframe thead th {\n",
       "        text-align: right;\n",
       "    }\n",
       "</style>\n",
       "<table border=\"1\" class=\"dataframe\">\n",
       "  <thead>\n",
       "    <tr style=\"text-align: right;\">\n",
       "      <th></th>\n",
       "      <th>eda</th>\n",
       "    </tr>\n",
       "  </thead>\n",
       "  <tbody>\n",
       "    <tr>\n",
       "      <th>2018-05-23 01:09:12.000</th>\n",
       "      <td>0.206257</td>\n",
       "    </tr>\n",
       "    <tr>\n",
       "      <th>2018-05-23 01:09:12.250</th>\n",
       "      <td>0.352302</td>\n",
       "    </tr>\n",
       "    <tr>\n",
       "      <th>2018-05-23 01:09:12.500</th>\n",
       "      <td>0.356146</td>\n",
       "    </tr>\n",
       "    <tr>\n",
       "      <th>2018-05-23 01:09:12.750</th>\n",
       "      <td>0.354865</td>\n",
       "    </tr>\n",
       "    <tr>\n",
       "      <th>2018-05-23 01:09:13.000</th>\n",
       "      <td>0.357427</td>\n",
       "    </tr>\n",
       "  </tbody>\n",
       "</table>\n",
       "</div>"
      ],
      "text/plain": [
       "                              eda\n",
       "2018-05-23 01:09:12.000  0.206257\n",
       "2018-05-23 01:09:12.250  0.352302\n",
       "2018-05-23 01:09:12.500  0.356146\n",
       "2018-05-23 01:09:12.750  0.354865\n",
       "2018-05-23 01:09:13.000  0.357427"
      ]
     },
     "execution_count": 21,
     "metadata": {},
     "output_type": "execute_result"
    }
   ],
   "source": [
    "# eda = eda.rolling(4).sum()\n",
    "# fl_eda = fl_eda.iloc[::4,:]\n",
    "fl_eda_1 = fl_eda_1[:-10]\n",
    "fl_eda_1 = fl_eda_1.dropna()\n",
    "print(len(fl_eda_1))\n",
    "fl_eda_1.head()"
   ]
  },
  {
   "cell_type": "code",
   "execution_count": null,
   "metadata": {},
   "outputs": [],
   "source": []
  },
  {
   "cell_type": "markdown",
   "metadata": {},
   "source": [
    "### Visualization"
   ]
  },
  {
   "cell_type": "markdown",
   "metadata": {},
   "source": [
    "#### Remove Outliers"
   ]
  },
  {
   "cell_type": "code",
   "execution_count": 22,
   "metadata": {},
   "outputs": [
    {
     "name": "stdout",
     "output_type": "stream",
     "text": [
      "1194\n"
     ]
    },
    {
     "data": {
      "text/plain": [
       "2018-05-22 00:29:47.750    0.380487\n",
       "2018-05-22 00:29:48.000    0.388173\n",
       "2018-05-22 00:29:48.250    0.416357\n",
       "2018-05-22 00:29:48.500    0.374081\n",
       "2018-05-22 00:29:48.750    0.353584\n",
       "2018-05-22 00:29:49.000    0.381768\n",
       "2018-05-22 00:29:49.250    0.417639\n",
       "2018-05-22 00:29:50.250    0.402265\n",
       "2018-05-22 00:29:50.500    0.381768\n",
       "2018-05-22 00:29:50.750    0.372800\n",
       "Name: eda, dtype: float64"
      ]
     },
     "execution_count": 22,
     "metadata": {},
     "output_type": "execute_result"
    }
   ],
   "source": [
    "fl_exp0 = fl_eda_0.copy()#example dataset of normally distributed data. \n",
    "fl_exp0= fl_exp0[np.abs(fl_exp0.eda-fl_exp0.eda.mean())<=(3*fl_exp0.eda.std())] #keep only the ones that are within +3 to -3 standard deviations in the column 'Data'.\n",
    "fl_exp0= fl_exp0[~(np.abs(fl_exp0.eda-fl_exp0.eda.mean())>(3*fl_exp0.eda.std()))] #or if you prefer the other way around\n",
    "\n",
    "print(len(fl_exp0))\n",
    "fl_exp0.eda[:10]\n"
   ]
  },
  {
   "cell_type": "code",
   "execution_count": 23,
   "metadata": {},
   "outputs": [
    {
     "name": "stdout",
     "output_type": "stream",
     "text": [
      "2056\n"
     ]
    },
    {
     "data": {
      "text/plain": [
       "2018-05-23 01:09:12.250    0.352302\n",
       "2018-05-23 01:09:12.500    0.356146\n",
       "2018-05-23 01:09:12.750    0.354865\n",
       "2018-05-23 01:09:13.000    0.357427\n",
       "2018-05-23 01:09:13.250    0.357427\n",
       "2018-05-23 01:09:13.500    0.336929\n",
       "2018-05-23 01:09:13.750    0.356146\n",
       "2018-05-23 01:09:14.000    0.354865\n",
       "2018-05-23 01:09:14.250    0.356146\n",
       "2018-05-23 01:09:14.500    0.354865\n",
       "Name: eda, dtype: float64"
      ]
     },
     "execution_count": 23,
     "metadata": {},
     "output_type": "execute_result"
    }
   ],
   "source": [
    "fl_exp1 = fl_eda_1.copy()#example dataset of normally distributed data. \n",
    "fl_exp1= fl_exp1[np.abs(fl_exp1.eda-fl_exp1.eda.mean())<=(3*fl_exp1.eda.std())] #keep only the ones that are within +3 to -3 standard deviations in the column 'Data'.\n",
    "fl_exp1= fl_exp1[~(np.abs(fl_exp1.eda-fl_exp1.eda.mean())>(3*fl_exp1.eda.std()))] #or if you prefer the other way around\n",
    "\n",
    "print(len(fl_exp1))\n",
    "fl_exp1.eda[:10]\n"
   ]
  },
  {
   "cell_type": "markdown",
   "metadata": {},
   "source": [
    "### Histogram"
   ]
  },
  {
   "cell_type": "code",
   "execution_count": 24,
   "metadata": {
    "scrolled": false
   },
   "outputs": [
    {
     "data": {
      "image/png": "[encoded data removed]",
      "text/plain": [
       "<matplotlib.figure.Figure at 0x7f9e19d38198>"
      ]
     },
     "metadata": {
      "image/png": {
       "height": 263,
       "width": 375
      }
     },
     "output_type": "display_data"
    }
   ],
   "source": [
    "plt.hist(fl_exp0.eda, color = 'c', alpha = 0.7)\n",
    "plt.title('Day 0 EDA Frequency Histogram')\n",
    "plt.show()"
   ]
  },
  {
   "cell_type": "code",
   "execution_count": 26,
   "metadata": {},
   "outputs": [
    {
     "data": {
      "image/png": "[encoded data removed]",
      "text/plain": [
       "<matplotlib.figure.Figure at 0x7f9e17a72048>"
      ]
     },
     "metadata": {
      "image/png": {
       "height": 263,
       "width": 375
      }
     },
     "output_type": "display_data"
    }
   ],
   "source": [
    "plt.hist(fl_exp1.eda, color = 'gold', alpha = 0.7)\n",
    "plt.title('Day 0 EDA Frequency Histogram')\n",
    "plt.show()"
   ]
  },
  {
   "cell_type": "markdown",
   "metadata": {},
   "source": [
    "#### Time-series Plot"
   ]
  },
  {
   "cell_type": "code",
   "execution_count": null,
   "metadata": {},
   "outputs": [],
   "source": [
    "y_mean = np.mean(fl_exp0.eda)\n",
    "plt.figure(figsize=(25,15))\n",
    "plt.plot(fl_exp0)\n",
    "plt.legend(['Experiment Day 0 EDA'],loc=1,fontsize='medium')\n",
    "plt.axhline(y = y_mean,color = 'salmon',linestyle='--')\n",
    "plt.title('Cold Shower Experiment Day 0')\n",
    "plt.show()"
   ]
  },
  {
   "cell_type": "markdown",
   "metadata": {},
   "source": [
    "### Day 1\n"
   ]
  },
  {
   "cell_type": "markdown",
   "metadata": {},
   "source": [
    "I consider the experiment is 3 minutes and the sampling frequencyf is 4Hz which is 0.25s per record. We can take 720 records based on this frequency. We then exclude the last 3 second which might be the dalay of the process of truning off the wristband. \n",
    "\n",
    "In turn we will first exclude the last 3 *4 = 12 records which include 720 + 12 = 732 records into our analysis as the experimental period every day ."
   ]
  },
  {
   "cell_type": "code",
   "execution_count": null,
   "metadata": {},
   "outputs": [],
   "source": [
    "fl_day0 = "
   ]
  },
  {
   "cell_type": "code",
   "execution_count": null,
   "metadata": {},
   "outputs": [],
   "source": []
  },
  {
   "cell_type": "code",
   "execution_count": null,
   "metadata": {},
   "outputs": [],
   "source": []
  },
  {
   "cell_type": "code",
   "execution_count": null,
   "metadata": {},
   "outputs": [],
   "source": []
  },
  {
   "cell_type": "code",
   "execution_count": null,
   "metadata": {},
   "outputs": [],
   "source": []
  },
  {
   "cell_type": "code",
   "execution_count": null,
   "metadata": {},
   "outputs": [],
   "source": []
  },
  {
   "cell_type": "code",
   "execution_count": null,
   "metadata": {},
   "outputs": [],
   "source": []
  },
  {
   "cell_type": "markdown",
   "metadata": {},
   "source": [
    "## EDA Analysis"
   ]
  },
  {
   "cell_type": "markdown",
   "metadata": {},
   "source": [
    "## CR "
   ]
  },
  {
   "cell_type": "markdown",
   "metadata": {},
   "source": [
    " **r**: phasic component\n",
    "     \n",
    " \n",
    " **p**: sparse SMNA driver of phasic component\n",
    "     \n",
    "     \n",
    " **t**: tonic component\n",
    "     \n",
    "     \n",
    " **l**: coefficients of tonic spline\n",
    "     \n",
    "     \n",
    " **d**: offset and slope of the linear drift term\n",
    " \n",
    " \n",
    " **e**: model residuals\n",
    " \n",
    " \n",
    " **obj**: value of objective function being minimized (eq 15 of paper)"
   ]
  },
  {
   "cell_type": "code",
   "execution_count": null,
   "metadata": {},
   "outputs": [],
   "source": [
    "y = np.asarray(fl_exp0.eda)\n",
    "y[:10]"
   ]
  },
  {
   "cell_type": "markdown",
   "metadata": {},
   "source": []
  },
  {
   "cell_type": "code",
   "execution_count": null,
   "metadata": {},
   "outputs": [],
   "source": [
    "yn = (y - y.mean()) / y.std()\n",
    "Fs = 4.\n",
    "[r, p, t, l, d, e, obj] = cvxEDA.cvxEDA(yn, 1./Fs)\n",
    "\n",
    "# pl.rcParams['figure.figsize'] = (30,20)\n",
    "tm = pl.arange(1., len(y)+1.) / Fs\n"
   ]
  },
  {
   "cell_type": "code",
   "execution_count": null,
   "metadata": {},
   "outputs": [],
   "source": [
    "params = {'legend.fontsize': 'xx-large',\n",
    "          'figure.figsize': (25, 20),\n",
    "         'axes.labelsize': 'xx-large',\n",
    "         'axes.titlesize':'xx-large',\n",
    "         'xtick.labelsize':'xx-large',\n",
    "         'ytick.labelsize':'xx-large'}\n",
    "pl.rcParams.update(params)"
   ]
  },
  {
   "cell_type": "code",
   "execution_count": null,
   "metadata": {},
   "outputs": [],
   "source": [
    "print(obj)"
   ]
  },
  {
   "cell_type": "code",
   "execution_count": null,
   "metadata": {
    "scrolled": false
   },
   "outputs": [],
   "source": [
    "pl.hold(True)\n",
    "pl.plot(tm, yn)\n",
    "pl.plot(tm, r)\n",
    "pl.plot(tm, p)\n",
    "pl.plot(tm, t)\n",
    "pl.title('Experiment Day 0 cvxEDA Deconvolution Analysis')\n",
    "pl.legend(['SC Z-score','Phasic Component','SMNA sparse driver of phasic component',\n",
    "           'Tonic Component'])\n",
    "\n",
    "pl.show()"
   ]
  },
  {
   "cell_type": "code",
   "execution_count": null,
   "metadata": {},
   "outputs": [],
   "source": [
    "pl.hold(True)\n",
    "y_mean = np.mean(yn)\n",
    "plt.axhline(y = y_mean,color = 'salmon',linestyle='--')\n",
    "pl.plot(tm, yn)\n",
    "# pl.plot(tm, r)\n",
    "# pl.plot(tm, p)\n",
    "# pl.plot(tm, t)\n",
    "pl.title('Experiment Day 0 Raw SC Z-score')\n",
    "# pl.legend(['SC series','Phasic Component','SMNA sparse driver of phasic component',\n",
    "#            'Tonic Component'])\n",
    "\n",
    "pl.show()"
   ]
  },
  {
   "cell_type": "code",
   "execution_count": null,
   "metadata": {},
   "outputs": [],
   "source": [
    "pl.hold(True)\n",
    "# pl.plot(tm, yn)\n",
    "pl.plot(tm, r)\n",
    "# pl.plot(tm, p)\n",
    "# pl.plot(tm, t)\n",
    "pl.title('Experiment Day 0 EDA Phasic Component')\n",
    "pl.show()"
   ]
  },
  {
   "cell_type": "code",
   "execution_count": null,
   "metadata": {},
   "outputs": [],
   "source": [
    "pl.hold(True)\n",
    "# pl.plot(tm, yn)\n",
    "# pl.plot(tm, r)\n",
    "pl.plot(tm, p)\n",
    "# pl.plot(tm, t)\n",
    "pl.title('Experiment Day 0 EDA Sparse SMNA driver of Phasic Component')\n",
    "pl.show()"
   ]
  },
  {
   "cell_type": "code",
   "execution_count": null,
   "metadata": {},
   "outputs": [],
   "source": [
    "pl.hold(True)\n",
    "# pl.plot(tm, yn)\n",
    "# pl.plot(tm, r)\n",
    "# pl.plot(tm, p)\n",
    "pl.plot(tm, t)\n",
    "pl.title('Experiment Day 0 EDA Tonic Component')\n",
    "pl.show()"
   ]
  },
  {
   "cell_type": "code",
   "execution_count": null,
   "metadata": {},
   "outputs": [],
   "source": []
  },
  {
   "cell_type": "code",
   "execution_count": null,
   "metadata": {},
   "outputs": [],
   "source": []
  },
  {
   "cell_type": "code",
   "execution_count": null,
   "metadata": {},
   "outputs": [],
   "source": []
  },
  {
   "cell_type": "code",
   "execution_count": null,
   "metadata": {},
   "outputs": [],
   "source": []
  },
  {
   "cell_type": "code",
   "execution_count": null,
   "metadata": {},
   "outputs": [],
   "source": []
  },
  {
   "cell_type": "code",
   "execution_count": null,
   "metadata": {},
   "outputs": [],
   "source": []
  },
  {
   "cell_type": "code",
   "execution_count": null,
   "metadata": {},
   "outputs": [],
   "source": []
  },
  {
   "cell_type": "code",
   "execution_count": null,
   "metadata": {},
   "outputs": [],
   "source": []
  },
  {
   "cell_type": "code",
   "execution_count": null,
   "metadata": {},
   "outputs": [],
   "source": []
  },
  {
   "cell_type": "code",
   "execution_count": null,
   "metadata": {},
   "outputs": [],
   "source": []
  },
  {
   "cell_type": "code",
   "execution_count": null,
   "metadata": {},
   "outputs": [],
   "source": []
  },
  {
   "cell_type": "code",
   "execution_count": null,
   "metadata": {},
   "outputs": [],
   "source": []
  }
 ],
 "metadata": {
  "kernelspec": {
   "display_name": "Python 3",
   "language": "python",
   "name": "python3"
  },
  "language_info": {
   "codemirror_mode": {
    "name": "ipython",
    "version": 3
   },
   "file_extension": ".py",
   "mimetype": "text/x-python",
   "name": "python",
   "nbconvert_exporter": "python",
   "pygments_lexer": "ipython3",
   "version": "3.5.2"
  }
 },
 "nbformat": 4,
 "nbformat_minor": 2
}
