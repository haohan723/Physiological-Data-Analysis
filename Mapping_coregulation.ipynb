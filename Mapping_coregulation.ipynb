{
 "cells": [
  {
   "cell_type": "markdown",
   "metadata": {},
   "source": [
    "# Mapping Co-regulation in Social Relations"
   ]
  },
  {
   "cell_type": "markdown",
   "metadata": {},
   "source": [
    "## Conceptualizing Co-Regulation from a Dynamic Systems Perspective "
   ]
  },
  {
   "cell_type": "markdown",
   "metadata": {},
   "source": [
    "**DSMs** are a class of modeling techniques that utilizes differential equations or difference equations to characterize change process over time.\n",
    "\n",
    "\n",
    "Dynamical systems theory is primarily concerned with understanding patterns of change over time, under the assumption that these temporal patterns are a byproduct of the interactions of many higher- and lower-order processes known as _emgence_.\n",
    "\n",
    "\n",
    "\n"
   ]
  },
  {
   "cell_type": "markdown",
   "metadata": {},
   "source": [
    "$Assumptions$\n",
    "\n",
    "1. Dynamical system theory behavior of the variables involved in the system. Applied to co-regulation, this idea implies that it is possible to understand a relational process, such as co-regulation, by **observing the behavior of the individuals involved in the relationship.** This idea is commonly referred to as 'emergence' in the dynamical systems literature, and suggests that the 'how' is a much more difficult question to assess, if not impossible, and instead a researcher's focus should be on what emerges. \n",
    "\n",
    "\n",
    "2. Dynamical systems theory assumes that the ways a system changes over time are best understood **in terms of patterns (what emerges), which means that variables tend to change over time in a predictable fashion or fashions **(e.g., oscillating about a single point, escalating over time, etc.). Applied to co-regulation, this idea suggests that co-regualtion can be described as partners' typical responses to each other's behavior. \n",
    "\n",
    "\n",
    "3. Dynamical system theory assumes that **some patterns of change over time are more likely to occur than others.** Applied to co-regulation, this idea implies that even though partners may have typical ways of responding to one another, it is also possible, though less likely, for them to deviate from their typical response. \n",
    "\n",
    "\n",
    "4. These patterns differ in their inherent stability, and **many of the patterns are, in fact, defined by reactions to outside forces generating temporary divergences from the pattern.** Applied to co-regulation, this idea implies that our descriptive of a typical response is really the degree to which the typical response is able to be amintained despite constant forces that could lead to diverging from that response pattern."
   ]
  },
  {
   "cell_type": "markdown",
   "metadata": {},
   "source": [
    "## Data Analysis"
   ]
  },
  {
   "cell_type": "markdown",
   "metadata": {},
   "source": [
    "### Covariation "
   ]
  },
  {
   "cell_type": "markdown",
   "metadata": {},
   "source": [
    "They choose **scatter plot**: the husband BPM (on the y-axis) and wife BPM (on the x-axis) with a _loess_ _smoothers_ (a graphical line that is sensitive to data nonlinearities) and best fitting straight line overlaid. The best fitting straight line directly represents the covariation itself - the extent to which we observe highs and lows together (a positive relationship) or when one is high the other being low (a negative relationship)."
   ]
  },
  {
   "cell_type": "markdown",
   "metadata": {},
   "source": [
    "![title](scatterplot.png)"
   ]
  },
  {
   "cell_type": "markdown",
   "metadata": {},
   "source": [
    "$Problem$\n",
    "\n",
    "The single biggest problem with a covariation approaches to understanding systems is that covariation only tells us about **the existence of value correspondence.**"
   ]
  },
  {
   "cell_type": "markdown",
   "metadata": {},
   "source": [
    "$Information$ $we$ $get$\n",
    "\n",
    "\n",
    "The homeostatic pattern itself is one of covariation, in that husband and wife are converging towards the same value over time, and if they are sitting at that value, it will generate consistency of that single point.\n",
    "\n",
    "\n",
    "If there are two such homeostatic values and the coupld switches between these 2 stable locales, one can then imagine a very strong degree of covariation due to the relative placement of the homeostatic values to one another. "
   ]
  },
  {
   "cell_type": "markdown",
   "metadata": {},
   "source": [
    "### Dynamical Systems as Maps"
   ]
  },
  {
   "cell_type": "markdown",
   "metadata": {},
   "source": [
    "Topograph is the drawing of maps, and topology is the math behind them. In systems terms, the 2-dimentional kernel density plot also corresponds to something know as the **phase portrait** -- a map of where data converges over time. \n",
    "\n",
    "\n",
    "The _phase_ _portrait_ is merely a scaled inverse of the PDF. "
   ]
  },
  {
   "cell_type": "markdown",
   "metadata": {},
   "source": [
    "![title](kerneldensity.png)"
   ]
  },
  {
   "cell_type": "markdown",
   "metadata": {},
   "source": [
    "From our perspective, this map shwos where BPM values are converging over time."
   ]
  },
  {
   "cell_type": "code",
   "execution_count": null,
   "metadata": {},
   "outputs": [],
   "source": []
  },
  {
   "cell_type": "code",
   "execution_count": null,
   "metadata": {},
   "outputs": [],
   "source": []
  },
  {
   "cell_type": "code",
   "execution_count": null,
   "metadata": {},
   "outputs": [],
   "source": []
  },
  {
   "cell_type": "code",
   "execution_count": null,
   "metadata": {},
   "outputs": [],
   "source": []
  },
  {
   "cell_type": "code",
   "execution_count": null,
   "metadata": {},
   "outputs": [],
   "source": []
  },
  {
   "cell_type": "code",
   "execution_count": null,
   "metadata": {},
   "outputs": [],
   "source": []
  },
  {
   "cell_type": "code",
   "execution_count": null,
   "metadata": {},
   "outputs": [],
   "source": []
  },
  {
   "cell_type": "code",
   "execution_count": null,
   "metadata": {},
   "outputs": [],
   "source": []
  },
  {
   "cell_type": "code",
   "execution_count": null,
   "metadata": {},
   "outputs": [],
   "source": []
  },
  {
   "cell_type": "code",
   "execution_count": null,
   "metadata": {},
   "outputs": [],
   "source": []
  }
 ],
 "metadata": {
  "kernelspec": {
   "display_name": "Python 3",
   "language": "python",
   "name": "python3"
  },
  "language_info": {
   "codemirror_mode": {
    "name": "ipython",
    "version": 3
   },
   "file_extension": ".py",
   "mimetype": "text/x-python",
   "name": "python",
   "nbconvert_exporter": "python",
   "pygments_lexer": "ipython3",
   "version": "3.5.2"
  }
 },
 "nbformat": 4,
 "nbformat_minor": 2
}
