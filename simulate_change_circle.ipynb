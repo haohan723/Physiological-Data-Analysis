{
 "cells": [
  {
   "cell_type": "markdown",
   "metadata": {},
   "source": [
    "# Study Topics "
   ]
  },
  {
   "cell_type": "markdown",
   "metadata": {},
   "source": [
    "We want to simulate the real-world situation where people in your profession circle make change for their career. In the last 6 mths there are around 10 people"
   ]
  },
  {
   "cell_type": "code",
   "execution_count": null,
   "metadata": {},
   "outputs": [],
   "source": []
  },
  {
   "cell_type": "code",
   "execution_count": null,
   "metadata": {},
   "outputs": [],
   "source": []
  },
  {
   "cell_type": "markdown",
   "metadata": {},
   "source": [
    "## Assumptions Made"
   ]
  },
  {
   "cell_type": "markdown",
   "metadata": {},
   "source": [
    "1. Assume the distribution of years of experience in a particular person's circle follows normal distribution with mean of the same yrs of experience of the person and regular stdev of 1.0.\n",
    "2. Assume that the average time for a person to switch job is around 3 yrs. So the distribution is a normal distribution follows normal distribution with mean as 5 and stdev as 1.0.\n",
    "3. In this study, we constrain the interested time window into 1 year or 12 months. \n",
    "4. We assume the number of people a person know relatively intimately is around 50 people. \n",
    "5. For people across different yrs of experience will at any time point will have 50% chance of looking for a new job.\n",
    "6. Assume the average preparation time is 6 month. \n",
    "7. Assume the people who are looking and prepared have 35% chance to find the job they want and the other also want them. \n",
    "8. Assume that the preparation could start at any time point in the year which implies a uniform distribution.\n",
    "\n",
    "\n",
    "\n"
   ]
  },
  {
   "cell_type": "markdown",
   "metadata": {},
   "source": [
    "**Question to answer** \n",
    "we are trying to figure out how many people will leave the circle based on the simulation. "
   ]
  },
  {
   "cell_type": "markdown",
   "metadata": {},
   "source": [
    "## Questions"
   ]
  },
  {
   "cell_type": "markdown",
   "metadata": {},
   "source": [
    "1. Years of experience in total or in one company? - in this case, I think we should just concern the years of experience in one company\n",
    "2. The possibility of change "
   ]
  },
  {
   "cell_type": "markdown",
   "metadata": {},
   "source": [
    "# Simulation "
   ]
  },
  {
   "cell_type": "code",
   "execution_count": 2,
   "metadata": {},
   "outputs": [],
   "source": [
    "import numpy as np\n",
    "import matplotlib.pyplot as plt\n",
    "\n",
    "from scipy import stats\n",
    "import seaborn as sns\n",
    "\n",
    "sns.set(color_codes = True)\n",
    "%matplotlib inline\n",
    "%config InlineBackend.figure_format = 'retina'"
   ]
  },
  {
   "cell_type": "markdown",
   "metadata": {},
   "source": [
    "## Hyperparameters"
   ]
  },
  {
   "cell_type": "code",
   "execution_count": 36,
   "metadata": {},
   "outputs": [],
   "source": [
    "num_pop = 50\n",
    "\n",
    "avg_exp = 3\n",
    "stdev_exp = 1.0\n",
    "\n",
    "avg_ts = 3\n",
    "stdev_ts = 1.0"
   ]
  },
  {
   "cell_type": "markdown",
   "metadata": {},
   "source": [
    "## Simulate the yrs of experience"
   ]
  },
  {
   "cell_type": "code",
   "execution_count": 32,
   "metadata": {},
   "outputs": [
    {
     "name": "stdout",
     "output_type": "stream",
     "text": [
      "number of people who are looking for a new role at any time point is 25\n"
     ]
    }
   ],
   "source": [
    "\n",
    "print('number of people who are looking for a new role at any time point is %s' % len(exp_pop))\n"
   ]
  },
  {
   "cell_type": "markdown",
   "metadata": {},
   "source": [
    "## Simulate the starting and the ending date of preparation "
   ]
  },
  {
   "cell_type": "code",
   "execution_count": 13,
   "metadata": {},
   "outputs": [
    {
     "name": "stdout",
     "output_type": "stream",
     "text": [
      "number of people who are looking for a new role at any time point is 25\n"
     ]
    },
    {
     "data": {
      "text/plain": [
       "array([ 3.88640374,  1.18731102,  4.69681852,  3.91669662, 10.56927473,\n",
       "        3.35322962, 10.0645978 , 10.26291554,  4.72275857,  1.63505095,\n",
       "        8.98550906,  1.8926978 ,  5.48752222,  9.68645534,  5.06749557,\n",
       "        7.67968734, 10.07513182,  1.94742875,  8.95583374,  2.3203532 ,\n",
       "       10.80285032,  6.08570196,  5.37166865, 11.30578867,  4.77441639])"
      ]
     },
     "execution_count": 13,
     "metadata": {},
     "output_type": "execute_result"
    }
   ],
   "source": [
    "sta_prep = np.random.uniform(low=1, high =12, size = int(num_pop/2))\n",
    "sta_prep"
   ]
  },
  {
   "cell_type": "code",
   "execution_count": 28,
   "metadata": {},
   "outputs": [
    {
     "data": {
      "text/plain": [
       "array([12.28721543,  5.33370581, 10.07406445, 12.33745636, 16.48907623,\n",
       "       13.87212338, 12.48749029, 15.17962678, 11.5632395 ,  6.58539856,\n",
       "       17.7583912 ,  9.37638134,  8.43416942, 16.32597478, 12.80301868,\n",
       "       11.11470319, 17.55689359,  6.38241675, 15.25118097,  7.40376509,\n",
       "       20.50896899, 11.42316307, 12.51274055, 19.18874817, 11.35696889])"
      ]
     },
     "execution_count": 28,
     "metadata": {},
     "output_type": "execute_result"
    }
   ],
   "source": [
    "end_prep = sta_prep + np.random.normal(6,3,int(num_pop/2))\n",
    "end_prep"
   ]
  },
  {
   "cell_type": "markdown",
   "metadata": {},
   "source": [
    "**For those who have the end date > 12 will be ruled out becasue they pass 1 yr boundary in this case.**"
   ]
  },
  {
   "cell_type": "code",
   "execution_count": 29,
   "metadata": {},
   "outputs": [
    {
     "data": {
      "text/plain": [
       "23"
      ]
     },
     "execution_count": 29,
     "metadata": {},
     "output_type": "execute_result"
    }
   ],
   "source": [
    "# 1 year window size\n",
    "end_pop = [i for i in end_prep if i <= 18]\n",
    "len(end_pop)"
   ]
  },
  {
   "cell_type": "code",
   "execution_count": 30,
   "metadata": {},
   "outputs": [
    {
     "data": {
      "text/plain": [
       "11"
      ]
     },
     "execution_count": 30,
     "metadata": {},
     "output_type": "execute_result"
    }
   ],
   "source": [
    "# first 6 month window size \n",
    "halfyr_end_pop = [i for i in end_prep if i <= 12]\n",
    "len(halfyr_end_pop)"
   ]
  },
  {
   "cell_type": "markdown",
   "metadata": {},
   "source": [
    "## Ramdon sample these people years of experience in the company"
   ]
  },
  {
   "cell_type": "code",
   "execution_count": 37,
   "metadata": {},
   "outputs": [
    {
     "data": {
      "text/plain": [
       "array([2.09432981, 2.68942574, 1.25071976, 2.43566958, 4.88915952,\n",
       "       2.10915182, 3.66252267, 3.56531982, 1.52898182, 1.9087079 ,\n",
       "       3.34045582, 2.7274915 , 1.46968225, 2.14516995, 2.51815779,\n",
       "       2.87190151, 3.54366273, 3.164418  , 3.67094595, 2.63971364,\n",
       "       2.76862235, 1.28466399, 4.33625716])"
      ]
     },
     "execution_count": 37,
     "metadata": {},
     "output_type": "execute_result"
    }
   ],
   "source": [
    "exp_pop = np.random.normal(avg_exp,stdev_exp,len(end_pop))\n",
    "exp_pop"
   ]
  },
  {
   "cell_type": "code",
   "execution_count": 38,
   "metadata": {},
   "outputs": [
    {
     "data": {
      "text/plain": [
       "8"
      ]
     },
     "execution_count": 38,
     "metadata": {},
     "output_type": "execute_result"
    }
   ],
   "source": [
    "pop_w_3more_exp = [i for i in exp_pop if i >= 3]\n",
    "len(pop_w_3more_exp)"
   ]
  },
  {
   "cell_type": "code",
   "execution_count": 39,
   "metadata": {},
   "outputs": [
    {
     "data": {
      "text/plain": [
       "15"
      ]
     },
     "execution_count": 39,
     "metadata": {},
     "output_type": "execute_result"
    }
   ],
   "source": [
    "pop_w_3less_exp = [i for i in exp_pop if i < 3]\n",
    "len(pop_w_3less_exp)"
   ]
  },
  {
   "cell_type": "code",
   "execution_count": null,
   "metadata": {},
   "outputs": [],
   "source": []
  },
  {
   "cell_type": "code",
   "execution_count": null,
   "metadata": {},
   "outputs": [],
   "source": []
  }
 ],
 "metadata": {
  "kernelspec": {
   "display_name": "Python 3",
   "language": "python",
   "name": "python3"
  },
  "language_info": {
   "codemirror_mode": {
    "name": "ipython",
    "version": 3
   },
   "file_extension": ".py",
   "mimetype": "text/x-python",
   "name": "python",
   "nbconvert_exporter": "python",
   "pygments_lexer": "ipython3",
   "version": "3.5.2"
  }
 },
 "nbformat": 4,
 "nbformat_minor": 2
}
