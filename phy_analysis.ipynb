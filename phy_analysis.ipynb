{
 "cells": [
  {
   "cell_type": "markdown",
   "metadata": {},
   "source": [
    "# Topic"
   ]
  },
  {
   "cell_type": "markdown",
   "metadata": {},
   "source": [
    "    Emotions increase our chances of survival by providing us with the ability to deal with sudden events in our surroundings.\n",
    "\n",
    "    In a positve state, optimistic feelings dominate and cognitive functions (i.e. problem-solving, abilities.\n"
   ]
  },
  {
   "cell_type": "markdown",
   "metadata": {},
   "source": [
    "## Interested Aspects / Analysis"
   ]
  },
  {
   "cell_type": "markdown",
   "metadata": {},
   "source": [
    "### Questions \n",
    "1. Make predictions of timing:\n",
    "  * Time that argument may happen \n",
    "  * Best time to approach each other\n",
    "  * Time of possible impulsive decisions \n",
    "  * Time of tiredness (time for a break) \n",
    "\n",
    "\n",
    "2. Make predictions of the events: \n",
    " * what event you are doing \n",
    "\n",
    "\n",
    "3. Notify the emotions: \n",
    "  * Showing the emotions right now (help them to link the event and the interactions with the emotions)\n",
    "\n",
    "\n",
    "4. Give the notification for the possible outcome: \n",
    "  * (early warning) See the signals change, and give the instructions of what they should be doing in response to the situation (provide tailored advice for them to reach their set point at the moment)\n",
    "  * (promote the positive experience) let them know they are relaxed and motivated, they should capture the moment < in a way I think the experiencing self can really help shape your experience and in turn shape the remembering self if we can give the instructions and the interventions at the moment)\n",
    "  * Gives the warning if the signal shows the potential health issue <like if you are in danger and your physiological signal change dramatically they can contact your emergency contact directly)"
   ]
  },
  {
   "cell_type": "markdown",
   "metadata": {},
   "source": [
    "### Analysis\n",
    "\n",
    "1. Clustering with t-SNE and PCA on these features \n",
    "2. Seq-2-Seq for data every minute"
   ]
  },
  {
   "cell_type": "code",
   "execution_count": null,
   "metadata": {},
   "outputs": [],
   "source": []
  },
  {
   "cell_type": "markdown",
   "metadata": {},
   "source": [
    "# Data Preprocessing"
   ]
  },
  {
   "cell_type": "code",
   "execution_count": 1,
   "metadata": {},
   "outputs": [
    {
     "name": "stderr",
     "output_type": "stream",
     "text": [
      "Using TensorFlow backend.\n"
     ]
    }
   ],
   "source": [
    "import numpy as np \n",
    "import tensorflow as tf\n",
    "import pandas as pd\n",
    "import matplotlib.pyplot as plt\n",
    "import seaborn as sns\n",
    "from keras.preprocessing import sequence\n",
    "import datetime\n",
    "sns.set(color_codes = True)\n",
    "%matplotlib inline\n",
    "%config InlineBackend.figure_format = 'retina'"
   ]
  },
  {
   "cell_type": "code",
   "execution_count": 3,
   "metadata": {},
   "outputs": [
    {
     "name": "stdout",
     "output_type": "stream",
     "text": [
      "2402644\n"
     ]
    },
    {
     "data": {
      "text/html": [
       "<div>\n",
       "<style scoped>\n",
       "    .dataframe tbody tr th:only-of-type {\n",
       "        vertical-align: middle;\n",
       "    }\n",
       "\n",
       "    .dataframe tbody tr th {\n",
       "        vertical-align: top;\n",
       "    }\n",
       "\n",
       "    .dataframe thead th {\n",
       "        text-align: right;\n",
       "    }\n",
       "</style>\n",
       "<table border=\"1\" class=\"dataframe\">\n",
       "  <thead>\n",
       "    <tr style=\"text-align: right;\">\n",
       "      <th></th>\n",
       "      <th>bvp</th>\n",
       "    </tr>\n",
       "  </thead>\n",
       "  <tbody>\n",
       "    <tr>\n",
       "      <th>0</th>\n",
       "      <td>1.522203e+09</td>\n",
       "    </tr>\n",
       "    <tr>\n",
       "      <th>1</th>\n",
       "      <td>6.400000e+01</td>\n",
       "    </tr>\n",
       "    <tr>\n",
       "      <th>2</th>\n",
       "      <td>-0.000000e+00</td>\n",
       "    </tr>\n",
       "    <tr>\n",
       "      <th>3</th>\n",
       "      <td>-0.000000e+00</td>\n",
       "    </tr>\n",
       "    <tr>\n",
       "      <th>4</th>\n",
       "      <td>-0.000000e+00</td>\n",
       "    </tr>\n",
       "  </tbody>\n",
       "</table>\n",
       "</div>"
      ],
      "text/plain": [
       "            bvp\n",
       "0  1.522203e+09\n",
       "1  6.400000e+01\n",
       "2 -0.000000e+00\n",
       "3 -0.000000e+00\n",
       "4 -0.000000e+00"
      ]
     },
     "execution_count": 3,
     "metadata": {},
     "output_type": "execute_result"
    }
   ],
   "source": [
    "# Sampling frequency 64Hz ~= 0.015625 s\n",
    "bvp = pd.read_csv('data/BVP.csv', header= None)\n",
    "bvp.columns  = ['bvp']\n",
    "print(len(bvp))\n",
    "bvp.head()"
   ]
  },
  {
   "cell_type": "code",
   "execution_count": 8,
   "metadata": {},
   "outputs": [
    {
     "name": "stdout",
     "output_type": "stream",
     "text": [
      "bvp    1.522203e+09\n",
      "Name: 0, dtype: float64\n"
     ]
    }
   ],
   "source": [
    "print(bvp.iloc[0])"
   ]
  },
  {
   "cell_type": "code",
   "execution_count": 10,
   "metadata": {},
   "outputs": [
    {
     "data": {
      "text/plain": [
       "'2018-03-28 02:05:40'"
      ]
     },
     "execution_count": 10,
     "metadata": {},
     "output_type": "execute_result"
    }
   ],
   "source": [
    "init_time = datetime.datetime.utcfromtimestamp(bvp.iloc[0]).strftime('%Y-%m-%d %H:%M:%S')\n",
    "init_time"
   ]
  },
  {
   "cell_type": "markdown",
   "metadata": {},
   "source": [
    "## EDA dataframe"
   ]
  },
  {
   "cell_type": "code",
   "execution_count": 74,
   "metadata": {},
   "outputs": [
    {
     "name": "stdout",
     "output_type": "stream",
     "text": [
      "150164\n",
      "Index(['eda'], dtype='object')\n",
      "freq:  [1.]\n"
     ]
    },
    {
     "data": {
      "text/html": [
       "<div>\n",
       "<style scoped>\n",
       "    .dataframe tbody tr th:only-of-type {\n",
       "        vertical-align: middle;\n",
       "    }\n",
       "\n",
       "    .dataframe tbody tr th {\n",
       "        vertical-align: top;\n",
       "    }\n",
       "\n",
       "    .dataframe thead th {\n",
       "        text-align: right;\n",
       "    }\n",
       "</style>\n",
       "<table border=\"1\" class=\"dataframe\">\n",
       "  <thead>\n",
       "    <tr style=\"text-align: right;\">\n",
       "      <th></th>\n",
       "      <th>eda</th>\n",
       "    </tr>\n",
       "  </thead>\n",
       "  <tbody>\n",
       "    <tr>\n",
       "      <th>0</th>\n",
       "      <td>1.522203e+09</td>\n",
       "    </tr>\n",
       "    <tr>\n",
       "      <th>1</th>\n",
       "      <td>4.000000e+00</td>\n",
       "    </tr>\n",
       "    <tr>\n",
       "      <th>2</th>\n",
       "      <td>0.000000e+00</td>\n",
       "    </tr>\n",
       "    <tr>\n",
       "      <th>3</th>\n",
       "      <td>1.153060e-01</td>\n",
       "    </tr>\n",
       "    <tr>\n",
       "      <th>4</th>\n",
       "      <td>1.691150e-01</td>\n",
       "    </tr>\n",
       "    <tr>\n",
       "      <th>5</th>\n",
       "      <td>1.742400e-01</td>\n",
       "    </tr>\n",
       "    <tr>\n",
       "      <th>6</th>\n",
       "      <td>1.742400e-01</td>\n",
       "    </tr>\n",
       "    <tr>\n",
       "      <th>7</th>\n",
       "      <td>1.755210e-01</td>\n",
       "    </tr>\n",
       "    <tr>\n",
       "      <th>8</th>\n",
       "      <td>1.768020e-01</td>\n",
       "    </tr>\n",
       "    <tr>\n",
       "      <th>9</th>\n",
       "      <td>1.768020e-01</td>\n",
       "    </tr>\n",
       "  </tbody>\n",
       "</table>\n",
       "</div>"
      ],
      "text/plain": [
       "            eda\n",
       "0  1.522203e+09\n",
       "1  4.000000e+00\n",
       "2  0.000000e+00\n",
       "3  1.153060e-01\n",
       "4  1.691150e-01\n",
       "5  1.742400e-01\n",
       "6  1.742400e-01\n",
       "7  1.755210e-01\n",
       "8  1.768020e-01\n",
       "9  1.768020e-01"
      ]
     },
     "execution_count": 74,
     "metadata": {},
     "output_type": "execute_result"
    }
   ],
   "source": [
    "# Sampling frequency 4Hz ~= 0.25s\n",
    "eda = pd.read_csv('data/EDA.csv', header= None)\n",
    "eda.columns  = ['eda']\n",
    "# eda = eda.rolling(4).sum()\n",
    "# eda = eda.dropna().reset_index(drop = True)\n",
    "eda_freq = eda.iloc[1].values\n",
    "print(len(eda))\n",
    "print(eda.columns)\n",
    "print('freq: ', freq)\n",
    "eda.head(10)"
   ]
  },
  {
   "cell_type": "code",
   "execution_count": 75,
   "metadata": {},
   "outputs": [
    {
     "data": {
      "text/html": [
       "<div>\n",
       "<style scoped>\n",
       "    .dataframe tbody tr th:only-of-type {\n",
       "        vertical-align: middle;\n",
       "    }\n",
       "\n",
       "    .dataframe tbody tr th {\n",
       "        vertical-align: top;\n",
       "    }\n",
       "\n",
       "    .dataframe thead th {\n",
       "        text-align: right;\n",
       "    }\n",
       "</style>\n",
       "<table border=\"1\" class=\"dataframe\">\n",
       "  <thead>\n",
       "    <tr style=\"text-align: right;\">\n",
       "      <th></th>\n",
       "      <th>eda</th>\n",
       "    </tr>\n",
       "  </thead>\n",
       "  <tbody>\n",
       "    <tr>\n",
       "      <th>2</th>\n",
       "      <td>0.000000</td>\n",
       "    </tr>\n",
       "    <tr>\n",
       "      <th>3</th>\n",
       "      <td>0.115306</td>\n",
       "    </tr>\n",
       "    <tr>\n",
       "      <th>4</th>\n",
       "      <td>0.169115</td>\n",
       "    </tr>\n",
       "    <tr>\n",
       "      <th>5</th>\n",
       "      <td>0.174240</td>\n",
       "    </tr>\n",
       "    <tr>\n",
       "      <th>6</th>\n",
       "      <td>0.174240</td>\n",
       "    </tr>\n",
       "  </tbody>\n",
       "</table>\n",
       "</div>"
      ],
      "text/plain": [
       "        eda\n",
       "2  0.000000\n",
       "3  0.115306\n",
       "4  0.169115\n",
       "5  0.174240\n",
       "6  0.174240"
      ]
     },
     "execution_count": 75,
     "metadata": {},
     "output_type": "execute_result"
    }
   ],
   "source": [
    "eda = eda.iloc[2:]\n",
    "eda.head(5)"
   ]
  },
  {
   "cell_type": "code",
   "execution_count": 76,
   "metadata": {},
   "outputs": [
    {
     "data": {
      "text/plain": [
       "'4.0H'"
      ]
     },
     "execution_count": 76,
     "metadata": {},
     "output_type": "execute_result"
    }
   ],
   "source": [
    "str(float(eda_freq))+'H'"
   ]
  },
  {
   "cell_type": "code",
   "execution_count": 77,
   "metadata": {},
   "outputs": [
    {
     "data": {
      "text/plain": [
       "DatetimeIndex([       '2018-03-28 02:05:40', '2018-03-28 02:05:40.250000',\n",
       "               '2018-03-28 02:05:40.500000', '2018-03-28 02:05:40.750000',\n",
       "                      '2018-03-28 02:05:41', '2018-03-28 02:05:41.250000',\n",
       "               '2018-03-28 02:05:41.500000', '2018-03-28 02:05:41.750000',\n",
       "                      '2018-03-28 02:05:42', '2018-03-28 02:05:42.250000',\n",
       "               ...\n",
       "                      '2018-03-28 12:31:18', '2018-03-28 12:31:18.250000',\n",
       "               '2018-03-28 12:31:18.500000', '2018-03-28 12:31:18.750000',\n",
       "                      '2018-03-28 12:31:19', '2018-03-28 12:31:19.250000',\n",
       "               '2018-03-28 12:31:19.500000', '2018-03-28 12:31:19.750000',\n",
       "                      '2018-03-28 12:31:20', '2018-03-28 12:31:20.250000'],\n",
       "              dtype='datetime64[ns]', length=150162, freq='250L')"
      ]
     },
     "execution_count": 77,
     "metadata": {},
     "output_type": "execute_result"
    }
   ],
   "source": [
    "#create index \n",
    "time_eda = pd.date_range(start=init_time, periods=len(eda), freq=str(1/int(eda_freq))+'S')\n",
    "time_eda"
   ]
  },
  {
   "cell_type": "code",
   "execution_count": 78,
   "metadata": {},
   "outputs": [
    {
     "data": {
      "text/html": [
       "<div>\n",
       "<style scoped>\n",
       "    .dataframe tbody tr th:only-of-type {\n",
       "        vertical-align: middle;\n",
       "    }\n",
       "\n",
       "    .dataframe tbody tr th {\n",
       "        vertical-align: top;\n",
       "    }\n",
       "\n",
       "    .dataframe thead th {\n",
       "        text-align: right;\n",
       "    }\n",
       "</style>\n",
       "<table border=\"1\" class=\"dataframe\">\n",
       "  <thead>\n",
       "    <tr style=\"text-align: right;\">\n",
       "      <th></th>\n",
       "      <th>eda</th>\n",
       "    </tr>\n",
       "  </thead>\n",
       "  <tbody>\n",
       "    <tr>\n",
       "      <th>2018-03-28 02:05:40.000</th>\n",
       "      <td>0.000000</td>\n",
       "    </tr>\n",
       "    <tr>\n",
       "      <th>2018-03-28 02:05:40.250</th>\n",
       "      <td>0.115306</td>\n",
       "    </tr>\n",
       "    <tr>\n",
       "      <th>2018-03-28 02:05:40.500</th>\n",
       "      <td>0.169115</td>\n",
       "    </tr>\n",
       "    <tr>\n",
       "      <th>2018-03-28 02:05:40.750</th>\n",
       "      <td>0.174240</td>\n",
       "    </tr>\n",
       "    <tr>\n",
       "      <th>2018-03-28 02:05:41.000</th>\n",
       "      <td>0.174240</td>\n",
       "    </tr>\n",
       "  </tbody>\n",
       "</table>\n",
       "</div>"
      ],
      "text/plain": [
       "                              eda\n",
       "2018-03-28 02:05:40.000  0.000000\n",
       "2018-03-28 02:05:40.250  0.115306\n",
       "2018-03-28 02:05:40.500  0.169115\n",
       "2018-03-28 02:05:40.750  0.174240\n",
       "2018-03-28 02:05:41.000  0.174240"
      ]
     },
     "execution_count": 78,
     "metadata": {},
     "output_type": "execute_result"
    }
   ],
   "source": [
    "eda=eda.set_index(time_eda, drop =True)\n",
    "eda.head()"
   ]
  },
  {
   "cell_type": "code",
   "execution_count": 79,
   "metadata": {
    "scrolled": true
   },
   "outputs": [
    {
     "name": "stdout",
     "output_type": "stream",
     "text": [
      "37540\n"
     ]
    },
    {
     "data": {
      "text/html": [
       "<div>\n",
       "<style scoped>\n",
       "    .dataframe tbody tr th:only-of-type {\n",
       "        vertical-align: middle;\n",
       "    }\n",
       "\n",
       "    .dataframe tbody tr th {\n",
       "        vertical-align: top;\n",
       "    }\n",
       "\n",
       "    .dataframe thead th {\n",
       "        text-align: right;\n",
       "    }\n",
       "</style>\n",
       "<table border=\"1\" class=\"dataframe\">\n",
       "  <thead>\n",
       "    <tr style=\"text-align: right;\">\n",
       "      <th></th>\n",
       "      <th>eda</th>\n",
       "    </tr>\n",
       "  </thead>\n",
       "  <tbody>\n",
       "    <tr>\n",
       "      <th>2018-03-28 02:05:41</th>\n",
       "      <td>0.632901</td>\n",
       "    </tr>\n",
       "    <tr>\n",
       "      <th>2018-03-28 02:05:42</th>\n",
       "      <td>0.704646</td>\n",
       "    </tr>\n",
       "    <tr>\n",
       "      <th>2018-03-28 02:05:43</th>\n",
       "      <td>0.709772</td>\n",
       "    </tr>\n",
       "    <tr>\n",
       "      <th>2018-03-28 02:05:44</th>\n",
       "      <td>0.709772</td>\n",
       "    </tr>\n",
       "    <tr>\n",
       "      <th>2018-03-28 02:05:45</th>\n",
       "      <td>0.700803</td>\n",
       "    </tr>\n",
       "  </tbody>\n",
       "</table>\n",
       "</div>"
      ],
      "text/plain": [
       "                          eda\n",
       "2018-03-28 02:05:41  0.632901\n",
       "2018-03-28 02:05:42  0.704646\n",
       "2018-03-28 02:05:43  0.709772\n",
       "2018-03-28 02:05:44  0.709772\n",
       "2018-03-28 02:05:45  0.700803"
      ]
     },
     "execution_count": 79,
     "metadata": {},
     "output_type": "execute_result"
    }
   ],
   "source": [
    "eda = eda.rolling(4).sum()\n",
    "eda = eda.iloc[::4,:]\n",
    "eda = eda.dropna()\n",
    "print(len(eda))\n",
    "eda.head()"
   ]
  },
  {
   "cell_type": "markdown",
   "metadata": {},
   "source": [
    "## HR dataframe"
   ]
  },
  {
   "cell_type": "code",
   "execution_count": 71,
   "metadata": {},
   "outputs": [
    {
     "name": "stdout",
     "output_type": "stream",
     "text": [
      "37534\n",
      "freq:  [1.]\n"
     ]
    },
    {
     "data": {
      "text/html": [
       "<div>\n",
       "<style scoped>\n",
       "    .dataframe tbody tr th:only-of-type {\n",
       "        vertical-align: middle;\n",
       "    }\n",
       "\n",
       "    .dataframe tbody tr th {\n",
       "        vertical-align: top;\n",
       "    }\n",
       "\n",
       "    .dataframe thead th {\n",
       "        text-align: right;\n",
       "    }\n",
       "</style>\n",
       "<table border=\"1\" class=\"dataframe\">\n",
       "  <thead>\n",
       "    <tr style=\"text-align: right;\">\n",
       "      <th></th>\n",
       "      <th>hr</th>\n",
       "    </tr>\n",
       "  </thead>\n",
       "  <tbody>\n",
       "    <tr>\n",
       "      <th>0</th>\n",
       "      <td>1.522203e+09</td>\n",
       "    </tr>\n",
       "    <tr>\n",
       "      <th>1</th>\n",
       "      <td>1.000000e+00</td>\n",
       "    </tr>\n",
       "    <tr>\n",
       "      <th>2</th>\n",
       "      <td>5.500000e+01</td>\n",
       "    </tr>\n",
       "    <tr>\n",
       "      <th>3</th>\n",
       "      <td>6.400000e+01</td>\n",
       "    </tr>\n",
       "    <tr>\n",
       "      <th>4</th>\n",
       "      <td>6.000000e+01</td>\n",
       "    </tr>\n",
       "  </tbody>\n",
       "</table>\n",
       "</div>"
      ],
      "text/plain": [
       "             hr\n",
       "0  1.522203e+09\n",
       "1  1.000000e+00\n",
       "2  5.500000e+01\n",
       "3  6.400000e+01\n",
       "4  6.000000e+01"
      ]
     },
     "execution_count": 71,
     "metadata": {},
     "output_type": "execute_result"
    }
   ],
   "source": [
    "# Sampling frequency 1Hz ~= 1s\n",
    "hr = pd.read_csv('data/HR.csv', header= None)\n",
    "hr.columns  = ['hr']\n",
    "hr_freq = hr.iloc[1].values\n",
    "print(len(hr))\n",
    "print('freq: ', freq)\n",
    "hr.head()"
   ]
  },
  {
   "cell_type": "code",
   "execution_count": 72,
   "metadata": {},
   "outputs": [
    {
     "data": {
      "text/html": [
       "<div>\n",
       "<style scoped>\n",
       "    .dataframe tbody tr th:only-of-type {\n",
       "        vertical-align: middle;\n",
       "    }\n",
       "\n",
       "    .dataframe tbody tr th {\n",
       "        vertical-align: top;\n",
       "    }\n",
       "\n",
       "    .dataframe thead th {\n",
       "        text-align: right;\n",
       "    }\n",
       "</style>\n",
       "<table border=\"1\" class=\"dataframe\">\n",
       "  <thead>\n",
       "    <tr style=\"text-align: right;\">\n",
       "      <th></th>\n",
       "      <th>hr</th>\n",
       "    </tr>\n",
       "  </thead>\n",
       "  <tbody>\n",
       "    <tr>\n",
       "      <th>2</th>\n",
       "      <td>55.00</td>\n",
       "    </tr>\n",
       "    <tr>\n",
       "      <th>3</th>\n",
       "      <td>64.00</td>\n",
       "    </tr>\n",
       "    <tr>\n",
       "      <th>4</th>\n",
       "      <td>60.00</td>\n",
       "    </tr>\n",
       "    <tr>\n",
       "      <th>5</th>\n",
       "      <td>60.25</td>\n",
       "    </tr>\n",
       "    <tr>\n",
       "      <th>6</th>\n",
       "      <td>58.60</td>\n",
       "    </tr>\n",
       "  </tbody>\n",
       "</table>\n",
       "</div>"
      ],
      "text/plain": [
       "      hr\n",
       "2  55.00\n",
       "3  64.00\n",
       "4  60.00\n",
       "5  60.25\n",
       "6  58.60"
      ]
     },
     "execution_count": 72,
     "metadata": {},
     "output_type": "execute_result"
    }
   ],
   "source": [
    "hr = hr.iloc[2:]\n",
    "hr.head()"
   ]
  },
  {
   "cell_type": "code",
   "execution_count": 73,
   "metadata": {},
   "outputs": [
    {
     "data": {
      "text/plain": [
       "DatetimeIndex(['2018-03-28 02:05:40', '2018-03-28 02:05:41',\n",
       "               '2018-03-28 02:05:42', '2018-03-28 02:05:43',\n",
       "               '2018-03-28 02:05:44', '2018-03-28 02:05:45',\n",
       "               '2018-03-28 02:05:46', '2018-03-28 02:05:47',\n",
       "               '2018-03-28 02:05:48', '2018-03-28 02:05:49',\n",
       "               ...\n",
       "               '2018-03-28 12:31:02', '2018-03-28 12:31:03',\n",
       "               '2018-03-28 12:31:04', '2018-03-28 12:31:05',\n",
       "               '2018-03-28 12:31:06', '2018-03-28 12:31:07',\n",
       "               '2018-03-28 12:31:08', '2018-03-28 12:31:09',\n",
       "               '2018-03-28 12:31:10', '2018-03-28 12:31:11'],\n",
       "              dtype='datetime64[ns]', length=37532, freq='S')"
      ]
     },
     "execution_count": 73,
     "metadata": {},
     "output_type": "execute_result"
    }
   ],
   "source": [
    "time_hr = pd.date_range(start=init_time, periods=len(hr), freq=str(1/float(hr_freq))+'S')\n",
    "time_hr"
   ]
  },
  {
   "cell_type": "code",
   "execution_count": 62,
   "metadata": {
    "scrolled": true
   },
   "outputs": [
    {
     "name": "stdout",
     "output_type": "stream",
     "text": [
      "37532\n"
     ]
    },
    {
     "data": {
      "text/html": [
       "<div>\n",
       "<style scoped>\n",
       "    .dataframe tbody tr th:only-of-type {\n",
       "        vertical-align: middle;\n",
       "    }\n",
       "\n",
       "    .dataframe tbody tr th {\n",
       "        vertical-align: top;\n",
       "    }\n",
       "\n",
       "    .dataframe thead th {\n",
       "        text-align: right;\n",
       "    }\n",
       "</style>\n",
       "<table border=\"1\" class=\"dataframe\">\n",
       "  <thead>\n",
       "    <tr style=\"text-align: right;\">\n",
       "      <th></th>\n",
       "      <th>hr</th>\n",
       "    </tr>\n",
       "  </thead>\n",
       "  <tbody>\n",
       "    <tr>\n",
       "      <th>2018-03-28 02:05:40</th>\n",
       "      <td>55.00</td>\n",
       "    </tr>\n",
       "    <tr>\n",
       "      <th>2018-03-28 03:05:40</th>\n",
       "      <td>64.00</td>\n",
       "    </tr>\n",
       "    <tr>\n",
       "      <th>2018-03-28 04:05:40</th>\n",
       "      <td>60.00</td>\n",
       "    </tr>\n",
       "    <tr>\n",
       "      <th>2018-03-28 05:05:40</th>\n",
       "      <td>60.25</td>\n",
       "    </tr>\n",
       "    <tr>\n",
       "      <th>2018-03-28 06:05:40</th>\n",
       "      <td>58.60</td>\n",
       "    </tr>\n",
       "  </tbody>\n",
       "</table>\n",
       "</div>"
      ],
      "text/plain": [
       "                        hr\n",
       "2018-03-28 02:05:40  55.00\n",
       "2018-03-28 03:05:40  64.00\n",
       "2018-03-28 04:05:40  60.00\n",
       "2018-03-28 05:05:40  60.25\n",
       "2018-03-28 06:05:40  58.60"
      ]
     },
     "execution_count": 62,
     "metadata": {},
     "output_type": "execute_result"
    }
   ],
   "source": [
    "hr = hr.set_index(time_hr, drop =True)\n",
    "\n",
    "print(len(hr))\n",
    "hr.head()"
   ]
  },
  {
   "cell_type": "markdown",
   "metadata": {},
   "source": [
    "## Temperature dataframe"
   ]
  },
  {
   "cell_type": "code",
   "execution_count": 99,
   "metadata": {},
   "outputs": [
    {
     "name": "stdout",
     "output_type": "stream",
     "text": [
      "150162\n",
      "Index(['temp'], dtype='object')\n",
      "temp_freq:  temp    4.0\n",
      "Name: 1, dtype: float64\n"
     ]
    },
    {
     "data": {
      "text/html": [
       "<div>\n",
       "<style scoped>\n",
       "    .dataframe tbody tr th:only-of-type {\n",
       "        vertical-align: middle;\n",
       "    }\n",
       "\n",
       "    .dataframe tbody tr th {\n",
       "        vertical-align: top;\n",
       "    }\n",
       "\n",
       "    .dataframe thead th {\n",
       "        text-align: right;\n",
       "    }\n",
       "</style>\n",
       "<table border=\"1\" class=\"dataframe\">\n",
       "  <thead>\n",
       "    <tr style=\"text-align: right;\">\n",
       "      <th></th>\n",
       "      <th>temp</th>\n",
       "    </tr>\n",
       "  </thead>\n",
       "  <tbody>\n",
       "    <tr>\n",
       "      <th>0</th>\n",
       "      <td>1.522203e+09</td>\n",
       "    </tr>\n",
       "    <tr>\n",
       "      <th>1</th>\n",
       "      <td>4.000000e+00</td>\n",
       "    </tr>\n",
       "    <tr>\n",
       "      <th>2</th>\n",
       "      <td>3.495000e+01</td>\n",
       "    </tr>\n",
       "    <tr>\n",
       "      <th>3</th>\n",
       "      <td>3.495000e+01</td>\n",
       "    </tr>\n",
       "    <tr>\n",
       "      <th>4</th>\n",
       "      <td>3.495000e+01</td>\n",
       "    </tr>\n",
       "  </tbody>\n",
       "</table>\n",
       "</div>"
      ],
      "text/plain": [
       "           temp\n",
       "0  1.522203e+09\n",
       "1  4.000000e+00\n",
       "2  3.495000e+01\n",
       "3  3.495000e+01\n",
       "4  3.495000e+01"
      ]
     },
     "execution_count": 99,
     "metadata": {},
     "output_type": "execute_result"
    }
   ],
   "source": [
    "# Sampling frequency 4Hz ~= 0.25s\n",
    "temp = pd.read_csv('data/TEMP.csv', header= None)\n",
    "temp.columns  = ['temp']\n",
    "# temp = temp.rolling(4).sum()\n",
    "temp_freq = temp.iloc[1]\n",
    "# temp = temp.dropna().reset_index(drop = True)\n",
    "temp.columns = ['temp']\n",
    "print(len(temp))\n",
    "print(temp.columns)\n",
    "print('temp_freq: ', temp_freq)\n",
    "temp.head()"
   ]
  },
  {
   "cell_type": "code",
   "execution_count": 100,
   "metadata": {},
   "outputs": [
    {
     "data": {
      "text/html": [
       "<div>\n",
       "<style scoped>\n",
       "    .dataframe tbody tr th:only-of-type {\n",
       "        vertical-align: middle;\n",
       "    }\n",
       "\n",
       "    .dataframe tbody tr th {\n",
       "        vertical-align: top;\n",
       "    }\n",
       "\n",
       "    .dataframe thead th {\n",
       "        text-align: right;\n",
       "    }\n",
       "</style>\n",
       "<table border=\"1\" class=\"dataframe\">\n",
       "  <thead>\n",
       "    <tr style=\"text-align: right;\">\n",
       "      <th></th>\n",
       "      <th>temp</th>\n",
       "    </tr>\n",
       "  </thead>\n",
       "  <tbody>\n",
       "    <tr>\n",
       "      <th>2</th>\n",
       "      <td>34.95</td>\n",
       "    </tr>\n",
       "    <tr>\n",
       "      <th>3</th>\n",
       "      <td>34.95</td>\n",
       "    </tr>\n",
       "    <tr>\n",
       "      <th>4</th>\n",
       "      <td>34.95</td>\n",
       "    </tr>\n",
       "    <tr>\n",
       "      <th>5</th>\n",
       "      <td>34.95</td>\n",
       "    </tr>\n",
       "    <tr>\n",
       "      <th>6</th>\n",
       "      <td>34.95</td>\n",
       "    </tr>\n",
       "  </tbody>\n",
       "</table>\n",
       "</div>"
      ],
      "text/plain": [
       "    temp\n",
       "2  34.95\n",
       "3  34.95\n",
       "4  34.95\n",
       "5  34.95\n",
       "6  34.95"
      ]
     },
     "execution_count": 100,
     "metadata": {},
     "output_type": "execute_result"
    }
   ],
   "source": [
    "temp = temp.iloc[2:]\n",
    "temp.head()"
   ]
  },
  {
   "cell_type": "code",
   "execution_count": 101,
   "metadata": {},
   "outputs": [
    {
     "data": {
      "text/plain": [
       "DatetimeIndex([       '2018-03-28 02:05:40', '2018-03-28 02:05:40.250000',\n",
       "               '2018-03-28 02:05:40.500000', '2018-03-28 02:05:40.750000',\n",
       "                      '2018-03-28 02:05:41', '2018-03-28 02:05:41.250000',\n",
       "               '2018-03-28 02:05:41.500000', '2018-03-28 02:05:41.750000',\n",
       "                      '2018-03-28 02:05:42', '2018-03-28 02:05:42.250000',\n",
       "               ...\n",
       "               '2018-03-28 12:31:17.500000', '2018-03-28 12:31:17.750000',\n",
       "                      '2018-03-28 12:31:18', '2018-03-28 12:31:18.250000',\n",
       "               '2018-03-28 12:31:18.500000', '2018-03-28 12:31:18.750000',\n",
       "                      '2018-03-28 12:31:19', '2018-03-28 12:31:19.250000',\n",
       "               '2018-03-28 12:31:19.500000', '2018-03-28 12:31:19.750000'],\n",
       "              dtype='datetime64[ns]', length=150160, freq='250L')"
      ]
     },
     "execution_count": 101,
     "metadata": {},
     "output_type": "execute_result"
    }
   ],
   "source": [
    "time_temp = pd.date_range(start=init_time, periods=len(temp), freq=str(1/int(temp_freq))+'S')\n",
    "time_temp"
   ]
  },
  {
   "cell_type": "code",
   "execution_count": 102,
   "metadata": {},
   "outputs": [
    {
     "data": {
      "text/html": [
       "<div>\n",
       "<style scoped>\n",
       "    .dataframe tbody tr th:only-of-type {\n",
       "        vertical-align: middle;\n",
       "    }\n",
       "\n",
       "    .dataframe tbody tr th {\n",
       "        vertical-align: top;\n",
       "    }\n",
       "\n",
       "    .dataframe thead th {\n",
       "        text-align: right;\n",
       "    }\n",
       "</style>\n",
       "<table border=\"1\" class=\"dataframe\">\n",
       "  <thead>\n",
       "    <tr style=\"text-align: right;\">\n",
       "      <th></th>\n",
       "      <th>temp</th>\n",
       "    </tr>\n",
       "  </thead>\n",
       "  <tbody>\n",
       "    <tr>\n",
       "      <th>2018-03-28 02:05:40.000</th>\n",
       "      <td>34.95</td>\n",
       "    </tr>\n",
       "    <tr>\n",
       "      <th>2018-03-28 02:05:40.250</th>\n",
       "      <td>34.95</td>\n",
       "    </tr>\n",
       "    <tr>\n",
       "      <th>2018-03-28 02:05:40.500</th>\n",
       "      <td>34.95</td>\n",
       "    </tr>\n",
       "    <tr>\n",
       "      <th>2018-03-28 02:05:40.750</th>\n",
       "      <td>34.95</td>\n",
       "    </tr>\n",
       "    <tr>\n",
       "      <th>2018-03-28 02:05:41.000</th>\n",
       "      <td>34.95</td>\n",
       "    </tr>\n",
       "  </tbody>\n",
       "</table>\n",
       "</div>"
      ],
      "text/plain": [
       "                          temp\n",
       "2018-03-28 02:05:40.000  34.95\n",
       "2018-03-28 02:05:40.250  34.95\n",
       "2018-03-28 02:05:40.500  34.95\n",
       "2018-03-28 02:05:40.750  34.95\n",
       "2018-03-28 02:05:41.000  34.95"
      ]
     },
     "execution_count": 102,
     "metadata": {},
     "output_type": "execute_result"
    }
   ],
   "source": [
    "temp = temp.set_index(time_temp, drop = True)\n",
    "temp.head()"
   ]
  },
  {
   "cell_type": "code",
   "execution_count": 103,
   "metadata": {},
   "outputs": [
    {
     "name": "stdout",
     "output_type": "stream",
     "text": [
      "37540\n"
     ]
    },
    {
     "data": {
      "text/html": [
       "<div>\n",
       "<style scoped>\n",
       "    .dataframe tbody tr th:only-of-type {\n",
       "        vertical-align: middle;\n",
       "    }\n",
       "\n",
       "    .dataframe tbody tr th {\n",
       "        vertical-align: top;\n",
       "    }\n",
       "\n",
       "    .dataframe thead th {\n",
       "        text-align: right;\n",
       "    }\n",
       "</style>\n",
       "<table border=\"1\" class=\"dataframe\">\n",
       "  <thead>\n",
       "    <tr style=\"text-align: right;\">\n",
       "      <th></th>\n",
       "      <th>temp</th>\n",
       "    </tr>\n",
       "  </thead>\n",
       "  <tbody>\n",
       "    <tr>\n",
       "      <th>2018-03-28 02:05:40</th>\n",
       "      <td>34.95</td>\n",
       "    </tr>\n",
       "    <tr>\n",
       "      <th>2018-03-28 02:05:41</th>\n",
       "      <td>34.95</td>\n",
       "    </tr>\n",
       "    <tr>\n",
       "      <th>2018-03-28 02:05:42</th>\n",
       "      <td>34.93</td>\n",
       "    </tr>\n",
       "    <tr>\n",
       "      <th>2018-03-28 02:05:43</th>\n",
       "      <td>34.89</td>\n",
       "    </tr>\n",
       "    <tr>\n",
       "      <th>2018-03-28 02:05:44</th>\n",
       "      <td>34.91</td>\n",
       "    </tr>\n",
       "  </tbody>\n",
       "</table>\n",
       "</div>"
      ],
      "text/plain": [
       "                      temp\n",
       "2018-03-28 02:05:40  34.95\n",
       "2018-03-28 02:05:41  34.95\n",
       "2018-03-28 02:05:42  34.93\n",
       "2018-03-28 02:05:43  34.89\n",
       "2018-03-28 02:05:44  34.91"
      ]
     },
     "execution_count": 103,
     "metadata": {},
     "output_type": "execute_result"
    }
   ],
   "source": [
    "# temp = temp.rolling(4).sum()\n",
    "temp = temp.iloc[::4,:]\n",
    "print(len(temp))\n",
    "temp.head()"
   ]
  },
  {
   "cell_type": "code",
   "execution_count": 104,
   "metadata": {},
   "outputs": [],
   "source": [
    "drop_eda = len(eda) - len(hr)\n",
    "drop_temp = len(temp)  - len(hr)\n",
    "eda = eda[:-drop_eda]\n",
    "temp = temp[:-drop_temp]"
   ]
  },
  {
   "cell_type": "code",
   "execution_count": 105,
   "metadata": {},
   "outputs": [
    {
     "name": "stdout",
     "output_type": "stream",
     "text": [
      "0\n",
      "37532\n",
      "37532\n"
     ]
    }
   ],
   "source": [
    "print(len(eda))\n",
    "print(len(hr))\n",
    "print(len(temp))"
   ]
  },
  {
   "cell_type": "code",
   "execution_count": 10,
   "metadata": {},
   "outputs": [
    {
     "data": {
      "text/html": [
       "<div>\n",
       "<style scoped>\n",
       "    .dataframe tbody tr th:only-of-type {\n",
       "        vertical-align: middle;\n",
       "    }\n",
       "\n",
       "    .dataframe tbody tr th {\n",
       "        vertical-align: top;\n",
       "    }\n",
       "\n",
       "    .dataframe thead th {\n",
       "        text-align: right;\n",
       "    }\n",
       "</style>\n",
       "<table border=\"1\" class=\"dataframe\">\n",
       "  <thead>\n",
       "    <tr style=\"text-align: right;\">\n",
       "      <th></th>\n",
       "      <th>eda</th>\n",
       "      <th>hr</th>\n",
       "      <th>temp</th>\n",
       "    </tr>\n",
       "  </thead>\n",
       "  <tbody>\n",
       "    <tr>\n",
       "      <th>0</th>\n",
       "      <td>1.522203e+09</td>\n",
       "      <td>1.522203e+09</td>\n",
       "      <td>1.522203e+09</td>\n",
       "    </tr>\n",
       "    <tr>\n",
       "      <th>1</th>\n",
       "      <td>6.931160e-01</td>\n",
       "      <td>1.000000e+00</td>\n",
       "      <td>1.398000e+02</td>\n",
       "    </tr>\n",
       "    <tr>\n",
       "      <th>2</th>\n",
       "      <td>7.059270e-01</td>\n",
       "      <td>5.500000e+01</td>\n",
       "      <td>1.397600e+02</td>\n",
       "    </tr>\n",
       "    <tr>\n",
       "      <th>3</th>\n",
       "      <td>7.110540e-01</td>\n",
       "      <td>6.400000e+01</td>\n",
       "      <td>1.396400e+02</td>\n",
       "    </tr>\n",
       "    <tr>\n",
       "      <th>4</th>\n",
       "      <td>7.072090e-01</td>\n",
       "      <td>6.000000e+01</td>\n",
       "      <td>1.396000e+02</td>\n",
       "    </tr>\n",
       "  </tbody>\n",
       "</table>\n",
       "</div>"
      ],
      "text/plain": [
       "            eda            hr          temp\n",
       "0  1.522203e+09  1.522203e+09  1.522203e+09\n",
       "1  6.931160e-01  1.000000e+00  1.398000e+02\n",
       "2  7.059270e-01  5.500000e+01  1.397600e+02\n",
       "3  7.110540e-01  6.400000e+01  1.396400e+02\n",
       "4  7.072090e-01  6.000000e+01  1.396000e+02"
      ]
     },
     "execution_count": 10,
     "metadata": {},
     "output_type": "execute_result"
    }
   ],
   "source": [
    "df = pd.concat([eda, hr, temp], axis = 1)\n",
    "df.head()"
   ]
  },
  {
   "cell_type": "markdown",
   "metadata": {},
   "source": [
    "## TensorFlow Dataset"
   ]
  },
  {
   "cell_type": "code",
   "execution_count": null,
   "metadata": {},
   "outputs": [],
   "source": []
  },
  {
   "cell_type": "code",
   "execution_count": null,
   "metadata": {},
   "outputs": [],
   "source": []
  },
  {
   "cell_type": "code",
   "execution_count": null,
   "metadata": {},
   "outputs": [],
   "source": []
  },
  {
   "cell_type": "code",
   "execution_count": null,
   "metadata": {},
   "outputs": [],
   "source": []
  },
  {
   "cell_type": "code",
   "execution_count": null,
   "metadata": {},
   "outputs": [],
   "source": []
  },
  {
   "cell_type": "code",
   "execution_count": null,
   "metadata": {},
   "outputs": [],
   "source": []
  },
  {
   "cell_type": "code",
   "execution_count": null,
   "metadata": {},
   "outputs": [],
   "source": []
  }
 ],
 "metadata": {
  "kernelspec": {
   "display_name": "Python 3",
   "language": "python",
   "name": "python3"
  },
  "language_info": {
   "codemirror_mode": {
    "name": "ipython",
    "version": 3
   },
   "file_extension": ".py",
   "mimetype": "text/x-python",
   "name": "python",
   "nbconvert_exporter": "python",
   "pygments_lexer": "ipython3",
   "version": "3.5.2"
  }
 },
 "nbformat": 4,
 "nbformat_minor": 2
}
